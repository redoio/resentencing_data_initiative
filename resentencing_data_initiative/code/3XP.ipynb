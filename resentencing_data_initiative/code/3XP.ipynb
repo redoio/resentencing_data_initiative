{
  "cells": [
    {
      "cell_type": "markdown",
      "metadata": {
        "id": "vcejsF0NCVmz"
      },
      "source": [
        "#Run .py files"
      ]
    },
    {
      "cell_type": "code",
      "source": [
        "from google.colab import drive\n",
        "drive.mount('/content/drive')"
      ],
      "metadata": {
        "id": "2wRBmD6zKBYp"
      },
      "execution_count": null,
      "outputs": []
    },
    {
      "cell_type": "code",
      "source": [
        "!git clone https://github.com/redoio/three_strikes_project/"
      ],
      "metadata": {
        "id": "XU2pub1HFecP"
      },
      "execution_count": null,
      "outputs": []
    },
    {
      "cell_type": "code",
      "execution_count": null,
      "metadata": {
        "id": "X1reaEGkCVm0"
      },
      "outputs": [],
      "source": [
        "!python three_strikes_project/resentencing_data_initiative/code/run.py"
      ]
    }
]}
