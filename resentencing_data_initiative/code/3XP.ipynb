{
  "cells": [
    {
      "cell_type": "markdown",
      "metadata": {
        "id": "vcejsF0NCVmz"
      },
      "source": [
        "#Run .py files"
      ]
    },
    {
      "cell_type": "code",
      "source": [
        "from google.colab import drive\n",
        "drive.mount('/content/drive')"
      ],
      "metadata": {
        "id": "2wRBmD6zKBYp"
      },
      "execution_count": null,
      "outputs": []
    },
    {
      "cell_type": "code",
      "source": [
        "!git clone https://github.com/redoio/three_strikes_project/"
      ],
      "metadata": {
        "id": "XU2pub1HFecP"
      },
      "execution_count": null,
      "outputs": []
    },
    {
      "cell_type": "code",
      "execution_count": null,
      "metadata": {
        "id": "X1reaEGkCVm0"
      },
      "outputs": [],
      "source": [
        "!python three_strikes_project/resentencing_data_initiative/code/run.py"
      ]
    },
    {
      "cell_type": "markdown",
      "metadata": {
        "id": "ufupEykqCVm2"
      },
      "source": [
        "#Run .pynb file"
      ]
    },
    {
      "cell_type": "code",
      "execution_count": null,
      "metadata": {
        "id": "MHZJ9dcdCVm2"
      },
      "outputs": [],
      "source": [
        "from google.colab import drive\n",
        "drive.mount('/content/drive')"
      ]
    },
    {
      "cell_type": "code",
      "execution_count": null,
      "metadata": {
        "id": "OBtOum6MCVm2"
      },
      "outputs": [],
      "source": [
        "import pandas as pd\n",
        "import numpy as np\n",
        "import datetime\n",
        "from tqdm import tqdm"
      ]
    },
    {
      "cell_type": "code",
      "execution_count": null,
      "metadata": {
        "id": "ee7iZdmtCVm2"
      },
      "outputs": [],
      "source": [
        "# Set parameters\n",
        "county_name = 'Los Angeles'\n",
        "month = '/'.join(['Rough', 'Data_05_2021', '21_05'])\n",
        "data_path = '/content/drive/My Drive/Stanford Law 3XP/Data'\n",
        "code_path = '/content/drive/My Drive/Stanford Law 3XP/Code'"
      ]
    },
    {
      "cell_type": "markdown",
      "metadata": {
        "id": "qKzUpSNcQIgv"
      },
      "source": [
        "#Sorting Criteria"
      ]
    },
    {
      "cell_type": "code",
      "execution_count": null,
      "metadata": {
        "id": "lyuZcX-4OxzJ"
      },
      "outputs": [],
      "source": [
        "county_sort_criteria_sheet = '/'.join([data_path, county_name, 'Criteria/sorting_criteria.xlsx'])"
      ]
    },
    {
      "cell_type": "code",
      "execution_count": null,
      "metadata": {
        "id": "mr7SoD-JuqHC"
      },
      "outputs": [],
      "source": [
        "sorting_criteria = pd.read_excel(county_sort_criteria_sheet)"
      ]
    },
    {
      "cell_type": "code",
      "execution_count": null,
      "metadata": {
        "id": "KHnQLe1LPXTQ"
      },
      "outputs": [],
      "source": [
        "sorting_criteria.head()"
      ]
    },
    {
      "cell_type": "markdown",
      "metadata": {
        "id": "ULR7eMXKQOcj"
      },
      "source": [
        "#Demographics"
      ]
    },
    {
      "cell_type": "code",
      "execution_count": null,
      "metadata": {
        "id": "_SETv2HWP9L1"
      },
      "outputs": [],
      "source": [
        "county_demographics_sheet = '/'.join([data_path, county_name, month, 'demographics.xlsx'])"
      ]
    },
    {
      "cell_type": "code",
      "execution_count": null,
      "metadata": {
        "id": "B6pplr6oTeKu"
      },
      "outputs": [],
      "source": [
        "# Load the data\n",
        "demographics = pd.read_excel(county_demographics_sheet)"
      ]
    },
    {
      "cell_type": "code",
      "execution_count": null,
      "metadata": {
        "id": "oRLKj_7pTphh"
      },
      "outputs": [],
      "source": [
        "demographics.head()"
      ]
    },
    {
      "cell_type": "markdown",
      "metadata": {
        "id": "cb2300sjilFi"
      },
      "source": [
        "Visualizing demographics data"
      ]
    },
    {
      "cell_type": "code",
      "execution_count": null,
      "metadata": {
        "id": "r_8GFfWWgwNU"
      },
      "outputs": [],
      "source": [
        "print('Demographics by ethnicity')\n",
        "demographics[demographics['Ethnicity'].isin(['Black', 'White', 'Hispanic', 'Mexican', 'Other'])]['Ethnicity'].hist()"
      ]
    },
    {
      "cell_type": "code",
      "execution_count": null,
      "metadata": {
        "id": "gD6rr4MqiDxJ"
      },
      "outputs": [],
      "source": [
        "print('Demographics by ethnicity')\n",
        "demographics[~demographics['Ethnicity'].isin(['Black', 'White', 'Hispanic', 'Mexican', 'Other'])]['Ethnicity'].hist(xrot = 90)"
      ]
    },
    {
      "cell_type": "markdown",
      "metadata": {
        "id": "PDh4xzybHXTI"
      },
      "source": [
        "# Individual Details"
      ]
    },
    {
      "cell_type": "code",
      "execution_count": null,
      "metadata": {
        "id": "BW8ttFzuHZYA"
      },
      "outputs": [],
      "source": [
        "# Education merit\n",
        "merit_credit_sheet = '/'.join([data_path, county_name, month, 'EducationMeritCredits.xlsx'])\n",
        "merit_credit = pd.read_excel(merit_credit_sheet)\n",
        "# Milestone credit\n",
        "milestone_credit_sheet = '/'.join([data_path, county_name, month, 'MilestoneCompletionCredits.xlsx'])\n",
        "milestone_credit = pd.read_excel(milestone_credit_sheet)\n",
        "# Rehab credit\n",
        "rehab_credit_sheet = '/'.join([data_path, county_name, month, 'RehabilitiveAchievementCredits.xlsx'])\n",
        "rehab_credit = pd.read_excel(rehab_credit_sheet)\n",
        "# Vocational education credit\n",
        "voced_sheet = '/'.join([data_path, county_name, month, 'VocEd_TrainingCerts.xlsx'])\n",
        "voced_credit = pd.read_excel(voced_sheet)\n",
        "# Rule violations\n",
        "rvr_sheet = '/'.join([data_path, county_name, month, 'RVRs.xlsx'])\n",
        "rv_report = pd.read_excel(rvr_sheet)"
      ]
    },
    {
      "cell_type": "markdown",
      "metadata": {
        "id": "JwYcvCfEZ58Z"
      },
      "source": [
        "#Current Commitments"
      ]
    },
    {
      "cell_type": "code",
      "execution_count": null,
      "metadata": {
        "id": "Ut1F93ttZ8Pb"
      },
      "outputs": [],
      "source": [
        "county_current_commits_sheet = '/'.join([data_path, county_name, month, 'currentcommitments.xlsx'])"
      ]
    },
    {
      "cell_type": "code",
      "execution_count": null,
      "metadata": {
        "id": "SEycgRLnaF4b"
      },
      "outputs": [],
      "source": [
        "current_commits = pd.read_excel(county_current_commits_sheet)"
      ]
    },
    {
      "cell_type": "code",
      "execution_count": null,
      "metadata": {
        "id": "S9q312WKbFgJ"
      },
      "outputs": [],
      "source": [
        "current_commits.head()"
      ]
    },
    {
      "cell_type": "markdown",
      "metadata": {
        "id": "jnmWNO2jbL1K"
      },
      "source": [
        "#Prior Commitments"
      ]
    },
    {
      "cell_type": "code",
      "execution_count": null,
      "metadata": {
        "id": "fKQtUbb-bNH6"
      },
      "outputs": [],
      "source": [
        "county_prior_commits_sheet = '/'.join([data_path, county_name, month, 'priorcommitments.xlsx'])"
      ]
    },
    {
      "cell_type": "code",
      "execution_count": null,
      "metadata": {
        "id": "48RmpqJcbRxX"
      },
      "outputs": [],
      "source": [
        "prior_commits = pd.read_excel(county_prior_commits_sheet)"
      ]
    },
    {
      "cell_type": "code",
      "execution_count": null,
      "metadata": {
        "id": "19Wv5JTHbVID"
      },
      "outputs": [],
      "source": [
        "prior_commits.head()"
      ]
    },
    {
      "cell_type": "markdown",
      "metadata": {
        "id": "4jZac7Z8dYn9"
      },
      "source": [
        "## Functions"
      ]
    },
    {
      "cell_type": "code",
      "execution_count": null,
      "metadata": {
        "id": "_LYdE8J8dQll"
      },
      "outputs": [],
      "source": [
        "# Functions\n",
        "\n",
        "def gen_time_vars(df):\n",
        "  # Get the present date\n",
        "  present_date = datetime.datetime.now()\n",
        "  # Sentence duration in years\n",
        "  df['Aggregate sentence in years'] = df['Aggregate Sentence in Months']/12\n",
        "  # Age of individual\n",
        "  df['Age in years'] = [x.days/365 for x in present_date - pd.to_datetime(demographics['Birthday'], errors = 'coerce')]\n",
        "  # Sentence served in years\n",
        "  df['Time served in years'] = [x.days/365 for x in present_date - pd.to_datetime(demographics['Offense End Date'], errors = 'coerce')]\n",
        "  # Age at the time of offense\n",
        "  df['Age during offense'] = [x.days/365 for x in pd.to_datetime(demographics['Offense End Date'], errors = 'coerce') - pd.to_datetime(demographics['Birthday'], errors = 'coerce')]\n",
        "\n",
        "  # Store all data that have NaNs for any of the time columns calculated above\n",
        "  def incorrect_time(df, cols = ['Aggregate sentence in years', 'Age in years', 'Time served in years', 'Age during offense']):\n",
        "    errors = pd.DataFrame()\n",
        "    # Loop through all time columns\n",
        "    for col in cols:\n",
        "      errors = pd.concat([errors, df[pd.isna(df[col])]])\n",
        "    return errors\n",
        "\n",
        "  # Return the resulting dataframe with the calculated time columns and the data with NaN/NaTs in these columns\n",
        "  return df, incorrect_time(df)\n",
        "\n",
        "\n",
        "def clean_offense(off):\n",
        "  # Lowercase all letters\n",
        "  clean_off = str(off).lower()\n",
        "  # Remove trailing periods\n",
        "  clean_off = clean_off.rstrip('.')\n",
        "  # Remove whitespace (any location)\n",
        "  clean_off = clean_off.replace(' ', '')\n",
        "  # Remove \"PC\" or penal code abbreviation\n",
        "  clean_off = clean_off.replace('pc', '')\n",
        "  # Remove \"rape\" which shows up in some offenses\n",
        "  clean_off = clean_off.replace('rape', '')\n",
        "  return clean_off\n",
        "\n",
        "\n",
        "def clean_offense_blk(data):\n",
        "  # If input is a single string\n",
        "  if isinstance(data, str):\n",
        "    return clean_offense(data)\n",
        "  # If input is a list of strings\n",
        "  elif isinstance(data, list):\n",
        "    off_clean = []\n",
        "    for off in data:\n",
        "      off_clean.append(clean_offense(off))\n",
        "    return off_clean\n",
        "  # If input is a column of a pandas dataframe\n",
        "  elif isinstance(data, pd.Series):\n",
        "    return data.apply(clean_offense)\n",
        "\n",
        "\n",
        "def gen_inel_off(inel_offenses, clean = True, impl = {'all': [\"/att\", \"(664)\", \"2nd\"], '459': [\"/att\", \"(664)\"]}, perm = 2):\n",
        "  # Clean the offense data if specified\n",
        "  if clean:\n",
        "    inel_offenses = clean_offense_blk(inel_offenses)\n",
        "\n",
        "  def gen_impl_off():\n",
        "    # Generate new list of offenses based on the implied ineligibility\n",
        "    add = []\n",
        "    # Loop through all offenses in the ineligible offenses list\n",
        "    for off in inel_offenses:\n",
        "      # Check the two conditions: generic or exception\n",
        "      matching = [key for key in impl.keys() if key in off]\n",
        "      # If offense is not called out separately (exception)\n",
        "      if (len(matching) == 0) and ('all' in impl.keys()):\n",
        "        for impl_val in impl['all']:\n",
        "          # If any additions are not already in the offense, ex: PC 123(664) does not need PC 123(664)(664) to be added\n",
        "          if impl_val not in off:\n",
        "            add.append(off+impl_val)\n",
        "      # If offense is called out separately (exception)\n",
        "      elif len(matching) != 0:\n",
        "        for impl_val in impl[matching[0]]:\n",
        "          # If any additions are not already in the offense, ex: PC 123(664) does not need PC 123(664)(664) to be added\n",
        "          if impl_val not in off:\n",
        "            add.append(off+impl_val)\n",
        "    # Combine newly identified ineligible offenses to the list of existing ineligible offenses and return result\n",
        "    return list(set.union(set(inel_offenses), set(add)))\n",
        "\n",
        "  # Generate permutations of the ineligible offenses\n",
        "  i = 1\n",
        "  while i <= perm:\n",
        "    # Run the function to generate implied ineligibility\n",
        "    inel_offenses = gen_impl_off()\n",
        "    i = i + 1\n",
        "\n",
        "  # Return the final results after all permutations\n",
        "  return inel_offenses\n",
        "\n",
        "\n",
        "def det_inel_off(offenses, inel_offenses, pop = None):\n",
        "    # Return offenses that are ineligible for adults and juveniles\n",
        "    if pop == 'adult' or pop == 'juvenile':\n",
        "      return set(offenses).intersection(set(inel_offenses))\n",
        "    # If none of the conditions are met\n",
        "    else:\n",
        "      print('No offenses processed. Please double check inputs and re-run')"
      ]
    },
    {
      "cell_type": "markdown",
      "metadata": {
        "id": "vnTQjlzidkih"
      },
      "source": [
        "#Conditions for Qualification\n",
        "\n",
        "Cohort 1\n",
        "\n",
        "Adults\n",
        "\n",
        "\n",
        "\n",
        "1.   Age 50 and older; AND\n",
        "2.   Sentenced to 20 years or more; AND\n",
        "3.   Served a minimum of 10 years in custody; AND\n",
        "4.   Is not serving a current sentence for any offense listed in Table A, B, C, or D, AND\n",
        "5.   Does not have a prior conviction for any offense listed in Tables C & D\n",
        "\n",
        "Cohort 2\n",
        "\n",
        "Minors Tried as Adults\n",
        "\n",
        "1.   Sentenced for a crime that was committed at age 14 or 15; AND\n",
        "2.   Not serving current sentence for any offense listed in Table D and E; AND\n",
        "3. Has served a minimum of 10 years in custody; AND\n",
        "4. Does not have a prior conviction for any offense listed in Table D."
      ]
    },
    {
      "cell_type": "markdown",
      "metadata": {
        "id": "k_w8ovPoerJX"
      },
      "source": [
        "# Time Data"
      ]
    },
    {
      "cell_type": "code",
      "execution_count": null,
      "metadata": {
        "id": "nTRsFzL-euvq"
      },
      "outputs": [],
      "source": [
        "# Add all of the time variables to the demographic data necessary for classification - years served, sentence length, age, etc.\n",
        "demographics, errors = gen_time_vars(demographics)"
      ]
    },
    {
      "cell_type": "code",
      "execution_count": null,
      "metadata": {
        "id": "Qc9IoLoAuNsn"
      },
      "outputs": [],
      "source": [
        "# Show CDCR numbers and data of individuals with no age or time-served information\n",
        "errors"
      ]
    },
    {
      "cell_type": "markdown",
      "metadata": {
        "id": "p_q9Aw0bbYXa"
      },
      "source": [
        "#Identify Candidates: Adults (Part 1/4)"
      ]
    },
    {
      "cell_type": "markdown",
      "metadata": {
        "id": "Ytr9L25UKKtY"
      },
      "source": [
        "Conditions to search:\n",
        "1., 2. and 3. for Cohort 1"
      ]
    },
    {
      "cell_type": "code",
      "execution_count": null,
      "metadata": {
        "id": "KMmBhvH5vH_h"
      },
      "outputs": [],
      "source": [
        "print('Total number of CDCR#s available: ', len(demographics['CDCR #'].unique()))\n",
        "\n",
        "# Extracting CDCR numbers with eligible ages\n",
        "el_cdcr_nums_1 = demographics[demographics['Age in years'] >= 50]['CDCR #']\n",
        "print('Number of CDCR#s that are older than 50 years: ', len(el_cdcr_nums_1))\n",
        "\n",
        "# Extracting CDCR numbers that met the age criteria that also meet the time sentenced criteria\n",
        "el_cdcr_nums_2 = demographics[(demographics['Aggregate sentence in years'] >= 20) & demographics['CDCR #'].isin(el_cdcr_nums_1)]['CDCR #']\n",
        "print('Number of CDCR#s that are older than 50 years & sentenced to over 20 years: ', len(el_cdcr_nums_2))\n",
        "\n",
        "# Extracting CDCR numbers that met the age criteria that also meet the time served criteria\n",
        "el_cdcr_nums_3 = demographics[(demographics['Time served in years'] >= 10) & demographics['CDCR #'].isin(el_cdcr_nums_2)]['CDCR #']\n",
        "print('Number of CDCR#s that are older than 50 years, sentenced to over 20 years and served over 10 years: ', len(el_cdcr_nums_3))"
      ]
    },
    {
      "cell_type": "markdown",
      "metadata": {
        "id": "K44Vg7Uo38mp"
      },
      "source": [
        "#Identify Candidates: Adults (Part 2/4)"
      ]
    },
    {
      "cell_type": "markdown",
      "metadata": {
        "id": "ks0U5FTpbjM-"
      },
      "source": [
        "Conditions to search:\n",
        "\n",
        "4. and 5. for Cohort 1\n",
        "\n"
      ]
    },
    {
      "cell_type": "code",
      "execution_count": null,
      "metadata": {
        "id": "H773q6kX_3zQ"
      },
      "outputs": [],
      "source": [
        "# Extracting ineligible offenses from sorting criteria\n",
        "inel_offenses = sorting_criteria[sorting_criteria['Table'].isin(['Table A', 'Table B', 'Table C', 'Table D'])]['Offenses'].tolist()\n",
        "# Appending new offenses based on implied ineligibility for adult populations\n",
        "inel_offenses = gen_inel_off(inel_offenses, clean = True, impl = {'all': [\"/att\", \"(664)\", \"2nd\"], '459': [\"/att\", \"(664)\"]})\n",
        "\n",
        "# Clean offense data in current commits file\n",
        "current_commits['Offense cleaned'] = clean_offense_blk(data = current_commits['Offense'])\n",
        "\n",
        "# Extracting current commits data with eligible offenses\n",
        "el_cdcr_nums_4 = []\n",
        "for cdcr_num in tqdm(el_cdcr_nums_3):\n",
        "  # Extract offenses of the CDCR number\n",
        "  offenses = current_commits[current_commits['CDCR #'] == cdcr_num]['Offense cleaned'].unique()\n",
        "  if len(det_inel_off(offenses = offenses, inel_offenses = inel_offenses, pop = 'adult')) == 0:\n",
        "    el_cdcr_nums_4.append(cdcr_num)\n",
        "\n",
        "print('\\nNumber of CDCR#s that are older than 50 years, sentenced to over 20 years, served over 10 years, and have eligible current offenses: ', len(el_cdcr_nums_4))"
      ]
    },
    {
      "cell_type": "code",
      "execution_count": null,
      "metadata": {
        "id": "iifT4tB4JAYa"
      },
      "outputs": [],
      "source": [
        "# Extracting ineligible offenses from sorting criteria\n",
        "inel_offenses = sorting_criteria[sorting_criteria['Table'].isin(['Table C', 'Table D'])]['Offenses'].tolist()\n",
        "# Appending new offenses based on implied ineligibility for adult populations\n",
        "inel_offenses = gen_inel_off(inel_offenses, clean = True, impl = {'all': [\"/att\", \"(664)\", \"2nd\"], '459': [\"/att\", \"(664)\"]})\n",
        "\n",
        "# Clean offense data in prior commits file\n",
        "prior_commits['Offense cleaned'] = clean_offense_blk(data = prior_commits['Offense'])\n",
        "\n",
        "# Extracting prior commits data with eligible offenses\n",
        "el_cdcr_nums_5 = []\n",
        "for cdcr_num in tqdm(el_cdcr_nums_4):\n",
        "  # Extract offenses of the CDCR number\n",
        "  offenses = prior_commits[prior_commits['CDCR #'] == cdcr_num]['Offense cleaned'].unique()\n",
        "  if len(det_inel_off(offenses = offenses, inel_offenses = inel_offenses, pop = 'adult')) == 0:\n",
        "    el_cdcr_nums_5.append(cdcr_num)\n",
        "\n",
        "print('\\nNumber of CDCR#s that are older than 50 years, sentenced to over 20 years, served over 10 years, have eligible current offenses and eligible prior offenses: ', len(el_cdcr_nums_5))"
      ]
    },
    {
      "cell_type": "markdown",
      "metadata": {
        "id": "aXiSfjb_5i4G"
      },
      "source": [
        "### Analyzing individuals in Cohort 1 who meet all 5 conditions"
      ]
    },
    {
      "cell_type": "markdown",
      "metadata": {
        "id": "yD4VcHFeEWP-"
      },
      "source": [
        "Writing results to Excel files"
      ]
    },
    {
      "cell_type": "code",
      "execution_count": null,
      "metadata": {
        "id": "mz75XTDJ8z-Z"
      },
      "outputs": [],
      "source": [
        "# Write data to excel files\n",
        "write_path = '/'.join([data_path, county_name, month, 'adult_eligible_demographics.xlsx'])\n",
        "demographics[demographics['CDCR #'].isin(el_cdcr_nums_5)].to_excel(write_path, index = False)"
      ]
    },
    {
      "cell_type": "code",
      "execution_count": null,
      "metadata": {
        "id": "Xp8_nTjZ-Da4"
      },
      "outputs": [],
      "source": [
        "# Write data to excel files\n",
        "write_path = '/'.join([data_path, county_name, month, 'adult_eligible_currentcommits.xlsx'])\n",
        "current_commits[current_commits['CDCR #'].isin(el_cdcr_nums_5)].to_excel(write_path, index = False)"
      ]
    },
    {
      "cell_type": "markdown",
      "metadata": {
        "id": "DuGAddVXlZAw"
      },
      "source": [
        "Validation of Cohort 1 results with OpenLattice results"
      ]
    },
    {
      "cell_type": "code",
      "execution_count": null,
      "metadata": {
        "id": "z-hYutCElF9P"
      },
      "outputs": [],
      "source": [
        "ol_el_cdcr_nums = pd.read_excel('/'.join([data_path, county_name, 'Rough/LA_DA_Cohort1_Update_05_2021.xlsx']))['CDCR..'].to_list()"
      ]
    },
    {
      "cell_type": "code",
      "execution_count": null,
      "metadata": {
        "id": "gqJxom_plxnv"
      },
      "outputs": [],
      "source": [
        "# Find CDCR numbers eligible in OpenLattice script that are ineligible in this script\n",
        "missing_nums = []\n",
        "for cdcr_num in ol_el_cdcr_nums:\n",
        "  if (cdcr_num in demographics['CDCR #'].tolist()) and (cdcr_num not in el_cdcr_nums_5):\n",
        "    missing_nums.append(cdcr_num)"
      ]
    },
    {
      "cell_type": "code",
      "execution_count": null,
      "metadata": {
        "id": "0jiaMKa8lze6"
      },
      "outputs": [],
      "source": [
        "# Missing CDCR numbers\n",
        "d = {}\n",
        "write_path = '/'.join([data_path, county_name, 'Rough', 'ol_validation_.xlsx'])\n",
        "for cdcr_num in missing_nums:\n",
        "  off = current_commits[current_commits['CDCR #'] == cdcr_num]['Offense']\n",
        "  d[cdcr_num] = off.to_list()\n",
        "print('These CDCR numbers are eligible according to OpenLattice script but are ineligible according to this script')\n",
        "\n",
        "df = pd.DataFrame()\n",
        "df['CDCR #'] = d.keys()\n",
        "df['Offenses'] = d.values()\n",
        "df.to_excel(write_path, index = False)"
      ]
    },
    {
      "cell_type": "code",
      "execution_count": null,
      "metadata": {
        "id": "Hqk4SVp6nIcp"
      },
      "outputs": [],
      "source": [
        "# Find CDCR numbers ineligible in this script that are eligible in OpenLattice script\n",
        "missing_nums = []\n",
        "for cdcr_num in el_cdcr_nums_5:\n",
        "  if cdcr_num not in ol_el_cdcr_nums:\n",
        "    missing_nums.append(cdcr_num)"
      ]
    },
    {
      "cell_type": "code",
      "execution_count": null,
      "metadata": {
        "id": "5gahLxl5nOSy"
      },
      "outputs": [],
      "source": [
        "# Missing CDCR numbers\n",
        "for cdcr_num in missing_nums:\n",
        "  off = current_commits[current_commits['CDCR #'] == cdcr_num]['Offense']\n",
        "  print(cdcr_num, ':', off.to_list(), ';')\n",
        "print('These CDCR numbers are eligible according to this script but are ineligible according to OpenLattice script')"
      ]
    },
    {
      "cell_type": "markdown",
      "metadata": {
        "id": "v1cEEJiUHAQR"
      },
      "source": [
        "Individual details"
      ]
    },
    {
      "cell_type": "code",
      "execution_count": null,
      "metadata": {
        "id": "UIJ9VeLAHHSZ"
      },
      "outputs": [],
      "source": [
        "# Write data to excel files\n",
        "write_path = '/'.join([data_path, county_name, month, 'summary_adult.xlsx'])"
      ]
    },
    {
      "cell_type": "code",
      "execution_count": null,
      "metadata": {
        "id": "9Dj-jrWyHDJq"
      },
      "outputs": [],
      "source": [
        "# Get demographics data\n",
        "df = demographics.loc[demographics['CDCR #'].isin(el_cdcr_nums_5)][['CDCR #', 'Current Security Level', 'Controlling Offense',\n",
        "                                                                    'Current Classication Score', 'Classification Score 5 Years\\nAgo',\n",
        "                                                                    'Mental Health Level of Care', 'DPPV Disability - Mobility']]\n",
        "\n",
        "# Remove new-line\n",
        "df.rename(columns = {'Classification Score 5 Years\\nAgo': 'Classification Score 5 Years Ago'}, inplace = True)\n",
        "rv_report.rename(columns = {'Rule\\nViolation\\nDate': 'Rule Violation Date'}, inplace = True)\n",
        "\n",
        "# Format mobility disability\n",
        "df['DPPV Disability - Mobility'] = df['DPPV Disability - Mobility'].str.replace('Impacting Placement', '')\n",
        "\n",
        "# Initialize lists for other variables\n",
        "current_conv = []\n",
        "prior_conv = []\n",
        "programming = []\n",
        "rvr = []\n",
        "for cdcr_num in df['CDCR #']:\n",
        "  # Current convictions\n",
        "  current_conv.append(', '.join(current_commits[current_commits['CDCR #'] == cdcr_num]['Offense'].tolist()))\n",
        "  # Previous convictions\n",
        "  prior_conv.append(', '.join(prior_commits[prior_commits['CDCR #'] == cdcr_num]['Offense'].tolist()))\n",
        "  # Participation in programming\n",
        "  if (cdcr_num in merit_credit['Cdcno']) or (cdcr_num in milestone_credit['Cdcno']) or (cdcr_num in rehab_credit['Cdcno']) or (cdcr_num in voced_credit['Cdcno']):\n",
        "    programming.append('Yes')\n",
        "  else:\n",
        "    programming.append('No')\n",
        "  # Rule violation reports\n",
        "  ext = rv_report[rv_report['CDCR\\nNumber'] == cdcr_num][['Rule Violation Date', 'Division', 'Rule Violation']].reset_index(drop = True).to_dict('index')\n",
        "  rvr.append(\"\\n\\n\".join(\"\\n\".join(k_b + ': ' + str(v_b) for k_b, v_b in v_a.items()) for k_a, v_a in ext.items()))\n",
        "\n",
        "# Store lists in dataframe\n",
        "df['Current Convictions'] = current_conv\n",
        "df['Prior Convictions'] = prior_conv\n",
        "df['Programming'] = programming\n",
        "df['Rules Violations'] = rvr\n",
        "\n",
        "# Write data to excel files\n",
        "df.to_excel(write_path, index = False)"
      ]
    },
    {
      "cell_type": "markdown",
      "metadata": {
        "id": "y3Cc6WadD8jQ"
      },
      "source": [
        "Exploring Cohort 1 offenses, racial makeup, penal codes\n",
        "\n"
      ]
    },
    {
      "cell_type": "code",
      "execution_count": null,
      "metadata": {
        "id": "rQK7aTLP5iC5"
      },
      "outputs": [],
      "source": [
        "print('Top 20 offenses of individuals in Cohort 1 who meet all 5 eligibility conditions (from demographics data)')\n",
        "print(demographics[demographics['CDCR #'].isin(el_cdcr_nums_5)]['Description'].value_counts()[0:20])"
      ]
    },
    {
      "cell_type": "code",
      "execution_count": null,
      "metadata": {
        "id": "qJ49bxsI4XDZ"
      },
      "outputs": [],
      "source": [
        "print('Top 20 offenses of individuals in Cohort 1 who meet all 5 eligibility conditions (from demographics data)')\n",
        "demographics[demographics['CDCR #'].isin(el_cdcr_nums_5)]['Controlling Offense'].value_counts()[0:20]"
      ]
    },
    {
      "cell_type": "code",
      "execution_count": null,
      "metadata": {
        "id": "0_aVpADcT5wI"
      },
      "outputs": [],
      "source": [
        "print('Top 20 offenses of individuals in Cohort 1 who meet all 5 eligibility conditions (from current commits data)')\n",
        "current_commits[current_commits['CDCR #'].isin(el_cdcr_nums_5)]['Offense'].value_counts()[0:20]"
      ]
    },
    {
      "cell_type": "code",
      "execution_count": null,
      "metadata": {
        "id": "Y3_NRZXOz2t8"
      },
      "outputs": [],
      "source": [
        "print('Sex offenses of individuals in Cohort 1 who meet all 5 eligibility conditions')\n",
        "print(demographics[demographics['CDCR #'].isin(el_cdcr_nums_5)]['Sex Registrant'].value_counts())"
      ]
    },
    {
      "cell_type": "code",
      "execution_count": null,
      "metadata": {
        "id": "Vs9wJsBHz0v5"
      },
      "outputs": [],
      "source": [
        "print('Type of offenses of individuals in Cohort 1 who meet all 5 eligibility conditions')\n",
        "print(demographics[demographics['CDCR #'].isin(el_cdcr_nums_5)]['Offense Category'].value_counts())"
      ]
    },
    {
      "cell_type": "code",
      "execution_count": null,
      "metadata": {
        "id": "_GRcZufpzGlD"
      },
      "outputs": [],
      "source": [
        "demographics[(demographics['Ethnicity'].isin(['Black', 'White', 'Hispanic', 'Mexican', 'Other'])) & (demographics['CDCR #'].isin(el_cdcr_nums_5))]['Ethnicity'].hist()\n",
        "print('Ethnicities of the individuals in Cohort 1 who meet all 5 eligibility criteria')"
      ]
    },
    {
      "cell_type": "code",
      "execution_count": null,
      "metadata": {
        "id": "aH4KpVVNzc3q"
      },
      "outputs": [],
      "source": [
        "demographics[(~demographics['Ethnicity'].isin(['Black', 'White', 'Hispanic', 'Mexican', 'Other'])) & (demographics['CDCR #'].isin(el_cdcr_nums_5))]['Ethnicity'].hist(xrot = 90)\n",
        "print('Ethnicities of the individuals in Cohort 1 who meet all 5 eligibility criteria')"
      ]
    },
    {
      "cell_type": "markdown",
      "metadata": {
        "id": "zhxCxjtxMHEt"
      },
      "source": [
        "#Conditions for Qualification\n",
        "\n",
        "Cohort 1\n",
        "\n",
        "Adults\n",
        "\n",
        "\n",
        "\n",
        "1.   Age 50 and older; AND\n",
        "2.   Sentenced to 20 years or more; AND\n",
        "3.   Served a minimum of 10 years in custody; AND\n",
        "4.   Is not serving a current sentence for any offense listed in Table A, B, C, or D, AND\n",
        "5.   Does not have a prior conviction for any offense listed in Tables C & D\n",
        "\n",
        "Cohort 2\n",
        "\n",
        "Minors Tried as Adults\n",
        "\n",
        "1.   Sentenced for a crime that was committed at age 14 or 15; AND\n",
        "2.   Not serving current sentence for any offense listed in Table E or D; AND\n",
        "3. Has served a minimum of 10 years in custody; AND\n",
        "4. Does not have a prior conviction for any offense listed in Table D."
      ]
    },
    {
      "cell_type": "markdown",
      "metadata": {
        "id": "-7JXTY-nw_XV"
      },
      "source": [
        "# Identify Candidates: Juvenile (Part 3/4)\n",
        "\n",
        "Conditions to search:\n",
        "\n",
        "  1., 2. for Cohort 2\n",
        "\n"
      ]
    },
    {
      "cell_type": "code",
      "execution_count": null,
      "metadata": {
        "id": "zFbV8fcBMf6_"
      },
      "outputs": [],
      "source": [
        "# Extracting CDCR numbers that meet the age criteria\n",
        "el_cdcr_nums_1 = []\n",
        "el_cdcr_nums_1 = demographics[(demographics['Age during offense'] < 16) & (demographics['Age during offense'] >= 14)]['CDCR #'].to_list()\n",
        "print('Number of CDCR#s that committed offenses at the age of 14 to 15: ', len(el_cdcr_nums_1))"
      ]
    },
    {
      "cell_type": "code",
      "execution_count": null,
      "metadata": {
        "id": "5FFl9cEPNhhK"
      },
      "outputs": [],
      "source": [
        "# Extracting ineligible offenses from sorting criteria\n",
        "inel_offenses = sorting_criteria[sorting_criteria['Table'].isin(['Table E', 'Table D'])]['Offenses'].tolist()\n",
        "inel_offenses = gen_inel_off(inel_offenses, clean = True, impl = {'187': [\"2nd\", \"(664)\"]}, perm = 2)\n",
        "\n",
        "# Clean offense data in current commits file\n",
        "current_commits['Offense cleaned'] = clean_offense_blk(data = current_commits['Offense'])\n",
        "\n",
        "# Extracting CDCR numbers that meet the age criteria and offense eligibility\n",
        "el_cdcr_nums_2 = []\n",
        "for cdcr_num in tqdm(el_cdcr_nums_1):\n",
        "  # Extracting offenses of the CDCR number\n",
        "  offenses = current_commits[current_commits['CDCR #'] == cdcr_num]['Offense cleaned'].unique()\n",
        "  if len(det_inel_off(offenses = offenses, inel_offenses = inel_offenses, pop = 'juvenile')) == 0:\n",
        "    el_cdcr_nums_2.append(cdcr_num)\n",
        "\n",
        "print('\\nNumber of CDCR#s that committed offenses at age 14 and 15 and have eligible current offenses: ', len(el_cdcr_nums_2))"
      ]
    },
    {
      "cell_type": "markdown",
      "metadata": {
        "id": "8XDHMbo59m0u"
      },
      "source": [
        "# Identify Candidates: Juvenile (Part 4/4)\n",
        "\n",
        "Conditions to search:\n",
        "3. and 4. for Cohort 2"
      ]
    },
    {
      "cell_type": "code",
      "execution_count": null,
      "metadata": {
        "id": "5Vx6OynORlIS"
      },
      "outputs": [],
      "source": [
        "# Extracting CDCR numbers that met the age and offense criteria that also meet the time served criteria\n",
        "el_cdcr_nums_3 = []\n",
        "el_cdcr_nums_3 = demographics[(demographics['Time served in years'] >= 10) & demographics['CDCR #'].isin(el_cdcr_nums_2)]['CDCR #'].to_list()\n",
        "print('Number of CDCR#s that committed offenses at age 14 and 15, have eligible current offenses and served more than 10 years: ', len(el_cdcr_nums_3))"
      ]
    },
    {
      "cell_type": "code",
      "execution_count": null,
      "metadata": {
        "id": "TYuxdveQVFTk"
      },
      "outputs": [],
      "source": [
        "# Extracting ineligible offenses from sorting criteria\n",
        "inel_offenses = sorting_criteria[sorting_criteria['Table'].isin(['Table D'])]['Offenses'].tolist()\n",
        "inel_offenses = gen_inel_off(inel_offenses, clean = True, impl = {'187': [\"2nd\", \"(664)\"]}, perm = 2)\n",
        "\n",
        "# Clean offense data in current commits file\n",
        "prior_commits['Offense cleaned'] = clean_offense_blk(data = prior_commits['Offense'])\n",
        "\n",
        "# Extracting CDCR numbers that met the age, time sentenced and current and prior offense eligibility criteria\n",
        "el_cdcr_nums_4 = []\n",
        "for cdcr_num in tqdm(el_cdcr_nums_3):\n",
        "  offenses = prior_commits[prior_commits['CDCR #'] == cdcr_num]['Offense cleaned'].unique()\n",
        "  if len(det_inel_off(offenses = offenses, inel_offenses = inel_offenses, pop = 'juvenile')) == 0:\n",
        "    el_cdcr_nums_4.append(cdcr_num)\n",
        "\n",
        "print('\\nNumber of CDCR#s that committed offenses at age 14 and 15, have eligible current and prior offenses, and served more than 10 years: ', len(el_cdcr_nums_4))"
      ]
    },
    {
      "cell_type": "markdown",
      "metadata": {
        "id": "5U-8q-WEbGEN"
      },
      "source": [
        "Individuals in Cohort 2 who meet all the eligibility criteria"
      ]
    },
    {
      "cell_type": "code",
      "execution_count": null,
      "metadata": {
        "id": "dzACkkEz-Sib"
      },
      "outputs": [],
      "source": [
        "# Write data to excel files\n",
        "write_path = '/'.join([data_path, county_name, month, 'juvenile_eligible_demographics.xlsx'])\n",
        "demographics[demographics['CDCR #'].isin(el_cdcr_nums_4)].to_excel(write_path, index = False)"
      ]
    },
    {
      "cell_type": "code",
      "execution_count": null,
      "metadata": {
        "id": "H9pT2J7V-VJ4"
      },
      "outputs": [],
      "source": [
        "# Write data to excel files\n",
        "write_path = '/'.join([data_path, county_name, month, 'juvenile_eligible_currentcommits.xlsx'])\n",
        "current_commits[current_commits['CDCR #'].isin(el_cdcr_nums_4)].to_excel(write_path, index = False)"
      ]
    },
    {
      "cell_type": "markdown",
      "metadata": {
        "id": "Pg2kWkT5EIK8"
      },
      "source": [
        "Exploring Cohort 1 offenses, racial makeup, penal codes\n"
      ]
    },
    {
      "cell_type": "code",
      "execution_count": null,
      "metadata": {
        "id": "58m09ff7bHsR"
      },
      "outputs": [],
      "source": [
        "print('Top 20 offenses of individuals in Cohort 2 who meet all 4 eligibility conditions (from demographics data)')\n",
        "print(demographics[demographics['CDCR #'].isin(el_cdcr_nums_4)]['Description'].value_counts()[0:20])"
      ]
    },
    {
      "cell_type": "code",
      "execution_count": null,
      "metadata": {
        "id": "qgMqbkkTbYW0"
      },
      "outputs": [],
      "source": [
        "print('Top 20 offenses of individuals in Cohort 2 who meet all 4 eligibility conditions (from demographics data)')\n",
        "demographics[demographics['CDCR #'].isin(el_cdcr_nums_4)]['Controlling Offense'].value_counts()[0:20]"
      ]
    },
    {
      "cell_type": "code",
      "execution_count": null,
      "metadata": {
        "id": "PIkLYbeQbeTY"
      },
      "outputs": [],
      "source": [
        "print('Sex offenses of individuals in Cohort 2 who meet all 4 eligibility conditions')\n",
        "print(demographics[demographics['CDCR #'].isin(el_cdcr_nums_4)]['Sex Registrant'].value_counts())"
      ]
    },
    {
      "cell_type": "code",
      "execution_count": null,
      "metadata": {
        "id": "ZGuX9PXvb-u2"
      },
      "outputs": [],
      "source": [
        "print('Type of offenses of individuals in Cohort 2 who meet all 4 eligibility conditions')\n",
        "print(demographics[demographics['CDCR #'].isin(el_cdcr_nums_4)]['Offense Category'].value_counts())"
      ]
    },
    {
      "cell_type": "code",
      "execution_count": null,
      "metadata": {
        "id": "YTi93OZOcBmX"
      },
      "outputs": [],
      "source": [
        "demographics[(demographics['Ethnicity'].isin(['Black', 'White', 'Hispanic', 'Mexican', 'Other'])) & (demographics['CDCR #'].isin(el_cdcr_nums_4))]['Ethnicity'].hist()\n",
        "print('Ethnicities of the individuals in Cohort 2 who meet all 4 eligibility criteria')"
      ]
    },
    {
      "cell_type": "markdown",
      "metadata": {
        "id": "m11RmfKe1SNn"
      },
      "source": [
        "Generate summary\n"
      ]
    },
    {
      "cell_type": "code",
      "execution_count": null,
      "metadata": {
        "id": "RtQfZ1cZBe6B"
      },
      "outputs": [],
      "source": [
        "# Write data to excel files\n",
        "write_path = '/'.join([data_path, county_name, month, 'summary_juvenile.xlsx'])"
      ]
    },
    {
      "cell_type": "code",
      "execution_count": null,
      "metadata": {
        "id": "ZV1dJZ-J0wKo"
      },
      "outputs": [],
      "source": [
        "# Get demographics data\n",
        "df = demographics.loc[demographics['CDCR #'].isin(el_cdcr_nums_4)][['CDCR #', 'Current Security Level', 'Controlling Offense',\n",
        "                                                                    'Current Classication Score', 'Classification Score 5 Years\\nAgo',\n",
        "                                                                    'Mental Health Level of Care', 'DPPV Disability - Mobility']]\n",
        "\n",
        "# Remove new-line\n",
        "df.rename(columns = {'Classification Score 5 Years\\nAgo': 'Classification Score 5 Years Ago'}, inplace = True)\n",
        "rv_report.rename(columns = {'Rule\\nViolation\\nDate': 'Rule Violation Date'}, inplace = True)\n",
        "\n",
        "# Format mobility disability\n",
        "df['DPPV Disability - Mobility'] = df['DPPV Disability - Mobility'].str.replace('Impacting Placement', '')\n",
        "\n",
        "# Initialize lists for other variables\n",
        "current_conv = []\n",
        "prior_conv = []\n",
        "programming = []\n",
        "rvr = []\n",
        "for cdcr_num in df['CDCR #']:\n",
        "  # Current convictions\n",
        "  current_conv.append(', '.join(current_commits[current_commits['CDCR #'] == cdcr_num]['Offense'].tolist()))\n",
        "  # Previous convictions\n",
        "  prior_conv.append(', '.join(prior_commits[prior_commits['CDCR #'] == cdcr_num]['Offense'].tolist()))\n",
        "  # Participation in programming\n",
        "  if (cdcr_num in merit_credit['Cdcno']) or (cdcr_num in milestone_credit['Cdcno']) or (cdcr_num in rehab_credit['Cdcno']) or (cdcr_num in voced_credit['Cdcno']):\n",
        "    programming.append('Yes')\n",
        "  else:\n",
        "    programming.append('No')\n",
        "  # Rule violation reports\n",
        "  ext = rv_report[rv_report['CDCR\\nNumber'] == cdcr_num][['Rule Violation Date', 'Division', 'Rule Violation']].reset_index(drop = True).to_dict('index')\n",
        "  rvr.append(\"\\n\\n\".join(\"\\n\".join(k_b + ': ' + str(v_b) for k_b, v_b in v_a.items()) for k_a, v_a in ext.items()))\n",
        "\n",
        "# Store lists in dataframe\n",
        "df['Current Convictions'] = current_conv\n",
        "df['Prior Convictions'] = prior_conv\n",
        "df['Programming'] = programming\n",
        "df['Rules Violations'] = rvr\n",
        "\n",
        "# Write data to excel files\n",
        "df.to_excel(write_path, index = False)"
      ]
    }
  ],
  "metadata": {
    "colab": {
      "provenance": []
    },
    "kernelspec": {
      "display_name": "Python 3 (ipykernel)",
      "language": "python",
      "name": "python3"
    },
    "language_info": {
      "codemirror_mode": {
        "name": "ipython",
        "version": 3
      },
      "file_extension": ".py",
      "mimetype": "text/x-python",
      "name": "python",
      "nbconvert_exporter": "python",
      "pygments_lexer": "ipython3",
      "version": "3.11.5"
    }
  },
  "nbformat": 4,
  "nbformat_minor": 0
}