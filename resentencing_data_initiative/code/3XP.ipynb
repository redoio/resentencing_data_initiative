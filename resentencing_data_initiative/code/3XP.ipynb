{
  "cells": [
    {
      "cell_type": "markdown",
      "metadata": {
        "id": "vcejsF0NCVmz"
      },
      "source": [
        "#Run .py files"
      ]
    },
    {
      "cell_type": "code",
      "source": [
        "from google.colab import drive\n",
        "drive.mount('/content/drive')"
      ],
      "metadata": {
        "id": "2wRBmD6zKBYp"
      },
      "execution_count": null,
      "outputs": []
    },
    {
      "cell_type": "code",
      "source": [
        "!git clone https://github.com/redoio/three_strikes_project/"
      ],
      "metadata": {
        "id": "XU2pub1HFecP",
        "outputId": "91e24082-f050-497b-b73c-73c02261e049",
        "colab": {
          "base_uri": "https://localhost:8080/"
        }
      },
      "execution_count": 1,
      "outputs": [
        {
          "output_type": "stream",
          "name": "stdout",
          "text": [
            "Cloning into 'three_strikes_project'...\n",
            "remote: Enumerating objects: 136, done.\u001b[K\n",
            "remote: Counting objects: 100% (136/136), done.\u001b[K\n",
            "remote: Compressing objects: 100% (73/73), done.\u001b[K\n",
            "remote: Total 136 (delta 74), reused 100 (delta 40), pack-reused 0\u001b[K\n",
            "Receiving objects: 100% (136/136), 112.60 KiB | 10.24 MiB/s, done.\n",
            "Resolving deltas: 100% (74/74), done.\n"
          ]
        }
      ]
    },
    {
      "cell_type": "code",
      "execution_count": null,
      "metadata": {
        "id": "X1reaEGkCVm0",
        "outputId": "f722eecb-896d-4a0e-8255-cf7a8651c964",
        "colab": {
          "base_uri": "https://localhost:8080/"
        }
      },
      "outputs": [
        {
          "output_type": "stream",
          "name": "stdout",
          "text": [
            "Finished extracting data from: Criteria/sorting_criteria.xlsx\n",
            "Finished extracting data from: demographics.xlsx\n",
            "Finished extracting data from: EducationMeritCredits.xlsx\n"
          ]
        }
      ],
      "source": [
        "!python three_strikes_project/resentencing_data_initiative/code/run.py"
      ]
    },
    {
      "cell_type": "markdown",
      "metadata": {
        "id": "ufupEykqCVm2"
      },
      "source": [
        "#Run .pynb file"
      ]
    },
    {
      "cell_type": "code",
      "execution_count": 3,
      "metadata": {
        "id": "MHZJ9dcdCVm2",
        "outputId": "978c1e75-8ada-464f-f18d-d2b471844bbb",
        "colab": {
          "base_uri": "https://localhost:8080/"
        }
      },
      "outputs": [
        {
          "output_type": "stream",
          "name": "stdout",
          "text": [
            "Mounted at /content/drive\n"
          ]
        }
      ],
      "source": [
        "from google.colab import drive\n",
        "drive.mount('/content/drive')"
      ]
    },
    {
      "cell_type": "code",
      "execution_count": 5,
      "metadata": {
        "id": "OBtOum6MCVm2"
      },
      "outputs": [],
      "source": [
        "import pandas as pd\n",
        "import numpy as np\n",
        "import datetime\n",
        "from tqdm import tqdm"
      ]
    },
    {
      "cell_type": "code",
      "execution_count": null,
      "metadata": {
        "id": "ee7iZdmtCVm2"
      },
      "outputs": [],
      "source": [
        "# Set parameters\n",
        "county_name = 'Los Angeles'\n",
        "month = '/'.join(['Rough', 'Data_05_2021', '21_05'])\n",
        "data_path = '/content/drive/My Drive/Stanford Law 3XP/Data'\n",
        "code_path = '/content/drive/My Drive/Stanford Law 3XP/Code'"
      ]
    },
    {
      "cell_type": "markdown",
      "metadata": {
        "id": "qKzUpSNcQIgv"
      },
      "source": [
        "#Sorting Criteria"
      ]
    },
    {
      "cell_type": "code",
      "execution_count": null,
      "metadata": {
        "id": "lyuZcX-4OxzJ"
      },
      "outputs": [],
      "source": [
        "county_sort_criteria_sheet = '/'.join([data_path, county_name, 'Criteria/sorting_criteria.xlsx'])"
      ]
    },
    {
      "cell_type": "code",
      "execution_count": null,
      "metadata": {
        "id": "mr7SoD-JuqHC"
      },
      "outputs": [],
      "source": [
        "sorting_criteria = pd.read_excel(county_sort_criteria_sheet)"
      ]
    },
    {
      "cell_type": "code",
      "execution_count": null,
      "metadata": {
        "colab": {
          "base_uri": "https://localhost:8080/",
          "height": 206
        },
        "id": "KHnQLe1LPXTQ",
        "outputId": "ef51870d-3258-4193-c63b-497cfc08d2bc"
      },
      "outputs": [
        {
          "data": {
            "text/html": [
              "\n",
              "  <div id=\"df-50d3952d-150b-41c1-892f-746b19297b4a\" class=\"colab-df-container\">\n",
              "    <div>\n",
              "<style scoped>\n",
              "    .dataframe tbody tr th:only-of-type {\n",
              "        vertical-align: middle;\n",
              "    }\n",
              "\n",
              "    .dataframe tbody tr th {\n",
              "        vertical-align: top;\n",
              "    }\n",
              "\n",
              "    .dataframe thead th {\n",
              "        text-align: right;\n",
              "    }\n",
              "</style>\n",
              "<table border=\"1\" class=\"dataframe\">\n",
              "  <thead>\n",
              "    <tr style=\"text-align: right;\">\n",
              "      <th></th>\n",
              "      <th>Table</th>\n",
              "      <th>Type</th>\n",
              "      <th>Offenses</th>\n",
              "    </tr>\n",
              "  </thead>\n",
              "  <tbody>\n",
              "    <tr>\n",
              "      <th>0</th>\n",
              "      <td>Table A</td>\n",
              "      <td>Serious felonies</td>\n",
              "      <td>136.1</td>\n",
              "    </tr>\n",
              "    <tr>\n",
              "      <th>1</th>\n",
              "      <td>Table A</td>\n",
              "      <td>Serious felonies</td>\n",
              "      <td>210.5</td>\n",
              "    </tr>\n",
              "    <tr>\n",
              "      <th>2</th>\n",
              "      <td>Table A</td>\n",
              "      <td>Serious felonies</td>\n",
              "      <td>244</td>\n",
              "    </tr>\n",
              "    <tr>\n",
              "      <th>3</th>\n",
              "      <td>Table A</td>\n",
              "      <td>Serious felonies</td>\n",
              "      <td>245.2</td>\n",
              "    </tr>\n",
              "    <tr>\n",
              "      <th>4</th>\n",
              "      <td>Table A</td>\n",
              "      <td>Serious felonies</td>\n",
              "      <td>245.3</td>\n",
              "    </tr>\n",
              "  </tbody>\n",
              "</table>\n",
              "</div>\n",
              "    <div class=\"colab-df-buttons\">\n",
              "\n",
              "  <div class=\"colab-df-container\">\n",
              "    <button class=\"colab-df-convert\" onclick=\"convertToInteractive('df-50d3952d-150b-41c1-892f-746b19297b4a')\"\n",
              "            title=\"Convert this dataframe to an interactive table.\"\n",
              "            style=\"display:none;\">\n",
              "\n",
              "  <svg xmlns=\"http://www.w3.org/2000/svg\" height=\"24px\" viewBox=\"0 -960 960 960\">\n",
              "    <path d=\"M120-120v-720h720v720H120Zm60-500h600v-160H180v160Zm220 220h160v-160H400v160Zm0 220h160v-160H400v160ZM180-400h160v-160H180v160Zm440 0h160v-160H620v160ZM180-180h160v-160H180v160Zm440 0h160v-160H620v160Z\"/>\n",
              "  </svg>\n",
              "    </button>\n",
              "\n",
              "  <style>\n",
              "    .colab-df-container {\n",
              "      display:flex;\n",
              "      gap: 12px;\n",
              "    }\n",
              "\n",
              "    .colab-df-convert {\n",
              "      background-color: #E8F0FE;\n",
              "      border: none;\n",
              "      border-radius: 50%;\n",
              "      cursor: pointer;\n",
              "      display: none;\n",
              "      fill: #1967D2;\n",
              "      height: 32px;\n",
              "      padding: 0 0 0 0;\n",
              "      width: 32px;\n",
              "    }\n",
              "\n",
              "    .colab-df-convert:hover {\n",
              "      background-color: #E2EBFA;\n",
              "      box-shadow: 0px 1px 2px rgba(60, 64, 67, 0.3), 0px 1px 3px 1px rgba(60, 64, 67, 0.15);\n",
              "      fill: #174EA6;\n",
              "    }\n",
              "\n",
              "    .colab-df-buttons div {\n",
              "      margin-bottom: 4px;\n",
              "    }\n",
              "\n",
              "    [theme=dark] .colab-df-convert {\n",
              "      background-color: #3B4455;\n",
              "      fill: #D2E3FC;\n",
              "    }\n",
              "\n",
              "    [theme=dark] .colab-df-convert:hover {\n",
              "      background-color: #434B5C;\n",
              "      box-shadow: 0px 1px 3px 1px rgba(0, 0, 0, 0.15);\n",
              "      filter: drop-shadow(0px 1px 2px rgba(0, 0, 0, 0.3));\n",
              "      fill: #FFFFFF;\n",
              "    }\n",
              "  </style>\n",
              "\n",
              "    <script>\n",
              "      const buttonEl =\n",
              "        document.querySelector('#df-50d3952d-150b-41c1-892f-746b19297b4a button.colab-df-convert');\n",
              "      buttonEl.style.display =\n",
              "        google.colab.kernel.accessAllowed ? 'block' : 'none';\n",
              "\n",
              "      async function convertToInteractive(key) {\n",
              "        const element = document.querySelector('#df-50d3952d-150b-41c1-892f-746b19297b4a');\n",
              "        const dataTable =\n",
              "          await google.colab.kernel.invokeFunction('convertToInteractive',\n",
              "                                                    [key], {});\n",
              "        if (!dataTable) return;\n",
              "\n",
              "        const docLinkHtml = 'Like what you see? Visit the ' +\n",
              "          '<a target=\"_blank\" href=https://colab.research.google.com/notebooks/data_table.ipynb>data table notebook</a>'\n",
              "          + ' to learn more about interactive tables.';\n",
              "        element.innerHTML = '';\n",
              "        dataTable['output_type'] = 'display_data';\n",
              "        await google.colab.output.renderOutput(dataTable, element);\n",
              "        const docLink = document.createElement('div');\n",
              "        docLink.innerHTML = docLinkHtml;\n",
              "        element.appendChild(docLink);\n",
              "      }\n",
              "    </script>\n",
              "  </div>\n",
              "\n",
              "\n",
              "<div id=\"df-9719ac1f-9516-49b4-bdba-dbfbae3eb84c\">\n",
              "  <button class=\"colab-df-quickchart\" onclick=\"quickchart('df-9719ac1f-9516-49b4-bdba-dbfbae3eb84c')\"\n",
              "            title=\"Suggest charts\"\n",
              "            style=\"display:none;\">\n",
              "\n",
              "<svg xmlns=\"http://www.w3.org/2000/svg\" height=\"24px\"viewBox=\"0 0 24 24\"\n",
              "     width=\"24px\">\n",
              "    <g>\n",
              "        <path d=\"M19 3H5c-1.1 0-2 .9-2 2v14c0 1.1.9 2 2 2h14c1.1 0 2-.9 2-2V5c0-1.1-.9-2-2-2zM9 17H7v-7h2v7zm4 0h-2V7h2v10zm4 0h-2v-4h2v4z\"/>\n",
              "    </g>\n",
              "</svg>\n",
              "  </button>\n",
              "\n",
              "<style>\n",
              "  .colab-df-quickchart {\n",
              "      --bg-color: #E8F0FE;\n",
              "      --fill-color: #1967D2;\n",
              "      --hover-bg-color: #E2EBFA;\n",
              "      --hover-fill-color: #174EA6;\n",
              "      --disabled-fill-color: #AAA;\n",
              "      --disabled-bg-color: #DDD;\n",
              "  }\n",
              "\n",
              "  [theme=dark] .colab-df-quickchart {\n",
              "      --bg-color: #3B4455;\n",
              "      --fill-color: #D2E3FC;\n",
              "      --hover-bg-color: #434B5C;\n",
              "      --hover-fill-color: #FFFFFF;\n",
              "      --disabled-bg-color: #3B4455;\n",
              "      --disabled-fill-color: #666;\n",
              "  }\n",
              "\n",
              "  .colab-df-quickchart {\n",
              "    background-color: var(--bg-color);\n",
              "    border: none;\n",
              "    border-radius: 50%;\n",
              "    cursor: pointer;\n",
              "    display: none;\n",
              "    fill: var(--fill-color);\n",
              "    height: 32px;\n",
              "    padding: 0;\n",
              "    width: 32px;\n",
              "  }\n",
              "\n",
              "  .colab-df-quickchart:hover {\n",
              "    background-color: var(--hover-bg-color);\n",
              "    box-shadow: 0 1px 2px rgba(60, 64, 67, 0.3), 0 1px 3px 1px rgba(60, 64, 67, 0.15);\n",
              "    fill: var(--button-hover-fill-color);\n",
              "  }\n",
              "\n",
              "  .colab-df-quickchart-complete:disabled,\n",
              "  .colab-df-quickchart-complete:disabled:hover {\n",
              "    background-color: var(--disabled-bg-color);\n",
              "    fill: var(--disabled-fill-color);\n",
              "    box-shadow: none;\n",
              "  }\n",
              "\n",
              "  .colab-df-spinner {\n",
              "    border: 2px solid var(--fill-color);\n",
              "    border-color: transparent;\n",
              "    border-bottom-color: var(--fill-color);\n",
              "    animation:\n",
              "      spin 1s steps(1) infinite;\n",
              "  }\n",
              "\n",
              "  @keyframes spin {\n",
              "    0% {\n",
              "      border-color: transparent;\n",
              "      border-bottom-color: var(--fill-color);\n",
              "      border-left-color: var(--fill-color);\n",
              "    }\n",
              "    20% {\n",
              "      border-color: transparent;\n",
              "      border-left-color: var(--fill-color);\n",
              "      border-top-color: var(--fill-color);\n",
              "    }\n",
              "    30% {\n",
              "      border-color: transparent;\n",
              "      border-left-color: var(--fill-color);\n",
              "      border-top-color: var(--fill-color);\n",
              "      border-right-color: var(--fill-color);\n",
              "    }\n",
              "    40% {\n",
              "      border-color: transparent;\n",
              "      border-right-color: var(--fill-color);\n",
              "      border-top-color: var(--fill-color);\n",
              "    }\n",
              "    60% {\n",
              "      border-color: transparent;\n",
              "      border-right-color: var(--fill-color);\n",
              "    }\n",
              "    80% {\n",
              "      border-color: transparent;\n",
              "      border-right-color: var(--fill-color);\n",
              "      border-bottom-color: var(--fill-color);\n",
              "    }\n",
              "    90% {\n",
              "      border-color: transparent;\n",
              "      border-bottom-color: var(--fill-color);\n",
              "    }\n",
              "  }\n",
              "</style>\n",
              "\n",
              "  <script>\n",
              "    async function quickchart(key) {\n",
              "      const quickchartButtonEl =\n",
              "        document.querySelector('#' + key + ' button');\n",
              "      quickchartButtonEl.disabled = true;  // To prevent multiple clicks.\n",
              "      quickchartButtonEl.classList.add('colab-df-spinner');\n",
              "      try {\n",
              "        const charts = await google.colab.kernel.invokeFunction(\n",
              "            'suggestCharts', [key], {});\n",
              "      } catch (error) {\n",
              "        console.error('Error during call to suggestCharts:', error);\n",
              "      }\n",
              "      quickchartButtonEl.classList.remove('colab-df-spinner');\n",
              "      quickchartButtonEl.classList.add('colab-df-quickchart-complete');\n",
              "    }\n",
              "    (() => {\n",
              "      let quickchartButtonEl =\n",
              "        document.querySelector('#df-9719ac1f-9516-49b4-bdba-dbfbae3eb84c button');\n",
              "      quickchartButtonEl.style.display =\n",
              "        google.colab.kernel.accessAllowed ? 'block' : 'none';\n",
              "    })();\n",
              "  </script>\n",
              "</div>\n",
              "    </div>\n",
              "  </div>\n"
            ],
            "text/plain": [
              "     Table              Type Offenses\n",
              "0  Table A  Serious felonies    136.1\n",
              "1  Table A  Serious felonies    210.5\n",
              "2  Table A  Serious felonies      244\n",
              "3  Table A  Serious felonies    245.2\n",
              "4  Table A  Serious felonies    245.3"
            ]
          },
          "execution_count": 6,
          "metadata": {},
          "output_type": "execute_result"
        }
      ],
      "source": [
        "sorting_criteria.head()"
      ]
    },
    {
      "cell_type": "markdown",
      "metadata": {
        "id": "ULR7eMXKQOcj"
      },
      "source": [
        "#Demographics"
      ]
    },
    {
      "cell_type": "code",
      "execution_count": null,
      "metadata": {
        "id": "_SETv2HWP9L1"
      },
      "outputs": [],
      "source": [
        "county_demographics_sheet = '/'.join([data_path, county_name, month, 'demographics.xlsx'])"
      ]
    },
    {
      "cell_type": "code",
      "execution_count": null,
      "metadata": {
        "id": "B6pplr6oTeKu"
      },
      "outputs": [],
      "source": [
        "# Load the data\n",
        "demographics = pd.read_excel(county_demographics_sheet)"
      ]
    },
    {
      "cell_type": "code",
      "execution_count": null,
      "metadata": {
        "colab": {
          "base_uri": "https://localhost:8080/",
          "height": 602
        },
        "id": "oRLKj_7pTphh",
        "outputId": "5eeb50cc-aa2b-4c50-ceff-05b7bdc4a9aa"
      },
      "outputs": [
        {
          "data": {
            "text/html": [
              "\n",
              "  <div id=\"df-e6824c51-82b1-4e35-bb41-b4aa522d3b85\" class=\"colab-df-container\">\n",
              "    <div>\n",
              "<style scoped>\n",
              "    .dataframe tbody tr th:only-of-type {\n",
              "        vertical-align: middle;\n",
              "    }\n",
              "\n",
              "    .dataframe tbody tr th {\n",
              "        vertical-align: top;\n",
              "    }\n",
              "\n",
              "    .dataframe thead th {\n",
              "        text-align: right;\n",
              "    }\n",
              "</style>\n",
              "<table border=\"1\" class=\"dataframe\">\n",
              "  <thead>\n",
              "    <tr style=\"text-align: right;\">\n",
              "      <th></th>\n",
              "      <th>CDCR #</th>\n",
              "      <th>Name</th>\n",
              "      <th>Birthday</th>\n",
              "      <th>Ethnicity</th>\n",
              "      <th>Gender</th>\n",
              "      <th>Controlling Offense</th>\n",
              "      <th>Description</th>\n",
              "      <th>Offense Begin Date</th>\n",
              "      <th>Offense End Date</th>\n",
              "      <th>Controlling Case Number</th>\n",
              "      <th>...</th>\n",
              "      <th>Current Classication Score</th>\n",
              "      <th>Current Security Level</th>\n",
              "      <th>Classification Score 5 Years\\nAgo</th>\n",
              "      <th>Sex Registrant</th>\n",
              "      <th>Mental Health Level of Care</th>\n",
              "      <th>CSRA</th>\n",
              "      <th>DPPV Disability - Mobility</th>\n",
              "      <th>DPPV Disability - Hearing</th>\n",
              "      <th>DPPV Disability - Vision</th>\n",
              "      <th>DPPV Disability - Speech</th>\n",
              "    </tr>\n",
              "  </thead>\n",
              "  <tbody>\n",
              "    <tr>\n",
              "      <th>0</th>\n",
              "      <td>WG4612</td>\n",
              "      <td>GUIDRY,LAWANICA</td>\n",
              "      <td>1965-12-14</td>\n",
              "      <td>Black</td>\n",
              "      <td>Female</td>\n",
              "      <td>PC187</td>\n",
              "      <td>Murder 1st</td>\n",
              "      <td>2017-03-21</td>\n",
              "      <td>2017-03-21 00:00:00</td>\n",
              "      <td>BA455966</td>\n",
              "      <td>...</td>\n",
              "      <td>44</td>\n",
              "      <td>III</td>\n",
              "      <td></td>\n",
              "      <td>No</td>\n",
              "      <td>Correction Clinical Case Mgt System</td>\n",
              "      <td>Low</td>\n",
              "      <td>Intermittent Wheelchair User Impacting Placement</td>\n",
              "      <td>Hearing Impairment NOT Impacting Placement</td>\n",
              "      <td></td>\n",
              "      <td></td>\n",
              "    </tr>\n",
              "    <tr>\n",
              "      <th>1</th>\n",
              "      <td>W38977</td>\n",
              "      <td>RAMOS,MARSHA</td>\n",
              "      <td>1954-03-03</td>\n",
              "      <td>White</td>\n",
              "      <td>Female</td>\n",
              "      <td>PC187 2nd</td>\n",
              "      <td>Murder 2nd</td>\n",
              "      <td>1987-09-18</td>\n",
              "      <td>1987-09-18 00:00:00</td>\n",
              "      <td>A708668</td>\n",
              "      <td>...</td>\n",
              "      <td>19</td>\n",
              "      <td>II</td>\n",
              "      <td>19</td>\n",
              "      <td>Yes</td>\n",
              "      <td>General Population</td>\n",
              "      <td>Low</td>\n",
              "      <td></td>\n",
              "      <td></td>\n",
              "      <td></td>\n",
              "      <td></td>\n",
              "    </tr>\n",
              "    <tr>\n",
              "      <th>2</th>\n",
              "      <td>WE7745</td>\n",
              "      <td>CISNEROS,DIANE L.</td>\n",
              "      <td>1950-04-30</td>\n",
              "      <td>Hispanic</td>\n",
              "      <td>Female</td>\n",
              "      <td>PC212.5(c)</td>\n",
              "      <td>Robbery 2nd</td>\n",
              "      <td>2013-06-20</td>\n",
              "      <td>2013-06-20 00:00:00</td>\n",
              "      <td>BA412721</td>\n",
              "      <td>...</td>\n",
              "      <td>19</td>\n",
              "      <td>II</td>\n",
              "      <td>26</td>\n",
              "      <td>No</td>\n",
              "      <td>Correction Clinical Case Mgt System</td>\n",
              "      <td>Low</td>\n",
              "      <td>Intermittent Wheelchair User Impacting Placement</td>\n",
              "      <td></td>\n",
              "      <td></td>\n",
              "      <td></td>\n",
              "    </tr>\n",
              "    <tr>\n",
              "      <th>3</th>\n",
              "      <td>WF4252</td>\n",
              "      <td>ANNIS,RAMONA</td>\n",
              "      <td>1962-05-23</td>\n",
              "      <td>Other</td>\n",
              "      <td>Female</td>\n",
              "      <td>PC192(a)</td>\n",
              "      <td>Voluntary Manslaughter</td>\n",
              "      <td>2015-08-18</td>\n",
              "      <td>2015-08-18 00:00:00</td>\n",
              "      <td>TA137977</td>\n",
              "      <td>...</td>\n",
              "      <td>19</td>\n",
              "      <td>II</td>\n",
              "      <td></td>\n",
              "      <td>No</td>\n",
              "      <td>Correction Clinical Case Mgt System</td>\n",
              "      <td>Low</td>\n",
              "      <td></td>\n",
              "      <td></td>\n",
              "      <td></td>\n",
              "      <td></td>\n",
              "    </tr>\n",
              "    <tr>\n",
              "      <th>4</th>\n",
              "      <td>WE9867</td>\n",
              "      <td>WILKINS,SHERRI L.</td>\n",
              "      <td>1961-03-28</td>\n",
              "      <td>White</td>\n",
              "      <td>Female</td>\n",
              "      <td>PC187 2nd</td>\n",
              "      <td>Murder 2nd</td>\n",
              "      <td>2012-11-24</td>\n",
              "      <td>2012-11-24 00:00:00</td>\n",
              "      <td>YA086025</td>\n",
              "      <td>...</td>\n",
              "      <td>22</td>\n",
              "      <td>II</td>\n",
              "      <td>66</td>\n",
              "      <td>No</td>\n",
              "      <td>General Population</td>\n",
              "      <td>Low</td>\n",
              "      <td>Intermittent Wheelchair User Impacting Placement</td>\n",
              "      <td></td>\n",
              "      <td></td>\n",
              "      <td></td>\n",
              "    </tr>\n",
              "  </tbody>\n",
              "</table>\n",
              "<p>5 rows × 26 columns</p>\n",
              "</div>\n",
              "    <div class=\"colab-df-buttons\">\n",
              "\n",
              "  <div class=\"colab-df-container\">\n",
              "    <button class=\"colab-df-convert\" onclick=\"convertToInteractive('df-e6824c51-82b1-4e35-bb41-b4aa522d3b85')\"\n",
              "            title=\"Convert this dataframe to an interactive table.\"\n",
              "            style=\"display:none;\">\n",
              "\n",
              "  <svg xmlns=\"http://www.w3.org/2000/svg\" height=\"24px\" viewBox=\"0 -960 960 960\">\n",
              "    <path d=\"M120-120v-720h720v720H120Zm60-500h600v-160H180v160Zm220 220h160v-160H400v160Zm0 220h160v-160H400v160ZM180-400h160v-160H180v160Zm440 0h160v-160H620v160ZM180-180h160v-160H180v160Zm440 0h160v-160H620v160Z\"/>\n",
              "  </svg>\n",
              "    </button>\n",
              "\n",
              "  <style>\n",
              "    .colab-df-container {\n",
              "      display:flex;\n",
              "      gap: 12px;\n",
              "    }\n",
              "\n",
              "    .colab-df-convert {\n",
              "      background-color: #E8F0FE;\n",
              "      border: none;\n",
              "      border-radius: 50%;\n",
              "      cursor: pointer;\n",
              "      display: none;\n",
              "      fill: #1967D2;\n",
              "      height: 32px;\n",
              "      padding: 0 0 0 0;\n",
              "      width: 32px;\n",
              "    }\n",
              "\n",
              "    .colab-df-convert:hover {\n",
              "      background-color: #E2EBFA;\n",
              "      box-shadow: 0px 1px 2px rgba(60, 64, 67, 0.3), 0px 1px 3px 1px rgba(60, 64, 67, 0.15);\n",
              "      fill: #174EA6;\n",
              "    }\n",
              "\n",
              "    .colab-df-buttons div {\n",
              "      margin-bottom: 4px;\n",
              "    }\n",
              "\n",
              "    [theme=dark] .colab-df-convert {\n",
              "      background-color: #3B4455;\n",
              "      fill: #D2E3FC;\n",
              "    }\n",
              "\n",
              "    [theme=dark] .colab-df-convert:hover {\n",
              "      background-color: #434B5C;\n",
              "      box-shadow: 0px 1px 3px 1px rgba(0, 0, 0, 0.15);\n",
              "      filter: drop-shadow(0px 1px 2px rgba(0, 0, 0, 0.3));\n",
              "      fill: #FFFFFF;\n",
              "    }\n",
              "  </style>\n",
              "\n",
              "    <script>\n",
              "      const buttonEl =\n",
              "        document.querySelector('#df-e6824c51-82b1-4e35-bb41-b4aa522d3b85 button.colab-df-convert');\n",
              "      buttonEl.style.display =\n",
              "        google.colab.kernel.accessAllowed ? 'block' : 'none';\n",
              "\n",
              "      async function convertToInteractive(key) {\n",
              "        const element = document.querySelector('#df-e6824c51-82b1-4e35-bb41-b4aa522d3b85');\n",
              "        const dataTable =\n",
              "          await google.colab.kernel.invokeFunction('convertToInteractive',\n",
              "                                                    [key], {});\n",
              "        if (!dataTable) return;\n",
              "\n",
              "        const docLinkHtml = 'Like what you see? Visit the ' +\n",
              "          '<a target=\"_blank\" href=https://colab.research.google.com/notebooks/data_table.ipynb>data table notebook</a>'\n",
              "          + ' to learn more about interactive tables.';\n",
              "        element.innerHTML = '';\n",
              "        dataTable['output_type'] = 'display_data';\n",
              "        await google.colab.output.renderOutput(dataTable, element);\n",
              "        const docLink = document.createElement('div');\n",
              "        docLink.innerHTML = docLinkHtml;\n",
              "        element.appendChild(docLink);\n",
              "      }\n",
              "    </script>\n",
              "  </div>\n",
              "\n",
              "\n",
              "<div id=\"df-f664780b-2216-40a6-a2e8-90d8bf22b623\">\n",
              "  <button class=\"colab-df-quickchart\" onclick=\"quickchart('df-f664780b-2216-40a6-a2e8-90d8bf22b623')\"\n",
              "            title=\"Suggest charts\"\n",
              "            style=\"display:none;\">\n",
              "\n",
              "<svg xmlns=\"http://www.w3.org/2000/svg\" height=\"24px\"viewBox=\"0 0 24 24\"\n",
              "     width=\"24px\">\n",
              "    <g>\n",
              "        <path d=\"M19 3H5c-1.1 0-2 .9-2 2v14c0 1.1.9 2 2 2h14c1.1 0 2-.9 2-2V5c0-1.1-.9-2-2-2zM9 17H7v-7h2v7zm4 0h-2V7h2v10zm4 0h-2v-4h2v4z\"/>\n",
              "    </g>\n",
              "</svg>\n",
              "  </button>\n",
              "\n",
              "<style>\n",
              "  .colab-df-quickchart {\n",
              "      --bg-color: #E8F0FE;\n",
              "      --fill-color: #1967D2;\n",
              "      --hover-bg-color: #E2EBFA;\n",
              "      --hover-fill-color: #174EA6;\n",
              "      --disabled-fill-color: #AAA;\n",
              "      --disabled-bg-color: #DDD;\n",
              "  }\n",
              "\n",
              "  [theme=dark] .colab-df-quickchart {\n",
              "      --bg-color: #3B4455;\n",
              "      --fill-color: #D2E3FC;\n",
              "      --hover-bg-color: #434B5C;\n",
              "      --hover-fill-color: #FFFFFF;\n",
              "      --disabled-bg-color: #3B4455;\n",
              "      --disabled-fill-color: #666;\n",
              "  }\n",
              "\n",
              "  .colab-df-quickchart {\n",
              "    background-color: var(--bg-color);\n",
              "    border: none;\n",
              "    border-radius: 50%;\n",
              "    cursor: pointer;\n",
              "    display: none;\n",
              "    fill: var(--fill-color);\n",
              "    height: 32px;\n",
              "    padding: 0;\n",
              "    width: 32px;\n",
              "  }\n",
              "\n",
              "  .colab-df-quickchart:hover {\n",
              "    background-color: var(--hover-bg-color);\n",
              "    box-shadow: 0 1px 2px rgba(60, 64, 67, 0.3), 0 1px 3px 1px rgba(60, 64, 67, 0.15);\n",
              "    fill: var(--button-hover-fill-color);\n",
              "  }\n",
              "\n",
              "  .colab-df-quickchart-complete:disabled,\n",
              "  .colab-df-quickchart-complete:disabled:hover {\n",
              "    background-color: var(--disabled-bg-color);\n",
              "    fill: var(--disabled-fill-color);\n",
              "    box-shadow: none;\n",
              "  }\n",
              "\n",
              "  .colab-df-spinner {\n",
              "    border: 2px solid var(--fill-color);\n",
              "    border-color: transparent;\n",
              "    border-bottom-color: var(--fill-color);\n",
              "    animation:\n",
              "      spin 1s steps(1) infinite;\n",
              "  }\n",
              "\n",
              "  @keyframes spin {\n",
              "    0% {\n",
              "      border-color: transparent;\n",
              "      border-bottom-color: var(--fill-color);\n",
              "      border-left-color: var(--fill-color);\n",
              "    }\n",
              "    20% {\n",
              "      border-color: transparent;\n",
              "      border-left-color: var(--fill-color);\n",
              "      border-top-color: var(--fill-color);\n",
              "    }\n",
              "    30% {\n",
              "      border-color: transparent;\n",
              "      border-left-color: var(--fill-color);\n",
              "      border-top-color: var(--fill-color);\n",
              "      border-right-color: var(--fill-color);\n",
              "    }\n",
              "    40% {\n",
              "      border-color: transparent;\n",
              "      border-right-color: var(--fill-color);\n",
              "      border-top-color: var(--fill-color);\n",
              "    }\n",
              "    60% {\n",
              "      border-color: transparent;\n",
              "      border-right-color: var(--fill-color);\n",
              "    }\n",
              "    80% {\n",
              "      border-color: transparent;\n",
              "      border-right-color: var(--fill-color);\n",
              "      border-bottom-color: var(--fill-color);\n",
              "    }\n",
              "    90% {\n",
              "      border-color: transparent;\n",
              "      border-bottom-color: var(--fill-color);\n",
              "    }\n",
              "  }\n",
              "</style>\n",
              "\n",
              "  <script>\n",
              "    async function quickchart(key) {\n",
              "      const quickchartButtonEl =\n",
              "        document.querySelector('#' + key + ' button');\n",
              "      quickchartButtonEl.disabled = true;  // To prevent multiple clicks.\n",
              "      quickchartButtonEl.classList.add('colab-df-spinner');\n",
              "      try {\n",
              "        const charts = await google.colab.kernel.invokeFunction(\n",
              "            'suggestCharts', [key], {});\n",
              "      } catch (error) {\n",
              "        console.error('Error during call to suggestCharts:', error);\n",
              "      }\n",
              "      quickchartButtonEl.classList.remove('colab-df-spinner');\n",
              "      quickchartButtonEl.classList.add('colab-df-quickchart-complete');\n",
              "    }\n",
              "    (() => {\n",
              "      let quickchartButtonEl =\n",
              "        document.querySelector('#df-f664780b-2216-40a6-a2e8-90d8bf22b623 button');\n",
              "      quickchartButtonEl.style.display =\n",
              "        google.colab.kernel.accessAllowed ? 'block' : 'none';\n",
              "    })();\n",
              "  </script>\n",
              "</div>\n",
              "    </div>\n",
              "  </div>\n"
            ],
            "text/plain": [
              "   CDCR #               Name   Birthday Ethnicity  Gender Controlling Offense  \\\n",
              "0  WG4612    GUIDRY,LAWANICA 1965-12-14     Black  Female               PC187   \n",
              "1  W38977       RAMOS,MARSHA 1954-03-03     White  Female           PC187 2nd   \n",
              "2  WE7745  CISNEROS,DIANE L. 1950-04-30  Hispanic  Female          PC212.5(c)   \n",
              "3  WF4252       ANNIS,RAMONA 1962-05-23     Other  Female            PC192(a)   \n",
              "4  WE9867  WILKINS,SHERRI L. 1961-03-28     White  Female           PC187 2nd   \n",
              "\n",
              "              Description Offense Begin Date     Offense End Date  \\\n",
              "0              Murder 1st         2017-03-21  2017-03-21 00:00:00   \n",
              "1              Murder 2nd         1987-09-18  1987-09-18 00:00:00   \n",
              "2             Robbery 2nd         2013-06-20  2013-06-20 00:00:00   \n",
              "3  Voluntary Manslaughter         2015-08-18  2015-08-18 00:00:00   \n",
              "4              Murder 2nd         2012-11-24  2012-11-24 00:00:00   \n",
              "\n",
              "  Controlling Case Number  ... Current Classication Score  \\\n",
              "0                BA455966  ...                         44   \n",
              "1                 A708668  ...                         19   \n",
              "2                BA412721  ...                         19   \n",
              "3                TA137977  ...                         19   \n",
              "4                YA086025  ...                         22   \n",
              "\n",
              "  Current Security Level  Classification Score 5 Years\\nAgo Sex Registrant  \\\n",
              "0                    III                                                No   \n",
              "1                     II                                 19            Yes   \n",
              "2                     II                                 26             No   \n",
              "3                     II                                                No   \n",
              "4                     II                                 66             No   \n",
              "\n",
              "           Mental Health Level of Care CSRA  \\\n",
              "0  Correction Clinical Case Mgt System  Low   \n",
              "1                   General Population  Low   \n",
              "2  Correction Clinical Case Mgt System  Low   \n",
              "3  Correction Clinical Case Mgt System  Low   \n",
              "4                   General Population  Low   \n",
              "\n",
              "                         DPPV Disability - Mobility  \\\n",
              "0  Intermittent Wheelchair User Impacting Placement   \n",
              "1                                                     \n",
              "2  Intermittent Wheelchair User Impacting Placement   \n",
              "3                                                     \n",
              "4  Intermittent Wheelchair User Impacting Placement   \n",
              "\n",
              "                    DPPV Disability - Hearing DPPV Disability - Vision  \\\n",
              "0  Hearing Impairment NOT Impacting Placement                            \n",
              "1                                                                        \n",
              "2                                                                        \n",
              "3                                                                        \n",
              "4                                                                        \n",
              "\n",
              "  DPPV Disability - Speech  \n",
              "0                           \n",
              "1                           \n",
              "2                           \n",
              "3                           \n",
              "4                           \n",
              "\n",
              "[5 rows x 26 columns]"
            ]
          },
          "execution_count": 9,
          "metadata": {},
          "output_type": "execute_result"
        }
      ],
      "source": [
        "demographics.head()"
      ]
    },
    {
      "cell_type": "markdown",
      "metadata": {
        "id": "cb2300sjilFi"
      },
      "source": [
        "Visualizing demographics data"
      ]
    },
    {
      "cell_type": "code",
      "execution_count": null,
      "metadata": {
        "colab": {
          "base_uri": "https://localhost:8080/",
          "height": 465
        },
        "id": "r_8GFfWWgwNU",
        "outputId": "2df2adc7-2191-4a82-cd39-aa919de2c955"
      },
      "outputs": [
        {
          "name": "stdout",
          "output_type": "stream",
          "text": [
            "Demographics by ethnicity\n"
          ]
        },
        {
          "data": {
            "text/plain": [
              "<Axes: >"
            ]
          },
          "execution_count": 10,
          "metadata": {},
          "output_type": "execute_result"
        },
        {
          "data": {
            "image/png": "[encoded data removed]",
            "text/plain": [
              "<Figure size 640x480 with 1 Axes>"
            ]
          },
          "metadata": {},
          "output_type": "display_data"
        }
      ],
      "source": [
        "print('Demographics by ethnicity')\n",
        "demographics[demographics['Ethnicity'].isin(['Black', 'White', 'Hispanic', 'Mexican', 'Other'])]['Ethnicity'].hist()"
      ]
    },
    {
      "cell_type": "code",
      "execution_count": null,
      "metadata": {
        "colab": {
          "base_uri": "https://localhost:8080/",
          "height": 564
        },
        "id": "gD6rr4MqiDxJ",
        "outputId": "45751769-4bdd-466a-aab4-be289bab0fd7"
      },
      "outputs": [
        {
          "name": "stdout",
          "output_type": "stream",
          "text": [
            "Demographics by ethnicity\n"
          ]
        },
        {
          "data": {
            "text/plain": [
              "<Axes: >"
            ]
          },
          "execution_count": 11,
          "metadata": {},
          "output_type": "execute_result"
        },
        {
          "data": {
            "image/png": "[encoded data removed]",
            "text/plain": [
              "<Figure size 640x480 with 1 Axes>"
            ]
          },
          "metadata": {},
          "output_type": "display_data"
        }
      ],
      "source": [
        "print('Demographics by ethnicity')\n",
        "demographics[~demographics['Ethnicity'].isin(['Black', 'White', 'Hispanic', 'Mexican', 'Other'])]['Ethnicity'].hist(xrot = 90)"
      ]
    },
    {
      "cell_type": "markdown",
      "metadata": {
        "id": "PDh4xzybHXTI"
      },
      "source": [
        "# Individual Details"
      ]
    },
    {
      "cell_type": "code",
      "execution_count": null,
      "metadata": {
        "id": "BW8ttFzuHZYA"
      },
      "outputs": [],
      "source": [
        "# Education merit\n",
        "merit_credit_sheet = '/'.join([data_path, county_name, month, 'EducationMeritCredits.xlsx'])\n",
        "merit_credit = pd.read_excel(merit_credit_sheet)\n",
        "# Milestone credit\n",
        "milestone_credit_sheet = '/'.join([data_path, county_name, month, 'MilestoneCompletionCredits.xlsx'])\n",
        "milestone_credit = pd.read_excel(milestone_credit_sheet)\n",
        "# Rehab credit\n",
        "rehab_credit_sheet = '/'.join([data_path, county_name, month, 'RehabilitiveAchievementCredits.xlsx'])\n",
        "rehab_credit = pd.read_excel(rehab_credit_sheet)\n",
        "# Vocational education credit\n",
        "voced_sheet = '/'.join([data_path, county_name, month, 'VocEd_TrainingCerts.xlsx'])\n",
        "voced_credit = pd.read_excel(voced_sheet)\n",
        "# Rule violations\n",
        "rvr_sheet = '/'.join([data_path, county_name, month, 'RVRs.xlsx'])\n",
        "rv_report = pd.read_excel(rvr_sheet)"
      ]
    },
    {
      "cell_type": "markdown",
      "metadata": {
        "id": "JwYcvCfEZ58Z"
      },
      "source": [
        "#Current Commitments"
      ]
    },
    {
      "cell_type": "code",
      "execution_count": null,
      "metadata": {
        "id": "Ut1F93ttZ8Pb"
      },
      "outputs": [],
      "source": [
        "county_current_commits_sheet = '/'.join([data_path, county_name, month, 'currentcommitments.xlsx'])"
      ]
    },
    {
      "cell_type": "code",
      "execution_count": null,
      "metadata": {
        "id": "SEycgRLnaF4b"
      },
      "outputs": [],
      "source": [
        "current_commits = pd.read_excel(county_current_commits_sheet)"
      ]
    },
    {
      "cell_type": "code",
      "execution_count": null,
      "metadata": {
        "colab": {
          "base_uri": "https://localhost:8080/",
          "height": 481
        },
        "id": "S9q312WKbFgJ",
        "outputId": "e41dad3a-e8ab-4c27-8352-55100bbd6902"
      },
      "outputs": [
        {
          "data": {
            "text/html": [
              "\n",
              "  <div id=\"df-2ab48f4a-9524-44d0-a619-7a243a92bb69\" class=\"colab-df-container\">\n",
              "    <div>\n",
              "<style scoped>\n",
              "    .dataframe tbody tr th:only-of-type {\n",
              "        vertical-align: middle;\n",
              "    }\n",
              "\n",
              "    .dataframe tbody tr th {\n",
              "        vertical-align: top;\n",
              "    }\n",
              "\n",
              "    .dataframe thead th {\n",
              "        text-align: right;\n",
              "    }\n",
              "</style>\n",
              "<table border=\"1\" class=\"dataframe\">\n",
              "  <thead>\n",
              "    <tr style=\"text-align: right;\">\n",
              "      <th></th>\n",
              "      <th>CDCR #</th>\n",
              "      <th>Sentencing County</th>\n",
              "      <th>Case Number</th>\n",
              "      <th>Sentence From Abstract of\\nJudgement</th>\n",
              "      <th>Offense</th>\n",
              "      <th>Offense Description</th>\n",
              "      <th>Offense Category</th>\n",
              "      <th>In-prison</th>\n",
              "      <th>Offense Begin Date</th>\n",
              "      <th>Offense End Date</th>\n",
              "      <th>...</th>\n",
              "      <th>Off_Enh2</th>\n",
              "      <th>Off_Enh_Desc2</th>\n",
              "      <th>Off_Enh3</th>\n",
              "      <th>Off_Enh_Desc3</th>\n",
              "      <th>Off_Enh4</th>\n",
              "      <th>Off_Enh_Desc4</th>\n",
              "      <th>Off_Enh5</th>\n",
              "      <th>Off_Enh_Desc5</th>\n",
              "      <th>Off_Enh6</th>\n",
              "      <th>Off_Enh_Desc6</th>\n",
              "    </tr>\n",
              "  </thead>\n",
              "  <tbody>\n",
              "    <tr>\n",
              "      <th>0</th>\n",
              "      <td>A44862</td>\n",
              "      <td>Los Angeles</td>\n",
              "      <td>197499</td>\n",
              "      <td>Life with Parole</td>\n",
              "      <td>PC187</td>\n",
              "      <td>Murder 1st</td>\n",
              "      <td>Crimes Against Persons</td>\n",
              "      <td></td>\n",
              "      <td>1957-11-11 00:00:00</td>\n",
              "      <td>1957-11-11 00:00:00</td>\n",
              "      <td>...</td>\n",
              "      <td></td>\n",
              "      <td></td>\n",
              "      <td></td>\n",
              "      <td></td>\n",
              "      <td></td>\n",
              "      <td></td>\n",
              "      <td></td>\n",
              "      <td></td>\n",
              "      <td></td>\n",
              "      <td></td>\n",
              "    </tr>\n",
              "    <tr>\n",
              "      <th>1</th>\n",
              "      <td>A44862</td>\n",
              "      <td>Los Angeles</td>\n",
              "      <td>A016192</td>\n",
              "      <td>Life with Parole</td>\n",
              "      <td>PC187</td>\n",
              "      <td>Murder 1st</td>\n",
              "      <td>Crimes Against Persons</td>\n",
              "      <td>In-Prison</td>\n",
              "      <td>1975-09-30 00:00:00</td>\n",
              "      <td>1975-09-30 00:00:00</td>\n",
              "      <td>...</td>\n",
              "      <td></td>\n",
              "      <td></td>\n",
              "      <td></td>\n",
              "      <td></td>\n",
              "      <td></td>\n",
              "      <td></td>\n",
              "      <td></td>\n",
              "      <td></td>\n",
              "      <td></td>\n",
              "      <td></td>\n",
              "    </tr>\n",
              "    <tr>\n",
              "      <th>2</th>\n",
              "      <td>A44862</td>\n",
              "      <td>Los Angeles</td>\n",
              "      <td>A016192</td>\n",
              "      <td>Life with Parole</td>\n",
              "      <td>PC667(a)</td>\n",
              "      <td>Prior Felony Convction of Serious Offense</td>\n",
              "      <td>Case Enhancement</td>\n",
              "      <td></td>\n",
              "      <td></td>\n",
              "      <td></td>\n",
              "      <td>...</td>\n",
              "      <td></td>\n",
              "      <td></td>\n",
              "      <td></td>\n",
              "      <td></td>\n",
              "      <td></td>\n",
              "      <td></td>\n",
              "      <td></td>\n",
              "      <td></td>\n",
              "      <td></td>\n",
              "      <td></td>\n",
              "    </tr>\n",
              "    <tr>\n",
              "      <th>3</th>\n",
              "      <td>A44862</td>\n",
              "      <td>Santa Clara</td>\n",
              "      <td>SCL66246</td>\n",
              "      <td>Life with Parole</td>\n",
              "      <td>PC187</td>\n",
              "      <td>Murder 1st</td>\n",
              "      <td>Crimes Against Persons</td>\n",
              "      <td>In-Prison</td>\n",
              "      <td>1975-09-30 00:00:00</td>\n",
              "      <td>1975-09-30 00:00:00</td>\n",
              "      <td>...</td>\n",
              "      <td></td>\n",
              "      <td></td>\n",
              "      <td></td>\n",
              "      <td></td>\n",
              "      <td></td>\n",
              "      <td></td>\n",
              "      <td></td>\n",
              "      <td></td>\n",
              "      <td></td>\n",
              "      <td></td>\n",
              "    </tr>\n",
              "    <tr>\n",
              "      <th>4</th>\n",
              "      <td>A44862</td>\n",
              "      <td>Santa Clara</td>\n",
              "      <td>SCL66246</td>\n",
              "      <td>Life with Parole</td>\n",
              "      <td>PC211</td>\n",
              "      <td>Robbery 1st</td>\n",
              "      <td>Crimes Against Persons</td>\n",
              "      <td>In-Prison</td>\n",
              "      <td>1975-09-30 00:00:00</td>\n",
              "      <td>1975-09-30 00:00:00</td>\n",
              "      <td>...</td>\n",
              "      <td></td>\n",
              "      <td></td>\n",
              "      <td></td>\n",
              "      <td></td>\n",
              "      <td></td>\n",
              "      <td></td>\n",
              "      <td></td>\n",
              "      <td></td>\n",
              "      <td></td>\n",
              "      <td></td>\n",
              "    </tr>\n",
              "  </tbody>\n",
              "</table>\n",
              "<p>5 rows × 24 columns</p>\n",
              "</div>\n",
              "    <div class=\"colab-df-buttons\">\n",
              "\n",
              "  <div class=\"colab-df-container\">\n",
              "    <button class=\"colab-df-convert\" onclick=\"convertToInteractive('df-2ab48f4a-9524-44d0-a619-7a243a92bb69')\"\n",
              "            title=\"Convert this dataframe to an interactive table.\"\n",
              "            style=\"display:none;\">\n",
              "\n",
              "  <svg xmlns=\"http://www.w3.org/2000/svg\" height=\"24px\" viewBox=\"0 -960 960 960\">\n",
              "    <path d=\"M120-120v-720h720v720H120Zm60-500h600v-160H180v160Zm220 220h160v-160H400v160Zm0 220h160v-160H400v160ZM180-400h160v-160H180v160Zm440 0h160v-160H620v160ZM180-180h160v-160H180v160Zm440 0h160v-160H620v160Z\"/>\n",
              "  </svg>\n",
              "    </button>\n",
              "\n",
              "  <style>\n",
              "    .colab-df-container {\n",
              "      display:flex;\n",
              "      gap: 12px;\n",
              "    }\n",
              "\n",
              "    .colab-df-convert {\n",
              "      background-color: #E8F0FE;\n",
              "      border: none;\n",
              "      border-radius: 50%;\n",
              "      cursor: pointer;\n",
              "      display: none;\n",
              "      fill: #1967D2;\n",
              "      height: 32px;\n",
              "      padding: 0 0 0 0;\n",
              "      width: 32px;\n",
              "    }\n",
              "\n",
              "    .colab-df-convert:hover {\n",
              "      background-color: #E2EBFA;\n",
              "      box-shadow: 0px 1px 2px rgba(60, 64, 67, 0.3), 0px 1px 3px 1px rgba(60, 64, 67, 0.15);\n",
              "      fill: #174EA6;\n",
              "    }\n",
              "\n",
              "    .colab-df-buttons div {\n",
              "      margin-bottom: 4px;\n",
              "    }\n",
              "\n",
              "    [theme=dark] .colab-df-convert {\n",
              "      background-color: #3B4455;\n",
              "      fill: #D2E3FC;\n",
              "    }\n",
              "\n",
              "    [theme=dark] .colab-df-convert:hover {\n",
              "      background-color: #434B5C;\n",
              "      box-shadow: 0px 1px 3px 1px rgba(0, 0, 0, 0.15);\n",
              "      filter: drop-shadow(0px 1px 2px rgba(0, 0, 0, 0.3));\n",
              "      fill: #FFFFFF;\n",
              "    }\n",
              "  </style>\n",
              "\n",
              "    <script>\n",
              "      const buttonEl =\n",
              "        document.querySelector('#df-2ab48f4a-9524-44d0-a619-7a243a92bb69 button.colab-df-convert');\n",
              "      buttonEl.style.display =\n",
              "        google.colab.kernel.accessAllowed ? 'block' : 'none';\n",
              "\n",
              "      async function convertToInteractive(key) {\n",
              "        const element = document.querySelector('#df-2ab48f4a-9524-44d0-a619-7a243a92bb69');\n",
              "        const dataTable =\n",
              "          await google.colab.kernel.invokeFunction('convertToInteractive',\n",
              "                                                    [key], {});\n",
              "        if (!dataTable) return;\n",
              "\n",
              "        const docLinkHtml = 'Like what you see? Visit the ' +\n",
              "          '<a target=\"_blank\" href=https://colab.research.google.com/notebooks/data_table.ipynb>data table notebook</a>'\n",
              "          + ' to learn more about interactive tables.';\n",
              "        element.innerHTML = '';\n",
              "        dataTable['output_type'] = 'display_data';\n",
              "        await google.colab.output.renderOutput(dataTable, element);\n",
              "        const docLink = document.createElement('div');\n",
              "        docLink.innerHTML = docLinkHtml;\n",
              "        element.appendChild(docLink);\n",
              "      }\n",
              "    </script>\n",
              "  </div>\n",
              "\n",
              "\n",
              "<div id=\"df-c781b156-b10d-4428-bcd3-2f451eb30bde\">\n",
              "  <button class=\"colab-df-quickchart\" onclick=\"quickchart('df-c781b156-b10d-4428-bcd3-2f451eb30bde')\"\n",
              "            title=\"Suggest charts\"\n",
              "            style=\"display:none;\">\n",
              "\n",
              "<svg xmlns=\"http://www.w3.org/2000/svg\" height=\"24px\"viewBox=\"0 0 24 24\"\n",
              "     width=\"24px\">\n",
              "    <g>\n",
              "        <path d=\"M19 3H5c-1.1 0-2 .9-2 2v14c0 1.1.9 2 2 2h14c1.1 0 2-.9 2-2V5c0-1.1-.9-2-2-2zM9 17H7v-7h2v7zm4 0h-2V7h2v10zm4 0h-2v-4h2v4z\"/>\n",
              "    </g>\n",
              "</svg>\n",
              "  </button>\n",
              "\n",
              "<style>\n",
              "  .colab-df-quickchart {\n",
              "      --bg-color: #E8F0FE;\n",
              "      --fill-color: #1967D2;\n",
              "      --hover-bg-color: #E2EBFA;\n",
              "      --hover-fill-color: #174EA6;\n",
              "      --disabled-fill-color: #AAA;\n",
              "      --disabled-bg-color: #DDD;\n",
              "  }\n",
              "\n",
              "  [theme=dark] .colab-df-quickchart {\n",
              "      --bg-color: #3B4455;\n",
              "      --fill-color: #D2E3FC;\n",
              "      --hover-bg-color: #434B5C;\n",
              "      --hover-fill-color: #FFFFFF;\n",
              "      --disabled-bg-color: #3B4455;\n",
              "      --disabled-fill-color: #666;\n",
              "  }\n",
              "\n",
              "  .colab-df-quickchart {\n",
              "    background-color: var(--bg-color);\n",
              "    border: none;\n",
              "    border-radius: 50%;\n",
              "    cursor: pointer;\n",
              "    display: none;\n",
              "    fill: var(--fill-color);\n",
              "    height: 32px;\n",
              "    padding: 0;\n",
              "    width: 32px;\n",
              "  }\n",
              "\n",
              "  .colab-df-quickchart:hover {\n",
              "    background-color: var(--hover-bg-color);\n",
              "    box-shadow: 0 1px 2px rgba(60, 64, 67, 0.3), 0 1px 3px 1px rgba(60, 64, 67, 0.15);\n",
              "    fill: var(--button-hover-fill-color);\n",
              "  }\n",
              "\n",
              "  .colab-df-quickchart-complete:disabled,\n",
              "  .colab-df-quickchart-complete:disabled:hover {\n",
              "    background-color: var(--disabled-bg-color);\n",
              "    fill: var(--disabled-fill-color);\n",
              "    box-shadow: none;\n",
              "  }\n",
              "\n",
              "  .colab-df-spinner {\n",
              "    border: 2px solid var(--fill-color);\n",
              "    border-color: transparent;\n",
              "    border-bottom-color: var(--fill-color);\n",
              "    animation:\n",
              "      spin 1s steps(1) infinite;\n",
              "  }\n",
              "\n",
              "  @keyframes spin {\n",
              "    0% {\n",
              "      border-color: transparent;\n",
              "      border-bottom-color: var(--fill-color);\n",
              "      border-left-color: var(--fill-color);\n",
              "    }\n",
              "    20% {\n",
              "      border-color: transparent;\n",
              "      border-left-color: var(--fill-color);\n",
              "      border-top-color: var(--fill-color);\n",
              "    }\n",
              "    30% {\n",
              "      border-color: transparent;\n",
              "      border-left-color: var(--fill-color);\n",
              "      border-top-color: var(--fill-color);\n",
              "      border-right-color: var(--fill-color);\n",
              "    }\n",
              "    40% {\n",
              "      border-color: transparent;\n",
              "      border-right-color: var(--fill-color);\n",
              "      border-top-color: var(--fill-color);\n",
              "    }\n",
              "    60% {\n",
              "      border-color: transparent;\n",
              "      border-right-color: var(--fill-color);\n",
              "    }\n",
              "    80% {\n",
              "      border-color: transparent;\n",
              "      border-right-color: var(--fill-color);\n",
              "      border-bottom-color: var(--fill-color);\n",
              "    }\n",
              "    90% {\n",
              "      border-color: transparent;\n",
              "      border-bottom-color: var(--fill-color);\n",
              "    }\n",
              "  }\n",
              "</style>\n",
              "\n",
              "  <script>\n",
              "    async function quickchart(key) {\n",
              "      const quickchartButtonEl =\n",
              "        document.querySelector('#' + key + ' button');\n",
              "      quickchartButtonEl.disabled = true;  // To prevent multiple clicks.\n",
              "      quickchartButtonEl.classList.add('colab-df-spinner');\n",
              "      try {\n",
              "        const charts = await google.colab.kernel.invokeFunction(\n",
              "            'suggestCharts', [key], {});\n",
              "      } catch (error) {\n",
              "        console.error('Error during call to suggestCharts:', error);\n",
              "      }\n",
              "      quickchartButtonEl.classList.remove('colab-df-spinner');\n",
              "      quickchartButtonEl.classList.add('colab-df-quickchart-complete');\n",
              "    }\n",
              "    (() => {\n",
              "      let quickchartButtonEl =\n",
              "        document.querySelector('#df-c781b156-b10d-4428-bcd3-2f451eb30bde button');\n",
              "      quickchartButtonEl.style.display =\n",
              "        google.colab.kernel.accessAllowed ? 'block' : 'none';\n",
              "    })();\n",
              "  </script>\n",
              "</div>\n",
              "    </div>\n",
              "  </div>\n"
            ],
            "text/plain": [
              "   CDCR # Sentencing County Case Number Sentence From Abstract of\\nJudgement  \\\n",
              "0  A44862       Los Angeles      197499                     Life with Parole   \n",
              "1  A44862       Los Angeles     A016192                     Life with Parole   \n",
              "2  A44862       Los Angeles     A016192                     Life with Parole   \n",
              "3  A44862       Santa Clara    SCL66246                     Life with Parole   \n",
              "4  A44862       Santa Clara    SCL66246                     Life with Parole   \n",
              "\n",
              "    Offense                        Offense Description  \\\n",
              "0     PC187                                 Murder 1st   \n",
              "1     PC187                                 Murder 1st   \n",
              "2  PC667(a)  Prior Felony Convction of Serious Offense   \n",
              "3     PC187                                 Murder 1st   \n",
              "4     PC211                                Robbery 1st   \n",
              "\n",
              "         Offense Category  In-prison   Offense Begin Date  \\\n",
              "0  Crimes Against Persons             1957-11-11 00:00:00   \n",
              "1  Crimes Against Persons  In-Prison  1975-09-30 00:00:00   \n",
              "2        Case Enhancement                                   \n",
              "3  Crimes Against Persons  In-Prison  1975-09-30 00:00:00   \n",
              "4  Crimes Against Persons  In-Prison  1975-09-30 00:00:00   \n",
              "\n",
              "      Offense End Date  ... Off_Enh2 Off_Enh_Desc2 Off_Enh3 Off_Enh_Desc3  \\\n",
              "0  1957-11-11 00:00:00  ...                                                 \n",
              "1  1975-09-30 00:00:00  ...                                                 \n",
              "2                       ...                                                 \n",
              "3  1975-09-30 00:00:00  ...                                                 \n",
              "4  1975-09-30 00:00:00  ...                                                 \n",
              "\n",
              "  Off_Enh4 Off_Enh_Desc4 Off_Enh5 Off_Enh_Desc5 Off_Enh6 Off_Enh_Desc6  \n",
              "0                                                                       \n",
              "1                                                                       \n",
              "2                                                                       \n",
              "3                                                                       \n",
              "4                                                                       \n",
              "\n",
              "[5 rows x 24 columns]"
            ]
          },
          "execution_count": 15,
          "metadata": {},
          "output_type": "execute_result"
        }
      ],
      "source": [
        "current_commits.head()"
      ]
    },
    {
      "cell_type": "markdown",
      "metadata": {
        "id": "jnmWNO2jbL1K"
      },
      "source": [
        "#Prior Commitments"
      ]
    },
    {
      "cell_type": "code",
      "execution_count": null,
      "metadata": {
        "id": "fKQtUbb-bNH6"
      },
      "outputs": [],
      "source": [
        "county_prior_commits_sheet = '/'.join([data_path, county_name, month, 'priorcommitments.xlsx'])"
      ]
    },
    {
      "cell_type": "code",
      "execution_count": null,
      "metadata": {
        "id": "48RmpqJcbRxX"
      },
      "outputs": [],
      "source": [
        "prior_commits = pd.read_excel(county_prior_commits_sheet)"
      ]
    },
    {
      "cell_type": "code",
      "execution_count": null,
      "metadata": {
        "colab": {
          "base_uri": "https://localhost:8080/",
          "height": 451
        },
        "id": "19Wv5JTHbVID",
        "outputId": "542a359f-875a-473e-c7ac-313ca3364888"
      },
      "outputs": [
        {
          "data": {
            "text/html": [
              "\n",
              "  <div id=\"df-97ff0a2c-29e5-42ad-98bf-3cdd0c968877\" class=\"colab-df-container\">\n",
              "    <div>\n",
              "<style scoped>\n",
              "    .dataframe tbody tr th:only-of-type {\n",
              "        vertical-align: middle;\n",
              "    }\n",
              "\n",
              "    .dataframe tbody tr th {\n",
              "        vertical-align: top;\n",
              "    }\n",
              "\n",
              "    .dataframe thead th {\n",
              "        text-align: right;\n",
              "    }\n",
              "</style>\n",
              "<table border=\"1\" class=\"dataframe\">\n",
              "  <thead>\n",
              "    <tr style=\"text-align: right;\">\n",
              "      <th></th>\n",
              "      <th>CDCR #</th>\n",
              "      <th>Sentencing County</th>\n",
              "      <th>Case Number</th>\n",
              "      <th>Sentence From Abstract of\\nJudgement</th>\n",
              "      <th>Offense</th>\n",
              "      <th>Offense Description</th>\n",
              "      <th>Offense Category</th>\n",
              "      <th>In-prison</th>\n",
              "      <th>Offense Begin Date</th>\n",
              "      <th>Offense End Date</th>\n",
              "      <th>Offense Time with\\nEnhancement</th>\n",
              "      <th>Relationship</th>\n",
              "      <th>Release Date</th>\n",
              "      <th>Off_Enh1</th>\n",
              "      <th>Off_Enh_Desc1</th>\n",
              "      <th>Off_Enh2</th>\n",
              "      <th>Off_Enh_Desc2</th>\n",
              "      <th>Off_Enh3</th>\n",
              "      <th>Off_Enh_Desc3</th>\n",
              "    </tr>\n",
              "  </thead>\n",
              "  <tbody>\n",
              "    <tr>\n",
              "      <th>0</th>\n",
              "      <td>AA0013</td>\n",
              "      <td>Los Angeles</td>\n",
              "      <td>BA357272</td>\n",
              "      <td>4 Years</td>\n",
              "      <td>PC212.5(c)</td>\n",
              "      <td>Robbery 2nd</td>\n",
              "      <td>Crimes Against Persons</td>\n",
              "      <td></td>\n",
              "      <td>2009-05-17 00:00:00</td>\n",
              "      <td>2009-05-17 00:00:00</td>\n",
              "      <td>4 Years</td>\n",
              "      <td>Initial</td>\n",
              "      <td>2012-10-26 00:00:00</td>\n",
              "      <td>PC12022(b)</td>\n",
              "      <td>Use of Deadly Weapon</td>\n",
              "      <td></td>\n",
              "      <td></td>\n",
              "      <td></td>\n",
              "      <td></td>\n",
              "    </tr>\n",
              "    <tr>\n",
              "      <th>1</th>\n",
              "      <td>AA0054</td>\n",
              "      <td>Los Angeles</td>\n",
              "      <td>MA041428</td>\n",
              "      <td>7 Years</td>\n",
              "      <td>PC192(a)</td>\n",
              "      <td>Voluntary Manslaughter</td>\n",
              "      <td>Crimes Against Persons</td>\n",
              "      <td></td>\n",
              "      <td>2007-05-24 00:00:00</td>\n",
              "      <td>2007-05-24 00:00:00</td>\n",
              "      <td>7 Years</td>\n",
              "      <td>Concurrent</td>\n",
              "      <td>2015-04-26 00:00:00</td>\n",
              "      <td>PC12022(b)(1)</td>\n",
              "      <td>Personal Use of Dangerous or Deadly Weapon</td>\n",
              "      <td></td>\n",
              "      <td></td>\n",
              "      <td></td>\n",
              "      <td></td>\n",
              "    </tr>\n",
              "    <tr>\n",
              "      <th>2</th>\n",
              "      <td>AA0693</td>\n",
              "      <td>Los Angeles</td>\n",
              "      <td>PA030310</td>\n",
              "      <td>10 Years</td>\n",
              "      <td>PC12034(c)</td>\n",
              "      <td>Discharge Firearm from Motor Vehicle at Person</td>\n",
              "      <td>Other Crimes</td>\n",
              "      <td></td>\n",
              "      <td>1998-05-23 00:00:00</td>\n",
              "      <td>1998-05-23 00:00:00</td>\n",
              "      <td>10 Years</td>\n",
              "      <td>Initial</td>\n",
              "      <td>2004-06-15 00:00:00</td>\n",
              "      <td>PC12022(a)(2)</td>\n",
              "      <td>Armed with Assault Weapon</td>\n",
              "      <td></td>\n",
              "      <td></td>\n",
              "      <td></td>\n",
              "      <td></td>\n",
              "    </tr>\n",
              "    <tr>\n",
              "      <th>3</th>\n",
              "      <td>AA0936</td>\n",
              "      <td>Los Angeles</td>\n",
              "      <td>TA103305</td>\n",
              "      <td>1 Year 4 Months</td>\n",
              "      <td>PC12025(b)</td>\n",
              "      <td>POSS CONCEAL F/A</td>\n",
              "      <td>Other Crimes</td>\n",
              "      <td></td>\n",
              "      <td>2008-10-21 00:00:00</td>\n",
              "      <td>2008-10-21 00:00:00</td>\n",
              "      <td>1 Year 4 Months</td>\n",
              "      <td>Initial</td>\n",
              "      <td>2009-09-28 00:00:00</td>\n",
              "      <td></td>\n",
              "      <td></td>\n",
              "      <td></td>\n",
              "      <td></td>\n",
              "      <td></td>\n",
              "      <td></td>\n",
              "    </tr>\n",
              "    <tr>\n",
              "      <th>4</th>\n",
              "      <td>AA0936</td>\n",
              "      <td>Los Angeles</td>\n",
              "      <td>BA367120</td>\n",
              "      <td>2 Years</td>\n",
              "      <td>PC12021(a)(1)</td>\n",
              "      <td>POSS F/A EX-FEL</td>\n",
              "      <td>Other Crimes</td>\n",
              "      <td></td>\n",
              "      <td>2010-01-20 00:00:00</td>\n",
              "      <td>2010-01-20 00:00:00</td>\n",
              "      <td>2 Years</td>\n",
              "      <td>Concurrent</td>\n",
              "      <td>2011-01-26 00:00:00</td>\n",
              "      <td></td>\n",
              "      <td></td>\n",
              "      <td></td>\n",
              "      <td></td>\n",
              "      <td></td>\n",
              "      <td></td>\n",
              "    </tr>\n",
              "  </tbody>\n",
              "</table>\n",
              "</div>\n",
              "    <div class=\"colab-df-buttons\">\n",
              "\n",
              "  <div class=\"colab-df-container\">\n",
              "    <button class=\"colab-df-convert\" onclick=\"convertToInteractive('df-97ff0a2c-29e5-42ad-98bf-3cdd0c968877')\"\n",
              "            title=\"Convert this dataframe to an interactive table.\"\n",
              "            style=\"display:none;\">\n",
              "\n",
              "  <svg xmlns=\"http://www.w3.org/2000/svg\" height=\"24px\" viewBox=\"0 -960 960 960\">\n",
              "    <path d=\"M120-120v-720h720v720H120Zm60-500h600v-160H180v160Zm220 220h160v-160H400v160Zm0 220h160v-160H400v160ZM180-400h160v-160H180v160Zm440 0h160v-160H620v160ZM180-180h160v-160H180v160Zm440 0h160v-160H620v160Z\"/>\n",
              "  </svg>\n",
              "    </button>\n",
              "\n",
              "  <style>\n",
              "    .colab-df-container {\n",
              "      display:flex;\n",
              "      gap: 12px;\n",
              "    }\n",
              "\n",
              "    .colab-df-convert {\n",
              "      background-color: #E8F0FE;\n",
              "      border: none;\n",
              "      border-radius: 50%;\n",
              "      cursor: pointer;\n",
              "      display: none;\n",
              "      fill: #1967D2;\n",
              "      height: 32px;\n",
              "      padding: 0 0 0 0;\n",
              "      width: 32px;\n",
              "    }\n",
              "\n",
              "    .colab-df-convert:hover {\n",
              "      background-color: #E2EBFA;\n",
              "      box-shadow: 0px 1px 2px rgba(60, 64, 67, 0.3), 0px 1px 3px 1px rgba(60, 64, 67, 0.15);\n",
              "      fill: #174EA6;\n",
              "    }\n",
              "\n",
              "    .colab-df-buttons div {\n",
              "      margin-bottom: 4px;\n",
              "    }\n",
              "\n",
              "    [theme=dark] .colab-df-convert {\n",
              "      background-color: #3B4455;\n",
              "      fill: #D2E3FC;\n",
              "    }\n",
              "\n",
              "    [theme=dark] .colab-df-convert:hover {\n",
              "      background-color: #434B5C;\n",
              "      box-shadow: 0px 1px 3px 1px rgba(0, 0, 0, 0.15);\n",
              "      filter: drop-shadow(0px 1px 2px rgba(0, 0, 0, 0.3));\n",
              "      fill: #FFFFFF;\n",
              "    }\n",
              "  </style>\n",
              "\n",
              "    <script>\n",
              "      const buttonEl =\n",
              "        document.querySelector('#df-97ff0a2c-29e5-42ad-98bf-3cdd0c968877 button.colab-df-convert');\n",
              "      buttonEl.style.display =\n",
              "        google.colab.kernel.accessAllowed ? 'block' : 'none';\n",
              "\n",
              "      async function convertToInteractive(key) {\n",
              "        const element = document.querySelector('#df-97ff0a2c-29e5-42ad-98bf-3cdd0c968877');\n",
              "        const dataTable =\n",
              "          await google.colab.kernel.invokeFunction('convertToInteractive',\n",
              "                                                    [key], {});\n",
              "        if (!dataTable) return;\n",
              "\n",
              "        const docLinkHtml = 'Like what you see? Visit the ' +\n",
              "          '<a target=\"_blank\" href=https://colab.research.google.com/notebooks/data_table.ipynb>data table notebook</a>'\n",
              "          + ' to learn more about interactive tables.';\n",
              "        element.innerHTML = '';\n",
              "        dataTable['output_type'] = 'display_data';\n",
              "        await google.colab.output.renderOutput(dataTable, element);\n",
              "        const docLink = document.createElement('div');\n",
              "        docLink.innerHTML = docLinkHtml;\n",
              "        element.appendChild(docLink);\n",
              "      }\n",
              "    </script>\n",
              "  </div>\n",
              "\n",
              "\n",
              "<div id=\"df-16a6de80-4b2d-436e-b5e6-0d180b3b467a\">\n",
              "  <button class=\"colab-df-quickchart\" onclick=\"quickchart('df-16a6de80-4b2d-436e-b5e6-0d180b3b467a')\"\n",
              "            title=\"Suggest charts\"\n",
              "            style=\"display:none;\">\n",
              "\n",
              "<svg xmlns=\"http://www.w3.org/2000/svg\" height=\"24px\"viewBox=\"0 0 24 24\"\n",
              "     width=\"24px\">\n",
              "    <g>\n",
              "        <path d=\"M19 3H5c-1.1 0-2 .9-2 2v14c0 1.1.9 2 2 2h14c1.1 0 2-.9 2-2V5c0-1.1-.9-2-2-2zM9 17H7v-7h2v7zm4 0h-2V7h2v10zm4 0h-2v-4h2v4z\"/>\n",
              "    </g>\n",
              "</svg>\n",
              "  </button>\n",
              "\n",
              "<style>\n",
              "  .colab-df-quickchart {\n",
              "      --bg-color: #E8F0FE;\n",
              "      --fill-color: #1967D2;\n",
              "      --hover-bg-color: #E2EBFA;\n",
              "      --hover-fill-color: #174EA6;\n",
              "      --disabled-fill-color: #AAA;\n",
              "      --disabled-bg-color: #DDD;\n",
              "  }\n",
              "\n",
              "  [theme=dark] .colab-df-quickchart {\n",
              "      --bg-color: #3B4455;\n",
              "      --fill-color: #D2E3FC;\n",
              "      --hover-bg-color: #434B5C;\n",
              "      --hover-fill-color: #FFFFFF;\n",
              "      --disabled-bg-color: #3B4455;\n",
              "      --disabled-fill-color: #666;\n",
              "  }\n",
              "\n",
              "  .colab-df-quickchart {\n",
              "    background-color: var(--bg-color);\n",
              "    border: none;\n",
              "    border-radius: 50%;\n",
              "    cursor: pointer;\n",
              "    display: none;\n",
              "    fill: var(--fill-color);\n",
              "    height: 32px;\n",
              "    padding: 0;\n",
              "    width: 32px;\n",
              "  }\n",
              "\n",
              "  .colab-df-quickchart:hover {\n",
              "    background-color: var(--hover-bg-color);\n",
              "    box-shadow: 0 1px 2px rgba(60, 64, 67, 0.3), 0 1px 3px 1px rgba(60, 64, 67, 0.15);\n",
              "    fill: var(--button-hover-fill-color);\n",
              "  }\n",
              "\n",
              "  .colab-df-quickchart-complete:disabled,\n",
              "  .colab-df-quickchart-complete:disabled:hover {\n",
              "    background-color: var(--disabled-bg-color);\n",
              "    fill: var(--disabled-fill-color);\n",
              "    box-shadow: none;\n",
              "  }\n",
              "\n",
              "  .colab-df-spinner {\n",
              "    border: 2px solid var(--fill-color);\n",
              "    border-color: transparent;\n",
              "    border-bottom-color: var(--fill-color);\n",
              "    animation:\n",
              "      spin 1s steps(1) infinite;\n",
              "  }\n",
              "\n",
              "  @keyframes spin {\n",
              "    0% {\n",
              "      border-color: transparent;\n",
              "      border-bottom-color: var(--fill-color);\n",
              "      border-left-color: var(--fill-color);\n",
              "    }\n",
              "    20% {\n",
              "      border-color: transparent;\n",
              "      border-left-color: var(--fill-color);\n",
              "      border-top-color: var(--fill-color);\n",
              "    }\n",
              "    30% {\n",
              "      border-color: transparent;\n",
              "      border-left-color: var(--fill-color);\n",
              "      border-top-color: var(--fill-color);\n",
              "      border-right-color: var(--fill-color);\n",
              "    }\n",
              "    40% {\n",
              "      border-color: transparent;\n",
              "      border-right-color: var(--fill-color);\n",
              "      border-top-color: var(--fill-color);\n",
              "    }\n",
              "    60% {\n",
              "      border-color: transparent;\n",
              "      border-right-color: var(--fill-color);\n",
              "    }\n",
              "    80% {\n",
              "      border-color: transparent;\n",
              "      border-right-color: var(--fill-color);\n",
              "      border-bottom-color: var(--fill-color);\n",
              "    }\n",
              "    90% {\n",
              "      border-color: transparent;\n",
              "      border-bottom-color: var(--fill-color);\n",
              "    }\n",
              "  }\n",
              "</style>\n",
              "\n",
              "  <script>\n",
              "    async function quickchart(key) {\n",
              "      const quickchartButtonEl =\n",
              "        document.querySelector('#' + key + ' button');\n",
              "      quickchartButtonEl.disabled = true;  // To prevent multiple clicks.\n",
              "      quickchartButtonEl.classList.add('colab-df-spinner');\n",
              "      try {\n",
              "        const charts = await google.colab.kernel.invokeFunction(\n",
              "            'suggestCharts', [key], {});\n",
              "      } catch (error) {\n",
              "        console.error('Error during call to suggestCharts:', error);\n",
              "      }\n",
              "      quickchartButtonEl.classList.remove('colab-df-spinner');\n",
              "      quickchartButtonEl.classList.add('colab-df-quickchart-complete');\n",
              "    }\n",
              "    (() => {\n",
              "      let quickchartButtonEl =\n",
              "        document.querySelector('#df-16a6de80-4b2d-436e-b5e6-0d180b3b467a button');\n",
              "      quickchartButtonEl.style.display =\n",
              "        google.colab.kernel.accessAllowed ? 'block' : 'none';\n",
              "    })();\n",
              "  </script>\n",
              "</div>\n",
              "    </div>\n",
              "  </div>\n"
            ],
            "text/plain": [
              "   CDCR # Sentencing County Case Number Sentence From Abstract of\\nJudgement  \\\n",
              "0  AA0013       Los Angeles    BA357272                              4 Years   \n",
              "1  AA0054       Los Angeles    MA041428                              7 Years   \n",
              "2  AA0693       Los Angeles    PA030310                             10 Years   \n",
              "3  AA0936       Los Angeles    TA103305                      1 Year 4 Months   \n",
              "4  AA0936       Los Angeles    BA367120                              2 Years   \n",
              "\n",
              "         Offense                             Offense Description  \\\n",
              "0     PC212.5(c)                                     Robbery 2nd   \n",
              "1       PC192(a)                          Voluntary Manslaughter   \n",
              "2     PC12034(c)  Discharge Firearm from Motor Vehicle at Person   \n",
              "3     PC12025(b)                                POSS CONCEAL F/A   \n",
              "4  PC12021(a)(1)                                 POSS F/A EX-FEL   \n",
              "\n",
              "         Offense Category In-prison   Offense Begin Date     Offense End Date  \\\n",
              "0  Crimes Against Persons            2009-05-17 00:00:00  2009-05-17 00:00:00   \n",
              "1  Crimes Against Persons            2007-05-24 00:00:00  2007-05-24 00:00:00   \n",
              "2            Other Crimes            1998-05-23 00:00:00  1998-05-23 00:00:00   \n",
              "3            Other Crimes            2008-10-21 00:00:00  2008-10-21 00:00:00   \n",
              "4            Other Crimes            2010-01-20 00:00:00  2010-01-20 00:00:00   \n",
              "\n",
              "  Offense Time with\\nEnhancement Relationship         Release Date  \\\n",
              "0                        4 Years      Initial  2012-10-26 00:00:00   \n",
              "1                        7 Years   Concurrent  2015-04-26 00:00:00   \n",
              "2                       10 Years      Initial  2004-06-15 00:00:00   \n",
              "3                1 Year 4 Months      Initial  2009-09-28 00:00:00   \n",
              "4                        2 Years   Concurrent  2011-01-26 00:00:00   \n",
              "\n",
              "        Off_Enh1                               Off_Enh_Desc1 Off_Enh2  \\\n",
              "0     PC12022(b)                        Use of Deadly Weapon            \n",
              "1  PC12022(b)(1)  Personal Use of Dangerous or Deadly Weapon            \n",
              "2  PC12022(a)(2)                   Armed with Assault Weapon            \n",
              "3                                                                       \n",
              "4                                                                       \n",
              "\n",
              "  Off_Enh_Desc2 Off_Enh3 Off_Enh_Desc3  \n",
              "0                                       \n",
              "1                                       \n",
              "2                                       \n",
              "3                                       \n",
              "4                                       "
            ]
          },
          "execution_count": 18,
          "metadata": {},
          "output_type": "execute_result"
        }
      ],
      "source": [
        "prior_commits.head()"
      ]
    },
    {
      "cell_type": "markdown",
      "metadata": {
        "id": "4jZac7Z8dYn9"
      },
      "source": [
        "## Functions"
      ]
    },
    {
      "cell_type": "code",
      "execution_count": null,
      "metadata": {
        "id": "_LYdE8J8dQll"
      },
      "outputs": [],
      "source": [
        "# Functions\n",
        "\n",
        "def gen_time_vars(df):\n",
        "  # Get the present date\n",
        "  present_date = datetime.datetime.now()\n",
        "  # Sentence duration in years\n",
        "  df['Aggregate sentence in years'] = df['Aggregate Sentence in Months']/12\n",
        "  # Age of individual\n",
        "  df['Age in years'] = [x.days/365 for x in present_date - pd.to_datetime(demographics['Birthday'], errors = 'coerce')]\n",
        "  # Sentence served in years\n",
        "  df['Time served in years'] = [x.days/365 for x in present_date - pd.to_datetime(demographics['Offense End Date'], errors = 'coerce')]\n",
        "  # Age at the time of offense\n",
        "  df['Age during offense'] = [x.days/365 for x in pd.to_datetime(demographics['Offense End Date'], errors = 'coerce') - pd.to_datetime(demographics['Birthday'], errors = 'coerce')]\n",
        "\n",
        "  # Store all data that have NaNs for any of the time columns calculated above\n",
        "  def incorrect_time(df, cols = ['Aggregate sentence in years', 'Age in years', 'Time served in years', 'Age during offense']):\n",
        "    errors = pd.DataFrame()\n",
        "    # Loop through all time columns\n",
        "    for col in cols:\n",
        "      errors = pd.concat([errors, df[pd.isna(df[col])]])\n",
        "    return errors\n",
        "\n",
        "  # Return the resulting dataframe with the calculated time columns and the data with NaN/NaTs in these columns\n",
        "  return df, incorrect_time(df)\n",
        "\n",
        "\n",
        "def clean_offense(off):\n",
        "  # Lowercase all letters\n",
        "  clean_off = str(off).lower()\n",
        "  # Remove trailing periods\n",
        "  clean_off = clean_off.rstrip('.')\n",
        "  # Remove whitespace (any location)\n",
        "  clean_off = clean_off.replace(' ', '')\n",
        "  # Remove \"PC\" or penal code abbreviation\n",
        "  clean_off = clean_off.replace('pc', '')\n",
        "  # Remove \"rape\" which shows up in some offenses\n",
        "  clean_off = clean_off.replace('rape', '')\n",
        "  return clean_off\n",
        "\n",
        "\n",
        "def clean_offense_blk(data):\n",
        "  # If input is a single string\n",
        "  if isinstance(data, str):\n",
        "    return clean_offense(data)\n",
        "  # If input is a list of strings\n",
        "  elif isinstance(data, list):\n",
        "    off_clean = []\n",
        "    for off in data:\n",
        "      off_clean.append(clean_offense(off))\n",
        "    return off_clean\n",
        "  # If input is a column of a pandas dataframe\n",
        "  elif isinstance(data, pd.Series):\n",
        "    return data.apply(clean_offense)\n",
        "\n",
        "\n",
        "def gen_inel_off(inel_offenses, clean = True, impl = {'all': [\"/att\", \"(664)\", \"2nd\"], '459': [\"/att\", \"(664)\"]}, perm = 2):\n",
        "  # Clean the offense data if specified\n",
        "  if clean:\n",
        "    inel_offenses = clean_offense_blk(inel_offenses)\n",
        "\n",
        "  def gen_impl_off():\n",
        "    # Generate new list of offenses based on the implied ineligibility\n",
        "    add = []\n",
        "    # Loop through all offenses in the ineligible offenses list\n",
        "    for off in inel_offenses:\n",
        "      # Check the two conditions: generic or exception\n",
        "      matching = [key for key in impl.keys() if key in off]\n",
        "      # If offense is not called out separately (exception)\n",
        "      if (len(matching) == 0) and ('all' in impl.keys()):\n",
        "        for impl_val in impl['all']:\n",
        "          # If any additions are not already in the offense, ex: PC 123(664) does not need PC 123(664)(664) to be added\n",
        "          if impl_val not in off:\n",
        "            add.append(off+impl_val)\n",
        "      # If offense is called out separately (exception)\n",
        "      elif len(matching) != 0:\n",
        "        for impl_val in impl[matching[0]]:\n",
        "          # If any additions are not already in the offense, ex: PC 123(664) does not need PC 123(664)(664) to be added\n",
        "          if impl_val not in off:\n",
        "            add.append(off+impl_val)\n",
        "    # Combine newly identified ineligible offenses to the list of existing ineligible offenses and return result\n",
        "    return list(set.union(set(inel_offenses), set(add)))\n",
        "\n",
        "  # Generate permutations of the ineligible offenses\n",
        "  i = 1\n",
        "  while i <= perm:\n",
        "    # Run the function to generate implied ineligibility\n",
        "    inel_offenses = gen_impl_off()\n",
        "    i = i + 1\n",
        "\n",
        "  # Return the final results after all permutations\n",
        "  return inel_offenses\n",
        "\n",
        "\n",
        "def det_inel_off(offenses, inel_offenses, pop = None):\n",
        "    # Return offenses that are ineligible for adults and juveniles\n",
        "    if pop == 'adult' or pop == 'juvenile':\n",
        "      return set(offenses).intersection(set(inel_offenses))\n",
        "    # If none of the conditions are met\n",
        "    else:\n",
        "      print('No offenses processed. Please double check inputs and re-run')"
      ]
    },
    {
      "cell_type": "markdown",
      "metadata": {
        "id": "vnTQjlzidkih"
      },
      "source": [
        "#Conditions for Qualification\n",
        "\n",
        "Cohort 1\n",
        "\n",
        "Adults\n",
        "\n",
        "\n",
        "\n",
        "1.   Age 50 and older; AND\n",
        "2.   Sentenced to 20 years or more; AND\n",
        "3.   Served a minimum of 10 years in custody; AND\n",
        "4.   Is not serving a current sentence for any offense listed in Table A, B, C, or D, AND\n",
        "5.   Does not have a prior conviction for any offense listed in Tables C & D\n",
        "\n",
        "Cohort 2\n",
        "\n",
        "Minors Tried as Adults\n",
        "\n",
        "1.   Sentenced for a crime that was committed at age 14 or 15; AND\n",
        "2.   Not serving current sentence for any offense listed in Table D and E; AND\n",
        "3. Has served a minimum of 10 years in custody; AND\n",
        "4. Does not have a prior conviction for any offense listed in Table D."
      ]
    },
    {
      "cell_type": "markdown",
      "metadata": {
        "id": "k_w8ovPoerJX"
      },
      "source": [
        "# Time Data"
      ]
    },
    {
      "cell_type": "code",
      "execution_count": null,
      "metadata": {
        "id": "nTRsFzL-euvq"
      },
      "outputs": [],
      "source": [
        "# Add all of the time variables to the demographic data necessary for classification - years served, sentence length, age, etc.\n",
        "demographics, errors = gen_time_vars(demographics)"
      ]
    },
    {
      "cell_type": "code",
      "execution_count": null,
      "metadata": {
        "colab": {
          "base_uri": "https://localhost:8080/",
          "height": 283
        },
        "id": "Qc9IoLoAuNsn",
        "outputId": "f87596d0-7506-4790-eae5-6cfbf76367e8"
      },
      "outputs": [
        {
          "data": {
            "text/html": [
              "\n",
              "  <div id=\"df-7b18faca-eed6-4508-bdd2-ae46e3314422\" class=\"colab-df-container\">\n",
              "    <div>\n",
              "<style scoped>\n",
              "    .dataframe tbody tr th:only-of-type {\n",
              "        vertical-align: middle;\n",
              "    }\n",
              "\n",
              "    .dataframe tbody tr th {\n",
              "        vertical-align: top;\n",
              "    }\n",
              "\n",
              "    .dataframe thead th {\n",
              "        text-align: right;\n",
              "    }\n",
              "</style>\n",
              "<table border=\"1\" class=\"dataframe\">\n",
              "  <thead>\n",
              "    <tr style=\"text-align: right;\">\n",
              "      <th></th>\n",
              "      <th>CDCR #</th>\n",
              "      <th>Name</th>\n",
              "      <th>Birthday</th>\n",
              "      <th>Ethnicity</th>\n",
              "      <th>Gender</th>\n",
              "      <th>Controlling Offense</th>\n",
              "      <th>Description</th>\n",
              "      <th>Offense Begin Date</th>\n",
              "      <th>Offense End Date</th>\n",
              "      <th>Controlling Case Number</th>\n",
              "      <th>...</th>\n",
              "      <th>Mental Health Level of Care</th>\n",
              "      <th>CSRA</th>\n",
              "      <th>DPPV Disability - Mobility</th>\n",
              "      <th>DPPV Disability - Hearing</th>\n",
              "      <th>DPPV Disability - Vision</th>\n",
              "      <th>DPPV Disability - Speech</th>\n",
              "      <th>Aggregate sentence in years</th>\n",
              "      <th>Age in years</th>\n",
              "      <th>Time served in years</th>\n",
              "      <th>Age during offense</th>\n",
              "    </tr>\n",
              "  </thead>\n",
              "  <tbody>\n",
              "    <tr>\n",
              "      <th>29822</th>\n",
              "      <td>WG6243</td>\n",
              "      <td>REYES,JESSICA</td>\n",
              "      <td>1992-06-04</td>\n",
              "      <td>Hispanic</td>\n",
              "      <td>Female</td>\n",
              "      <td>PC212.5(c)</td>\n",
              "      <td>Robbery 2nd</td>\n",
              "      <td>2013-05-30</td>\n",
              "      <td>3013-05-30 00:00:00</td>\n",
              "      <td>VA132086</td>\n",
              "      <td>...</td>\n",
              "      <td>General Population</td>\n",
              "      <td></td>\n",
              "      <td></td>\n",
              "      <td></td>\n",
              "      <td></td>\n",
              "      <td></td>\n",
              "      <td>9.0</td>\n",
              "      <td>31.490411</td>\n",
              "      <td>NaN</td>\n",
              "      <td>NaN</td>\n",
              "    </tr>\n",
              "    <tr>\n",
              "      <th>29822</th>\n",
              "      <td>WG6243</td>\n",
              "      <td>REYES,JESSICA</td>\n",
              "      <td>1992-06-04</td>\n",
              "      <td>Hispanic</td>\n",
              "      <td>Female</td>\n",
              "      <td>PC212.5(c)</td>\n",
              "      <td>Robbery 2nd</td>\n",
              "      <td>2013-05-30</td>\n",
              "      <td>3013-05-30 00:00:00</td>\n",
              "      <td>VA132086</td>\n",
              "      <td>...</td>\n",
              "      <td>General Population</td>\n",
              "      <td></td>\n",
              "      <td></td>\n",
              "      <td></td>\n",
              "      <td></td>\n",
              "      <td></td>\n",
              "      <td>9.0</td>\n",
              "      <td>31.490411</td>\n",
              "      <td>NaN</td>\n",
              "      <td>NaN</td>\n",
              "    </tr>\n",
              "  </tbody>\n",
              "</table>\n",
              "<p>2 rows × 30 columns</p>\n",
              "</div>\n",
              "    <div class=\"colab-df-buttons\">\n",
              "\n",
              "  <div class=\"colab-df-container\">\n",
              "    <button class=\"colab-df-convert\" onclick=\"convertToInteractive('df-7b18faca-eed6-4508-bdd2-ae46e3314422')\"\n",
              "            title=\"Convert this dataframe to an interactive table.\"\n",
              "            style=\"display:none;\">\n",
              "\n",
              "  <svg xmlns=\"http://www.w3.org/2000/svg\" height=\"24px\" viewBox=\"0 -960 960 960\">\n",
              "    <path d=\"M120-120v-720h720v720H120Zm60-500h600v-160H180v160Zm220 220h160v-160H400v160Zm0 220h160v-160H400v160ZM180-400h160v-160H180v160Zm440 0h160v-160H620v160ZM180-180h160v-160H180v160Zm440 0h160v-160H620v160Z\"/>\n",
              "  </svg>\n",
              "    </button>\n",
              "\n",
              "  <style>\n",
              "    .colab-df-container {\n",
              "      display:flex;\n",
              "      gap: 12px;\n",
              "    }\n",
              "\n",
              "    .colab-df-convert {\n",
              "      background-color: #E8F0FE;\n",
              "      border: none;\n",
              "      border-radius: 50%;\n",
              "      cursor: pointer;\n",
              "      display: none;\n",
              "      fill: #1967D2;\n",
              "      height: 32px;\n",
              "      padding: 0 0 0 0;\n",
              "      width: 32px;\n",
              "    }\n",
              "\n",
              "    .colab-df-convert:hover {\n",
              "      background-color: #E2EBFA;\n",
              "      box-shadow: 0px 1px 2px rgba(60, 64, 67, 0.3), 0px 1px 3px 1px rgba(60, 64, 67, 0.15);\n",
              "      fill: #174EA6;\n",
              "    }\n",
              "\n",
              "    .colab-df-buttons div {\n",
              "      margin-bottom: 4px;\n",
              "    }\n",
              "\n",
              "    [theme=dark] .colab-df-convert {\n",
              "      background-color: #3B4455;\n",
              "      fill: #D2E3FC;\n",
              "    }\n",
              "\n",
              "    [theme=dark] .colab-df-convert:hover {\n",
              "      background-color: #434B5C;\n",
              "      box-shadow: 0px 1px 3px 1px rgba(0, 0, 0, 0.15);\n",
              "      filter: drop-shadow(0px 1px 2px rgba(0, 0, 0, 0.3));\n",
              "      fill: #FFFFFF;\n",
              "    }\n",
              "  </style>\n",
              "\n",
              "    <script>\n",
              "      const buttonEl =\n",
              "        document.querySelector('#df-7b18faca-eed6-4508-bdd2-ae46e3314422 button.colab-df-convert');\n",
              "      buttonEl.style.display =\n",
              "        google.colab.kernel.accessAllowed ? 'block' : 'none';\n",
              "\n",
              "      async function convertToInteractive(key) {\n",
              "        const element = document.querySelector('#df-7b18faca-eed6-4508-bdd2-ae46e3314422');\n",
              "        const dataTable =\n",
              "          await google.colab.kernel.invokeFunction('convertToInteractive',\n",
              "                                                    [key], {});\n",
              "        if (!dataTable) return;\n",
              "\n",
              "        const docLinkHtml = 'Like what you see? Visit the ' +\n",
              "          '<a target=\"_blank\" href=https://colab.research.google.com/notebooks/data_table.ipynb>data table notebook</a>'\n",
              "          + ' to learn more about interactive tables.';\n",
              "        element.innerHTML = '';\n",
              "        dataTable['output_type'] = 'display_data';\n",
              "        await google.colab.output.renderOutput(dataTable, element);\n",
              "        const docLink = document.createElement('div');\n",
              "        docLink.innerHTML = docLinkHtml;\n",
              "        element.appendChild(docLink);\n",
              "      }\n",
              "    </script>\n",
              "  </div>\n",
              "\n",
              "\n",
              "<div id=\"df-3dd68527-1c09-437d-9ffb-3cc51adaf8da\">\n",
              "  <button class=\"colab-df-quickchart\" onclick=\"quickchart('df-3dd68527-1c09-437d-9ffb-3cc51adaf8da')\"\n",
              "            title=\"Suggest charts\"\n",
              "            style=\"display:none;\">\n",
              "\n",
              "<svg xmlns=\"http://www.w3.org/2000/svg\" height=\"24px\"viewBox=\"0 0 24 24\"\n",
              "     width=\"24px\">\n",
              "    <g>\n",
              "        <path d=\"M19 3H5c-1.1 0-2 .9-2 2v14c0 1.1.9 2 2 2h14c1.1 0 2-.9 2-2V5c0-1.1-.9-2-2-2zM9 17H7v-7h2v7zm4 0h-2V7h2v10zm4 0h-2v-4h2v4z\"/>\n",
              "    </g>\n",
              "</svg>\n",
              "  </button>\n",
              "\n",
              "<style>\n",
              "  .colab-df-quickchart {\n",
              "      --bg-color: #E8F0FE;\n",
              "      --fill-color: #1967D2;\n",
              "      --hover-bg-color: #E2EBFA;\n",
              "      --hover-fill-color: #174EA6;\n",
              "      --disabled-fill-color: #AAA;\n",
              "      --disabled-bg-color: #DDD;\n",
              "  }\n",
              "\n",
              "  [theme=dark] .colab-df-quickchart {\n",
              "      --bg-color: #3B4455;\n",
              "      --fill-color: #D2E3FC;\n",
              "      --hover-bg-color: #434B5C;\n",
              "      --hover-fill-color: #FFFFFF;\n",
              "      --disabled-bg-color: #3B4455;\n",
              "      --disabled-fill-color: #666;\n",
              "  }\n",
              "\n",
              "  .colab-df-quickchart {\n",
              "    background-color: var(--bg-color);\n",
              "    border: none;\n",
              "    border-radius: 50%;\n",
              "    cursor: pointer;\n",
              "    display: none;\n",
              "    fill: var(--fill-color);\n",
              "    height: 32px;\n",
              "    padding: 0;\n",
              "    width: 32px;\n",
              "  }\n",
              "\n",
              "  .colab-df-quickchart:hover {\n",
              "    background-color: var(--hover-bg-color);\n",
              "    box-shadow: 0 1px 2px rgba(60, 64, 67, 0.3), 0 1px 3px 1px rgba(60, 64, 67, 0.15);\n",
              "    fill: var(--button-hover-fill-color);\n",
              "  }\n",
              "\n",
              "  .colab-df-quickchart-complete:disabled,\n",
              "  .colab-df-quickchart-complete:disabled:hover {\n",
              "    background-color: var(--disabled-bg-color);\n",
              "    fill: var(--disabled-fill-color);\n",
              "    box-shadow: none;\n",
              "  }\n",
              "\n",
              "  .colab-df-spinner {\n",
              "    border: 2px solid var(--fill-color);\n",
              "    border-color: transparent;\n",
              "    border-bottom-color: var(--fill-color);\n",
              "    animation:\n",
              "      spin 1s steps(1) infinite;\n",
              "  }\n",
              "\n",
              "  @keyframes spin {\n",
              "    0% {\n",
              "      border-color: transparent;\n",
              "      border-bottom-color: var(--fill-color);\n",
              "      border-left-color: var(--fill-color);\n",
              "    }\n",
              "    20% {\n",
              "      border-color: transparent;\n",
              "      border-left-color: var(--fill-color);\n",
              "      border-top-color: var(--fill-color);\n",
              "    }\n",
              "    30% {\n",
              "      border-color: transparent;\n",
              "      border-left-color: var(--fill-color);\n",
              "      border-top-color: var(--fill-color);\n",
              "      border-right-color: var(--fill-color);\n",
              "    }\n",
              "    40% {\n",
              "      border-color: transparent;\n",
              "      border-right-color: var(--fill-color);\n",
              "      border-top-color: var(--fill-color);\n",
              "    }\n",
              "    60% {\n",
              "      border-color: transparent;\n",
              "      border-right-color: var(--fill-color);\n",
              "    }\n",
              "    80% {\n",
              "      border-color: transparent;\n",
              "      border-right-color: var(--fill-color);\n",
              "      border-bottom-color: var(--fill-color);\n",
              "    }\n",
              "    90% {\n",
              "      border-color: transparent;\n",
              "      border-bottom-color: var(--fill-color);\n",
              "    }\n",
              "  }\n",
              "</style>\n",
              "\n",
              "  <script>\n",
              "    async function quickchart(key) {\n",
              "      const quickchartButtonEl =\n",
              "        document.querySelector('#' + key + ' button');\n",
              "      quickchartButtonEl.disabled = true;  // To prevent multiple clicks.\n",
              "      quickchartButtonEl.classList.add('colab-df-spinner');\n",
              "      try {\n",
              "        const charts = await google.colab.kernel.invokeFunction(\n",
              "            'suggestCharts', [key], {});\n",
              "      } catch (error) {\n",
              "        console.error('Error during call to suggestCharts:', error);\n",
              "      }\n",
              "      quickchartButtonEl.classList.remove('colab-df-spinner');\n",
              "      quickchartButtonEl.classList.add('colab-df-quickchart-complete');\n",
              "    }\n",
              "    (() => {\n",
              "      let quickchartButtonEl =\n",
              "        document.querySelector('#df-3dd68527-1c09-437d-9ffb-3cc51adaf8da button');\n",
              "      quickchartButtonEl.style.display =\n",
              "        google.colab.kernel.accessAllowed ? 'block' : 'none';\n",
              "    })();\n",
              "  </script>\n",
              "</div>\n",
              "    </div>\n",
              "  </div>\n"
            ],
            "text/plain": [
              "       CDCR #           Name   Birthday Ethnicity  Gender Controlling Offense  \\\n",
              "29822  WG6243  REYES,JESSICA 1992-06-04  Hispanic  Female          PC212.5(c)   \n",
              "29822  WG6243  REYES,JESSICA 1992-06-04  Hispanic  Female          PC212.5(c)   \n",
              "\n",
              "       Description Offense Begin Date     Offense End Date  \\\n",
              "29822  Robbery 2nd         2013-05-30  3013-05-30 00:00:00   \n",
              "29822  Robbery 2nd         2013-05-30  3013-05-30 00:00:00   \n",
              "\n",
              "      Controlling Case Number  ... Mental Health Level of Care CSRA  \\\n",
              "29822                VA132086  ...          General Population        \n",
              "29822                VA132086  ...          General Population        \n",
              "\n",
              "       DPPV Disability - Mobility DPPV Disability - Hearing  \\\n",
              "29822                                                         \n",
              "29822                                                         \n",
              "\n",
              "      DPPV Disability - Vision DPPV Disability - Speech  \\\n",
              "29822                                                     \n",
              "29822                                                     \n",
              "\n",
              "      Aggregate sentence in years Age in years Time served in years  \\\n",
              "29822                         9.0    31.490411                  NaN   \n",
              "29822                         9.0    31.490411                  NaN   \n",
              "\n",
              "      Age during offense  \n",
              "29822                NaN  \n",
              "29822                NaN  \n",
              "\n",
              "[2 rows x 30 columns]"
            ]
          },
          "execution_count": 21,
          "metadata": {},
          "output_type": "execute_result"
        }
      ],
      "source": [
        "# Show CDCR numbers and data of individuals with no age or time-served information\n",
        "errors"
      ]
    },
    {
      "cell_type": "markdown",
      "metadata": {
        "id": "p_q9Aw0bbYXa"
      },
      "source": [
        "#Identify Candidates: Adults (Part 1/4)"
      ]
    },
    {
      "cell_type": "markdown",
      "metadata": {
        "id": "Ytr9L25UKKtY"
      },
      "source": [
        "Conditions to search:\n",
        "1., 2. and 3. for Cohort 1"
      ]
    },
    {
      "cell_type": "code",
      "execution_count": null,
      "metadata": {
        "colab": {
          "base_uri": "https://localhost:8080/"
        },
        "id": "KMmBhvH5vH_h",
        "outputId": "8e772b1c-6023-47e0-db45-7f9f7565e3d9"
      },
      "outputs": [
        {
          "name": "stdout",
          "output_type": "stream",
          "text": [
            "Total number of CDCR#s available:  30728\n",
            "Number of CDCR#s that are older than 50 years:  9774\n",
            "Number of CDCR#s that are older than 50 years & sentenced to over 20 years:  6546\n",
            "Number of CDCR#s that are older than 50 years, sentenced to over 20 years and served over 10 years:  6127\n"
          ]
        }
      ],
      "source": [
        "print('Total number of CDCR#s available: ', len(demographics['CDCR #'].unique()))\n",
        "\n",
        "# Extracting CDCR numbers with eligible ages\n",
        "el_cdcr_nums_1 = demographics[demographics['Age in years'] >= 50]['CDCR #']\n",
        "print('Number of CDCR#s that are older than 50 years: ', len(el_cdcr_nums_1))\n",
        "\n",
        "# Extracting CDCR numbers that met the age criteria that also meet the time sentenced criteria\n",
        "el_cdcr_nums_2 = demographics[(demographics['Aggregate sentence in years'] >= 20) & demographics['CDCR #'].isin(el_cdcr_nums_1)]['CDCR #']\n",
        "print('Number of CDCR#s that are older than 50 years & sentenced to over 20 years: ', len(el_cdcr_nums_2))\n",
        "\n",
        "# Extracting CDCR numbers that met the age criteria that also meet the time served criteria\n",
        "el_cdcr_nums_3 = demographics[(demographics['Time served in years'] >= 10) & demographics['CDCR #'].isin(el_cdcr_nums_2)]['CDCR #']\n",
        "print('Number of CDCR#s that are older than 50 years, sentenced to over 20 years and served over 10 years: ', len(el_cdcr_nums_3))"
      ]
    },
    {
      "cell_type": "markdown",
      "metadata": {
        "id": "K44Vg7Uo38mp"
      },
      "source": [
        "#Identify Candidates: Adults (Part 2/4)"
      ]
    },
    {
      "cell_type": "markdown",
      "metadata": {
        "id": "ks0U5FTpbjM-"
      },
      "source": [
        "Conditions to search:\n",
        "\n",
        "4. and 5. for Cohort 1\n",
        "\n"
      ]
    },
    {
      "cell_type": "code",
      "execution_count": null,
      "metadata": {
        "colab": {
          "base_uri": "https://localhost:8080/"
        },
        "id": "H773q6kX_3zQ",
        "outputId": "f9bccb79-6a6f-4f06-ae5c-fb7e4789a14f"
      },
      "outputs": [
        {
          "name": "stderr",
          "output_type": "stream",
          "text": [
            "100%|██████████| 6127/6127 [01:31<00:00, 67.32it/s]"
          ]
        },
        {
          "name": "stdout",
          "output_type": "stream",
          "text": [
            "\n",
            "Number of CDCR#s that are older than 50 years, sentenced to over 20 years, served over 10 years, and have eligible current offenses:  417\n"
          ]
        },
        {
          "name": "stderr",
          "output_type": "stream",
          "text": [
            "\n"
          ]
        }
      ],
      "source": [
        "# Extracting ineligible offenses from sorting criteria\n",
        "inel_offenses = sorting_criteria[sorting_criteria['Table'].isin(['Table A', 'Table B', 'Table C', 'Table D'])]['Offenses'].tolist()\n",
        "# Appending new offenses based on implied ineligibility for adult populations\n",
        "inel_offenses = gen_inel_off(inel_offenses, clean = True, impl = {'all': [\"/att\", \"(664)\", \"2nd\"], '459': [\"/att\", \"(664)\"]})\n",
        "\n",
        "# Clean offense data in current commits file\n",
        "current_commits['Offense cleaned'] = clean_offense_blk(data = current_commits['Offense'])\n",
        "\n",
        "# Extracting current commits data with eligible offenses\n",
        "el_cdcr_nums_4 = []\n",
        "for cdcr_num in tqdm(el_cdcr_nums_3):\n",
        "  # Extract offenses of the CDCR number\n",
        "  offenses = current_commits[current_commits['CDCR #'] == cdcr_num]['Offense cleaned'].unique()\n",
        "  if len(det_inel_off(offenses = offenses, inel_offenses = inel_offenses, pop = 'adult')) == 0:\n",
        "    el_cdcr_nums_4.append(cdcr_num)\n",
        "\n",
        "print('\\nNumber of CDCR#s that are older than 50 years, sentenced to over 20 years, served over 10 years, and have eligible current offenses: ', len(el_cdcr_nums_4))"
      ]
    },
    {
      "cell_type": "code",
      "execution_count": null,
      "metadata": {
        "colab": {
          "base_uri": "https://localhost:8080/"
        },
        "id": "iifT4tB4JAYa",
        "outputId": "eb0233d9-12dc-4d76-8963-d20eec37ee27"
      },
      "outputs": [
        {
          "name": "stderr",
          "output_type": "stream",
          "text": [
            "100%|██████████| 417/417 [00:04<00:00, 95.89it/s] "
          ]
        },
        {
          "name": "stdout",
          "output_type": "stream",
          "text": [
            "\n",
            "Number of CDCR#s that are older than 50 years, sentenced to over 20 years, served over 10 years, have eligible current offenses and eligible prior offenses:  268\n"
          ]
        },
        {
          "name": "stderr",
          "output_type": "stream",
          "text": [
            "\n"
          ]
        }
      ],
      "source": [
        "# Extracting ineligible offenses from sorting criteria\n",
        "inel_offenses = sorting_criteria[sorting_criteria['Table'].isin(['Table C', 'Table D'])]['Offenses'].tolist()\n",
        "# Appending new offenses based on implied ineligibility for adult populations\n",
        "inel_offenses = gen_inel_off(inel_offenses, clean = True, impl = {'all': [\"/att\", \"(664)\", \"2nd\"], '459': [\"/att\", \"(664)\"]})\n",
        "\n",
        "# Clean offense data in prior commits file\n",
        "prior_commits['Offense cleaned'] = clean_offense_blk(data = prior_commits['Offense'])\n",
        "\n",
        "# Extracting prior commits data with eligible offenses\n",
        "el_cdcr_nums_5 = []\n",
        "for cdcr_num in tqdm(el_cdcr_nums_4):\n",
        "  # Extract offenses of the CDCR number\n",
        "  offenses = prior_commits[prior_commits['CDCR #'] == cdcr_num]['Offense cleaned'].unique()\n",
        "  if len(det_inel_off(offenses = offenses, inel_offenses = inel_offenses, pop = 'adult')) == 0:\n",
        "    el_cdcr_nums_5.append(cdcr_num)\n",
        "\n",
        "print('\\nNumber of CDCR#s that are older than 50 years, sentenced to over 20 years, served over 10 years, have eligible current offenses and eligible prior offenses: ', len(el_cdcr_nums_5))"
      ]
    },
    {
      "cell_type": "markdown",
      "metadata": {
        "id": "aXiSfjb_5i4G"
      },
      "source": [
        "### Analyzing individuals in Cohort 1 who meet all 5 conditions"
      ]
    },
    {
      "cell_type": "markdown",
      "metadata": {
        "id": "yD4VcHFeEWP-"
      },
      "source": [
        "Writing results to Excel files"
      ]
    },
    {
      "cell_type": "code",
      "execution_count": null,
      "metadata": {
        "id": "mz75XTDJ8z-Z"
      },
      "outputs": [],
      "source": [
        "# Write data to excel files\n",
        "write_path = '/'.join([data_path, county_name, month, 'adult_eligible_demographics.xlsx'])\n",
        "demographics[demographics['CDCR #'].isin(el_cdcr_nums_5)].to_excel(write_path, index = False)"
      ]
    },
    {
      "cell_type": "code",
      "execution_count": null,
      "metadata": {
        "id": "Xp8_nTjZ-Da4"
      },
      "outputs": [],
      "source": [
        "# Write data to excel files\n",
        "write_path = '/'.join([data_path, county_name, month, 'adult_eligible_currentcommits.xlsx'])\n",
        "current_commits[current_commits['CDCR #'].isin(el_cdcr_nums_5)].to_excel(write_path, index = False)"
      ]
    },
    {
      "cell_type": "markdown",
      "metadata": {
        "id": "DuGAddVXlZAw"
      },
      "source": [
        "Validation of Cohort 1 results with OpenLattice results"
      ]
    },
    {
      "cell_type": "code",
      "execution_count": null,
      "metadata": {
        "id": "z-hYutCElF9P"
      },
      "outputs": [],
      "source": [
        "ol_el_cdcr_nums = pd.read_excel('/'.join([data_path, county_name, 'Rough/LA_DA_Cohort1_Update_05_2021.xlsx']))['CDCR..'].to_list()"
      ]
    },
    {
      "cell_type": "code",
      "execution_count": null,
      "metadata": {
        "id": "gqJxom_plxnv"
      },
      "outputs": [],
      "source": [
        "# Find CDCR numbers eligible in OpenLattice script that are ineligible in this script\n",
        "missing_nums = []\n",
        "for cdcr_num in ol_el_cdcr_nums:\n",
        "  if (cdcr_num in demographics['CDCR #'].tolist()) and (cdcr_num not in el_cdcr_nums_5):\n",
        "    missing_nums.append(cdcr_num)"
      ]
    },
    {
      "cell_type": "code",
      "execution_count": null,
      "metadata": {
        "colab": {
          "base_uri": "https://localhost:8080/"
        },
        "id": "0jiaMKa8lze6",
        "outputId": "2d531281-f667-4676-de0d-23054eb3451f"
      },
      "outputs": [
        {
          "name": "stdout",
          "output_type": "stream",
          "text": [
            "These CDCR numbers are eligible according to OpenLattice script but are ineligible according to this script\n"
          ]
        }
      ],
      "source": [
        "# Missing CDCR numbers\n",
        "d = {}\n",
        "write_path = '/'.join([data_path, county_name, 'Rough', 'ol_validation_.xlsx'])\n",
        "for cdcr_num in missing_nums:\n",
        "  off = current_commits[current_commits['CDCR #'] == cdcr_num]['Offense']\n",
        "  d[cdcr_num] = off.to_list()\n",
        "print('These CDCR numbers are eligible according to OpenLattice script but are ineligible according to this script')\n",
        "\n",
        "df = pd.DataFrame()\n",
        "df['CDCR #'] = d.keys()\n",
        "df['Offenses'] = d.values()\n",
        "df.to_excel(write_path, index = False)"
      ]
    },
    {
      "cell_type": "code",
      "execution_count": null,
      "metadata": {
        "id": "Hqk4SVp6nIcp"
      },
      "outputs": [],
      "source": [
        "# Find CDCR numbers ineligible in this script that are eligible in OpenLattice script\n",
        "missing_nums = []\n",
        "for cdcr_num in el_cdcr_nums_5:\n",
        "  if cdcr_num not in ol_el_cdcr_nums:\n",
        "    missing_nums.append(cdcr_num)"
      ]
    },
    {
      "cell_type": "code",
      "execution_count": null,
      "metadata": {
        "colab": {
          "base_uri": "https://localhost:8080/"
        },
        "id": "5gahLxl5nOSy",
        "outputId": "b8d594be-484c-4642-fd09-5cbead8dcabe"
      },
      "outputs": [
        {
          "name": "stdout",
          "output_type": "stream",
          "text": [
            "W95153 : ['PC273ab(a)'] ;\n",
            "J92166 : ['HS11352(a)', 'PC459 2nd'] ;\n",
            "B93800 : ['PC4573.6', 'PC4501.5'] ;\n",
            "E70632 : ['HS11352(a)', 'PC4501.5'] ;\n",
            "D63858 : ['PC459 2nd', 'PC667.5(b)', 'PC653f(b)'] ;\n",
            "K61926 : ['PC459 2nd', 'PC496(a)', 'VC10851(a)', 'PC667.5(b)'] ;\n",
            "D51388 : ['PC487(a)', 'PC667.5(b)', 'PC667.5(b)'] ;\n",
            "J55139 : ['HS11352(a)', 'PC4501.5'] ;\n",
            "H76450 : ['PC459 2nd'] ;\n",
            "K04404 : ['PC459 2nd'] ;\n",
            "E10624 : ['PC243(c)(2)', 'PC69', 'PC69', 'PC667.5(b)', 'PC667.5(b)'] ;\n",
            "P17300 : ['PC12021(a)(1)', 'PC487(a)', 'PC667.5(b)', 'PC667.5(b)', 'PC667.5(b)'] ;\n",
            "J55475 : ['HS11377(a)'] ;\n",
            "J05277 : ['PC594(b)(1)', 'PC667.5(b)', 'PC667.5(b)', 'PC667.5(b)', 'PC69', 'PC12020(a)', 'PC69', 'PC4501.5'] ;\n",
            "T97387 : ['VC2800.2(a)', 'PC12021(a)(1)', 'PC417.3', 'PC487(d)(1)', 'PC496(a)', 'PC496(a)', 'HS11350(a)', 'PC667.5(b)', 'PC667.5(b)'] ;\n",
            "P04999 : ['PC653f(b)', 'HS11359'] ;\n",
            "K18798 : ['PC459 2nd'] ;\n",
            "K67421 : ['HS11350(a)', 'HS11350(a)'] ;\n",
            "H75595 : ['VC10851(a)', 'PC487(a)', 'PC667.5(b)'] ;\n",
            "H37613 : ['PC459 2nd', 'PC484e(d)'] ;\n",
            "K18473 : ['PC459 2nd'] ;\n",
            "P23535 : ['PC459 2nd', 'PC243.1'] ;\n",
            "F94325 : ['VC10851(a)', 'PC314(1)', 'PC314(1)', 'PC314(1)', 'PC667.5(b)', 'PC667.5(b)', 'PC667.5(b)', 'PC667.5(b)', 'PC667.5(b)', 'PC314(1)', 'PC314(1)', 'PC314(1)', 'PC667.5(b)'] ;\n",
            "G23416 : ['VC23153(a)', 'VC23153(b)', 'PC667(a)', 'PC667(a)', 'PC667(a)'] ;\n",
            "K74804 : ['HS11350(a)', 'HS11364.7(b)'] ;\n",
            "H93860 : ['PC459 2nd'] ;\n",
            "D52218 : ['HS11350(a)', 'HS11350(a)'] ;\n",
            "AK9407 : ['PC487(a)', 'PC667.5(b)', 'PC667.5(b)'] ;\n",
            "AY7957 : ['HS11380(a)', 'HS11380(a)', 'PC667(a)(1)'] ;\n",
            "J06484 : ['HS11350(a)'] ;\n",
            "K31238 : ['HS11351'] ;\n",
            "T69376 : ['PC459 2nd', 'PC496(a)'] ;\n",
            "V39913 : ['PC246.3(a)', 'PC12021(a)(1)', 'PC667(a)'] ;\n",
            "P61283 : ['PC12031(a)', 'PC12021(a)(1)', 'HS11359', 'PC667.5(b)', 'PC496(a)'] ;\n",
            "AS5636 : ['PC245(a)(4)', 'PC667(a)(1)', 'PC667(a)(1)', 'PC667.5(b)'] ;\n",
            "F25372 : ['PC69'] ;\n",
            "F20427 : ['PC12280(b)', 'PC12021(a)(1)', 'PC12316(b)(3)', 'PC4573'] ;\n",
            "G19868 : ['PC245(b)', 'PC12316(b)(3)', 'PC667(a)(1)', 'PC4501.5', 'PC667.5(b)', 'PC667.5(b)'] ;\n",
            "AZ5732 : ['PC245(b)', 'PC29800(a)(1)', 'PC667(a)(1)', 'PC667.5(b)', 'PC667.5(b)', 'PC667.5(b)', 'PC667.5(b)'] ;\n",
            "P35664 : ['VC2800.2(a)', 'PC496(a)', 'VC10851(a)', 'PC667.5(b)'] ;\n",
            "T50703 : ['PC459 2nd', 'PC459 2nd', 'PC459 2nd', 'PC667.5(b)'] ;\n",
            "J89455 : ['VC2800.3', 'PC192(c)(1)'] ;\n",
            "T86941 : ['PC12021(a)(1)'] ;\n",
            "V90161 : ['HS11370.1(a)'] ;\n",
            "AP7951 : ['HS11351', 'HS11378', 'HS11378', 'HS11378', 'HS11378', 'HS11378', 'PC29800(a)(1)', 'PC29800(a)(1)', 'HS11379(a)', 'PC29800(a)(1)', 'PC29800(a)(1)', 'PC29800(a)(1)', 'PC30605(a)', 'PC30305(a)', 'PC22010', 'PC667.5(b)', 'PC667.5(b)', 'PC667.5(b)', 'PC667.5(b)'] ;\n",
            "P02002 : ['PC12021(a)(1)'] ;\n",
            "T13260 : ['PC236', 'PC667.5(b)'] ;\n",
            "T78833 : ['HS11359', 'PC12021(a)(1)'] ;\n",
            "J09681 : ['HS11377(a)'] ;\n",
            "AA1845 : ['PC288.7(b)', 'PC288.7(a)'] ;\n",
            "AC5371 : ['PC487(a)', 'PC532a', 'PC532a', 'PC532a', 'PC532a', 'PC532a', 'PC532a', 'PC532a', 'PC532a', 'PC532a', 'PC470', 'PC470', 'PC470', 'PC470', 'PC470', 'PC470', 'PC470', 'PC470', 'PC470', 'PC470', 'PC470', 'PC470', 'PC470', 'PC470', 'PC470', 'PC470', 'PC470', 'PC470', 'PC470', 'PC470', 'PC470', 'PC470', 'PC115(a)', 'PC115(a)', 'PC115(a)', 'PC115(a)', 'PC115(a)', 'PC115(a)', 'PC115(a)', 'PC115(a)', 'PC115(a)', 'PC115(a)', 'PC530.5(a)', 'PC530.5(a)', 'PC487(a)', 'PC487(a)', 'PC487(a)', 'PC530.5(a)', 'PC487(a)', 'PC487(a)', 'PC487(a)'] ;\n",
            "AI8687 : ['PC288.7(a)', 'PC288.7(a)', 'PC288.7(a)', 'PC288.7(b)'] ;\n",
            "C05259 : ['HS11352(a)', 'HS11351.5', 'PC667.5(b)', 'PC667.5(b)', 'PC667.5(b)', 'PC667.5(b)'] ;\n",
            "C67855 : ['PC459 2nd', 'PC666', 'PC667.5(b)', 'PC667.5(b)', 'PC667.5(b)'] ;\n",
            "C79294 : ['PC459 2nd', 'PC666', 'PC4502(a)', 'PC667.5(b)', 'PC667.5(b)'] ;\n",
            "D01822 : ['PC459 2nd', 'PC4501.1(a)', 'PC4501.1(a)', 'PC4501.5'] ;\n",
            "D13567 : ['PC459 2nd', 'PC4502(a)', 'PC667.5(b)', 'PC667.5(b)'] ;\n",
            "D31571 : ['PC459 2nd', 'PC666'] ;\n",
            "D31738 : ['PC451(c)'] ;\n",
            "D39920 : ['VC2800.2(a)', 'VC10851(a)'] ;\n",
            "D46225 : ['PC417(c)', 'PC417(c)', 'PC417(c)', 'PC417(c)', 'PC417(c)', 'PC417(c)', 'PC417(c)', 'PC417(c)', 'PC246.3(a)', 'PC12021(a)(1)', 'PC667(a)', 'PC667(a)'] ;\n",
            "D46288 : ['HS11351.5', 'PC667.5(b)', 'PC667.5(b)', 'HS11370.2(a)'] ;\n",
            "D74884 : ['PC487(c)', 'PC4502(a)'] ;\n",
            "D75915 : ['PC459 2nd', 'PC667.5(b)', 'PC4502(a)'] ;\n",
            "D77087 : ['HS11350(a)'] ;\n",
            "AK7809 : ['PC273.5(a)', 'PC667(a)', 'PC667(a)'] ;\n",
            "D91091 : ['VC10851(a)', 'PC487(a)', 'PC667.5(b)'] ;\n",
            "D91240 : ['HS11377(a)'] ;\n",
            "D92349 : ['PC487h(a)', 'VC2800.2(a)'] ;\n",
            "E15161 : ['VC2800.2(a)', 'PC314(1)', 'PC314(1)', 'PC314(1)'] ;\n",
            "E19805 : ['PC459 2nd'] ;\n",
            "E40681 : ['PC496(a)'] ;\n",
            "E40951 : ['PC273.5(a)'] ;\n",
            "E48180 : ['PC666', 'PC667.5(b)'] ;\n",
            "E71208 : ['PC487(c)', 'PC667.5(b)'] ;\n",
            "E73930 : ['PC470', 'PC487(a)', 'PC470b', 'PC667.5(b)', 'PC667.5(b)', 'PC667.5(b)'] ;\n",
            "E79342 : ['PC496(a)', 'PC496(a)', 'PC496(a)'] ;\n",
            "E82275 : ['PC520', 'PC667(a)(1)', 'PC667(a)(1)'] ;\n",
            "E92214 : ['PC459 2nd', 'PC459 2nd', 'PC667(a)(1)'] ;\n",
            "F37543 : ['PC273ab(a)', 'PC273a(a)'] ;\n",
            "G39597 : ['PC273ab(a)', 'PC192(b)', 'PC273a(a)'] ;\n",
            "G47658 : ['PC273ab(a)'] ;\n",
            "G52061 : ['PC288.7(a)'] ;\n",
            "H05993 : ['PC12021(a)(1)'] ;\n",
            "H14654 : ['PC12021(a)(1)'] ;\n",
            "H20052 : ['VC2800.2(a)', 'PC4502(a)'] ;\n",
            "H28148 : ['PC12021(a)(1)', 'PC12025(a)(2)'] ;\n",
            "H52361 : ['PC12021(a)(1)'] ;\n",
            "H61117 : ['PC273.5(a)', 'PC4501.5', 'PC69', 'PC69'] ;\n",
            "AV5410 : ['HS11351', 'HS11366.8(a)', 'HS11352(a)', 'HS11351', 'HS11351', 'HS11352(a)', 'HS11370.9(e)', 'PC12021.1(a)', 'HS11370.6(a)', 'HS11370.6(a)', 'HS11352(a)', 'PC4573.6'] ;\n",
            "H73384 : ['PC487(a)', 'PC4502(a)'] ;\n",
            "AR2841 : ['HS11351', 'HS11378', 'HS11370.1(a)', 'HS11370.2(a)'] ;\n",
            "AP6580 : ['PC288.7(a)', 'PC288.7(b)', 'PC288.7(a)'] ;\n",
            "J18278 : ['PC12021(a)(1)', 'PC667.5(b)', 'PC667.5(b)', 'PC667.5(b)', 'PC4573.6', 'PC4502(a)'] ;\n",
            "J42468 : ['HS11352(a)', 'HS11351.5', 'HS11359', 'PC667.5(b)', 'PC314(1)'] ;\n",
            "J43091 : ['PC4573.6'] ;\n",
            "J43891 : ['PC12021(a)(1)', 'PC667.5(b)', 'PC4502(a)'] ;\n",
            "J81236 : ['PC273ab(a)'] ;\n",
            "K01789 : ['PC314(1)', 'PC314(1)', 'PC4501.1(a)', 'PC314(1)'] ;\n",
            "K36166 : ['PC12021(a)(1)', 'PC12031(a)', 'VC2800.2(a)', 'PC32', 'PC667.5(b)'] ;\n",
            "P77299 : ['PC273ab(a)', 'PC192(b)', 'PC273a(a)'] ;\n",
            "T60887 : ['PC245(b)', 'PC12021(a)(1)', 'PC667(a)'] ;\n",
            "AS3641 : ['PC288.7(a)', 'PC288.7(a)', 'PC288.7(a)', 'PC288.7(a)', 'PC288.7(a)', 'PC288.7(a)', 'PC288.7(b)', 'PC288.7(b)'] ;\n",
            "AU4078 : ['PC288.7(a)'] ;\n",
            "BL1841 : ['CC25401', 'CC25401', 'CC25541', 'CC25401', 'PC487(a)', 'PC487(a)', 'CC25401', 'PC487(a)', 'CC25401', 'PC487(a)', 'CC25401', 'PC487(a)', 'CC25401', 'PC487(a)', 'CC25401', 'PC487(a)', 'CC25401', 'PC487(a)', 'CC25401', 'PC487(a)', 'CC25401', 'PC487(a)', 'CC25401', 'PC487(a)', 'CC25401', 'PC487(a)', 'CC25401', 'PC487(a)', 'CC25401', 'PC487(a)', 'PC487(a)', 'PC487(a)', 'CC25401', 'PC487(a)', 'CC25401', 'PC487(a)', 'CC25401', 'PC487(a)', 'CC25401', 'PC487(a)', 'CC25401', 'PC487(a)', 'CC25401', 'PC487(a)', 'CC25401', 'PC487(a)', 'CC25401', 'PC487(a)', 'CC25401', 'PC487(a)', 'CC25401', 'PC487(a)', 'CC25401', 'PC487(a)', 'CC25401', 'PC487(a)', 'CC25401', 'PC487(a)', 'CC25401', 'PC487(a)', 'CC25401', 'PC487(a)', 'PC487(a)', 'PC487(a)', 'PC487(a)', 'CC25401', 'CC25401', 'CC25401', 'CC25401', 'PC487(a)', 'CC25401', 'PC487(a)', 'CC25401', 'PC487(a)', 'CC25401', 'PC487(a)', 'CC25401', 'PC487(a)', 'CC25401', 'PC487(a)', 'CC25401', 'PC487(a)', 'CC25401', 'PC487(a)', 'CC25401', 'PC487(a)', 'CC25401', 'PC487(a)', 'CC25401', 'PC487(a)', 'CC25401', 'PC487(a)', 'CC25401', 'PC487(a)', 'CC25401', 'PC487(a)', 'CC25401', 'PC487(a)', 'CC25401', 'PC487(a)', 'CC25401', 'PC487(a)', 'PC487(a)', 'CC25401', 'PC487(a)', 'CC25401', 'PC487(a)', 'CC25401', 'PC487(a)', 'CC25401', 'PC487(a)', 'CC25401', 'PC487(a)', 'CC25401', 'PC487(a)', 'CC25401', 'PC487(a)', 'CC25401', 'PC487(a)', 'CC25401', 'PC487(a)', 'CC25401', 'PC487(a)', 'CC25401', 'PC487(a)', 'CC25401', 'PC487(a)', 'CC25401', 'PC487(a)', 'CC25401', 'PC487(a)', 'CC25401', 'PC487(a)', 'CC25401', 'PC487(a)', 'CC25401', 'PC487(a)', 'CC25401'] ;\n",
            "These CDCR numbers are eligible according to this script but are ineligible according to OpenLattice script\n"
          ]
        }
      ],
      "source": [
        "# Missing CDCR numbers\n",
        "for cdcr_num in missing_nums:\n",
        "  off = current_commits[current_commits['CDCR #'] == cdcr_num]['Offense']\n",
        "  print(cdcr_num, ':', off.to_list(), ';')\n",
        "print('These CDCR numbers are eligible according to this script but are ineligible according to OpenLattice script')"
      ]
    },
    {
      "cell_type": "markdown",
      "metadata": {
        "id": "v1cEEJiUHAQR"
      },
      "source": [
        "Individual details"
      ]
    },
    {
      "cell_type": "code",
      "execution_count": null,
      "metadata": {
        "id": "UIJ9VeLAHHSZ"
      },
      "outputs": [],
      "source": [
        "# Write data to excel files\n",
        "write_path = '/'.join([data_path, county_name, month, 'summary_adult.xlsx'])"
      ]
    },
    {
      "cell_type": "code",
      "execution_count": null,
      "metadata": {
        "id": "9Dj-jrWyHDJq"
      },
      "outputs": [],
      "source": [
        "# Get demographics data\n",
        "df = demographics.loc[demographics['CDCR #'].isin(el_cdcr_nums_5)][['CDCR #', 'Current Security Level', 'Controlling Offense',\n",
        "                                                                    'Current Classication Score', 'Classification Score 5 Years\\nAgo',\n",
        "                                                                    'Mental Health Level of Care', 'DPPV Disability - Mobility']]\n",
        "\n",
        "# Remove new-line\n",
        "df.rename(columns = {'Classification Score 5 Years\\nAgo': 'Classification Score 5 Years Ago'}, inplace = True)\n",
        "rv_report.rename(columns = {'Rule\\nViolation\\nDate': 'Rule Violation Date'}, inplace = True)\n",
        "\n",
        "# Format mobility disability\n",
        "df['DPPV Disability - Mobility'] = df['DPPV Disability - Mobility'].str.replace('Impacting Placement', '')\n",
        "\n",
        "# Initialize lists for other variables\n",
        "current_conv = []\n",
        "prior_conv = []\n",
        "programming = []\n",
        "rvr = []\n",
        "for cdcr_num in df['CDCR #']:\n",
        "  # Current convictions\n",
        "  current_conv.append(', '.join(current_commits[current_commits['CDCR #'] == cdcr_num]['Offense'].tolist()))\n",
        "  # Previous convictions\n",
        "  prior_conv.append(', '.join(prior_commits[prior_commits['CDCR #'] == cdcr_num]['Offense'].tolist()))\n",
        "  # Participation in programming\n",
        "  if (cdcr_num in merit_credit['Cdcno']) or (cdcr_num in milestone_credit['Cdcno']) or (cdcr_num in rehab_credit['Cdcno']) or (cdcr_num in voced_credit['Cdcno']):\n",
        "    programming.append('Yes')\n",
        "  else:\n",
        "    programming.append('No')\n",
        "  # Rule violation reports\n",
        "  ext = rv_report[rv_report['CDCR\\nNumber'] == cdcr_num][['Rule Violation Date', 'Division', 'Rule Violation']].reset_index(drop = True).to_dict('index')\n",
        "  rvr.append(\"\\n\\n\".join(\"\\n\".join(k_b + ': ' + str(v_b) for k_b, v_b in v_a.items()) for k_a, v_a in ext.items()))\n",
        "\n",
        "# Store lists in dataframe\n",
        "df['Current Convictions'] = current_conv\n",
        "df['Prior Convictions'] = prior_conv\n",
        "df['Programming'] = programming\n",
        "df['Rules Violations'] = rvr\n",
        "\n",
        "# Write data to excel files\n",
        "df.to_excel(write_path, index = False)"
      ]
    },
    {
      "cell_type": "markdown",
      "metadata": {
        "id": "y3Cc6WadD8jQ"
      },
      "source": [
        "Exploring Cohort 1 offenses, racial makeup, penal codes\n",
        "\n"
      ]
    },
    {
      "cell_type": "code",
      "execution_count": null,
      "metadata": {
        "colab": {
          "base_uri": "https://localhost:8080/"
        },
        "id": "rQK7aTLP5iC5",
        "outputId": "91c5e5f9-5aa4-4ba4-ef36-ab84f64640c5"
      },
      "outputs": [
        {
          "name": "stdout",
          "output_type": "stream",
          "text": [
            "Top 20 offenses of individuals in Cohort 1 who meet all 5 eligibility conditions (from demographics data)\n",
            "POSS F/A EX-FEL                                                 72\n",
            "Burglary 2nd                                                    18\n",
            "Inflict Corporal Injury on Spouse/Cohabitant                    13\n",
            "Evade or Att to Evade Peace Officer while Driving Recklessly    13\n",
            "Transport/Sell Controlled Substance                             12\n",
            "Vehicle Theft                                                   10\n",
            "Possess Controlled Substance                                     9\n",
            "Possession of Controlled Substance                               8\n",
            "Assault with Semiautomatic Firearm                               8\n",
            "Possess/Purchase Cocaine for Sale                                7\n",
            "Possess Controlled Substance for Sale                            7\n",
            "Petty Theft With Prior                                           6\n",
            "Adult Engages Sex/Sodomy W/Child 10 yrs old or Younger           6\n",
            "Receiving Stolen Property                                        6\n",
            "Assault Child w/Force Likely Produce GBI Resulting in Death      6\n",
            "False Imprisonment                                               5\n",
            "Grand Theft Exceeding $400                                       4\n",
            "Carry Loaded Firearm                                             3\n",
            "Possession CS in Jail/Prison                                     3\n",
            "Possession of CS While Armed w/Loaded Firearm                    3\n",
            "Name: Description, dtype: int64\n"
          ]
        }
      ],
      "source": [
        "print('Top 20 offenses of individuals in Cohort 1 who meet all 5 eligibility conditions (from demographics data)')\n",
        "print(demographics[demographics['CDCR #'].isin(el_cdcr_nums_5)]['Description'].value_counts()[0:20])"
      ]
    },
    {
      "cell_type": "code",
      "execution_count": null,
      "metadata": {
        "colab": {
          "base_uri": "https://localhost:8080/"
        },
        "id": "qJ49bxsI4XDZ",
        "outputId": "0b4fa2ed-3c6c-46a6-ec56-7a947d5877e0"
      },
      "outputs": [
        {
          "name": "stdout",
          "output_type": "stream",
          "text": [
            "Top 20 offenses of individuals in Cohort 1 who meet all 5 eligibility conditions (from demographics data)\n"
          ]
        },
        {
          "data": {
            "text/plain": [
              "PC12021(a)(1)    72\n",
              "PC459 2nd        18\n",
              "PC273.5(a)       13\n",
              "VC2800.2(a)      13\n",
              "HS11352(a)       12\n",
              "VC10851(a)       10\n",
              "HS11350(a)        9\n",
              "HS11377(a)        8\n",
              "PC245(b)          8\n",
              "HS11351.5         7\n",
              "HS11351           7\n",
              "PC666             6\n",
              "PC288.7(a)        6\n",
              "PC496(a)          6\n",
              "PC273ab(a)        6\n",
              "PC236             5\n",
              "PC487(a)          4\n",
              "PC12031(a)        3\n",
              "PC4573.6          3\n",
              "HS11370.1(a)      3\n",
              "Name: Controlling Offense, dtype: int64"
            ]
          },
          "execution_count": 35,
          "metadata": {},
          "output_type": "execute_result"
        }
      ],
      "source": [
        "print('Top 20 offenses of individuals in Cohort 1 who meet all 5 eligibility conditions (from demographics data)')\n",
        "demographics[demographics['CDCR #'].isin(el_cdcr_nums_5)]['Controlling Offense'].value_counts()[0:20]"
      ]
    },
    {
      "cell_type": "code",
      "execution_count": null,
      "metadata": {
        "colab": {
          "base_uri": "https://localhost:8080/"
        },
        "id": "0_aVpADcT5wI",
        "outputId": "cea26b84-717f-435e-f50b-bf2baf137887"
      },
      "outputs": [
        {
          "name": "stdout",
          "output_type": "stream",
          "text": [
            "Top 20 offenses of individuals in Cohort 1 who meet all 5 eligibility conditions (from current commits data)\n"
          ]
        },
        {
          "data": {
            "text/plain": [
              "PC667.5(b)       221\n",
              "PC12021(a)(1)    105\n",
              "PC487(a)          83\n",
              "CC25401           68\n",
              "PC496(a)          24\n",
              "PC470             24\n",
              "PC459 2nd         23\n",
              "PC667(a)          22\n",
              "PC4502(a)         21\n",
              "HS11352(a)        18\n",
              "VC2800.2(a)       18\n",
              "PC273.5(a)        18\n",
              "VC10851(a)        18\n",
              "HS11350(a)        15\n",
              "HS11351           15\n",
              "PC245(b)          14\n",
              "PC4573.6          14\n",
              "PC288.7(a)        14\n",
              "PC314(1)          13\n",
              "PC69              12\n",
              "Name: Offense, dtype: int64"
            ]
          },
          "execution_count": 36,
          "metadata": {},
          "output_type": "execute_result"
        }
      ],
      "source": [
        "print('Top 20 offenses of individuals in Cohort 1 who meet all 5 eligibility conditions (from current commits data)')\n",
        "current_commits[current_commits['CDCR #'].isin(el_cdcr_nums_5)]['Offense'].value_counts()[0:20]"
      ]
    },
    {
      "cell_type": "code",
      "execution_count": null,
      "metadata": {
        "colab": {
          "base_uri": "https://localhost:8080/"
        },
        "id": "Y3_NRZXOz2t8",
        "outputId": "47231e63-cbf1-4c9d-d984-91048bfc8b92"
      },
      "outputs": [
        {
          "name": "stdout",
          "output_type": "stream",
          "text": [
            "Sex offenses of individuals in Cohort 1 who meet all 5 eligibility conditions\n",
            "No     232\n",
            "Yes     36\n",
            "Name: Sex Registrant, dtype: int64\n"
          ]
        }
      ],
      "source": [
        "print('Sex offenses of individuals in Cohort 1 who meet all 5 eligibility conditions')\n",
        "print(demographics[demographics['CDCR #'].isin(el_cdcr_nums_5)]['Sex Registrant'].value_counts())"
      ]
    },
    {
      "cell_type": "code",
      "execution_count": null,
      "metadata": {
        "colab": {
          "base_uri": "https://localhost:8080/"
        },
        "id": "Vs9wJsBHz0v5",
        "outputId": "6830e6b5-531a-4fb7-956e-b51e3871d4ed"
      },
      "outputs": [
        {
          "name": "stdout",
          "output_type": "stream",
          "text": [
            "Type of offenses of individuals in Cohort 1 who meet all 5 eligibility conditions\n",
            "Other Crimes              98\n",
            "Crimes Against Persons    58\n",
            "Drug Crimes               57\n",
            "Property Crimes           55\n",
            "Name: Offense Category, dtype: int64\n"
          ]
        }
      ],
      "source": [
        "print('Type of offenses of individuals in Cohort 1 who meet all 5 eligibility conditions')\n",
        "print(demographics[demographics['CDCR #'].isin(el_cdcr_nums_5)]['Offense Category'].value_counts())"
      ]
    },
    {
      "cell_type": "code",
      "execution_count": null,
      "metadata": {
        "colab": {
          "base_uri": "https://localhost:8080/",
          "height": 447
        },
        "id": "_GRcZufpzGlD",
        "outputId": "47943f22-9b97-41ed-e4d2-529f48a06463"
      },
      "outputs": [
        {
          "name": "stdout",
          "output_type": "stream",
          "text": [
            "Ethnicities of the individuals in Cohort 1 who meet all 5 eligibility criteria\n"
          ]
        },
        {
          "data": {
            "image/png": "[encoded data removed]",
            "text/plain": [
              "<Figure size 640x480 with 1 Axes>"
            ]
          },
          "metadata": {},
          "output_type": "display_data"
        }
      ],
      "source": [
        "demographics[(demographics['Ethnicity'].isin(['Black', 'White', 'Hispanic', 'Mexican', 'Other'])) & (demographics['CDCR #'].isin(el_cdcr_nums_5))]['Ethnicity'].hist()\n",
        "print('Ethnicities of the individuals in Cohort 1 who meet all 5 eligibility criteria')"
      ]
    },
    {
      "cell_type": "code",
      "execution_count": null,
      "metadata": {
        "colab": {
          "base_uri": "https://localhost:8080/",
          "height": 537
        },
        "id": "aH4KpVVNzc3q",
        "outputId": "f42e2f7d-cff8-42ee-bd5b-50647ca7ecf9"
      },
      "outputs": [
        {
          "name": "stdout",
          "output_type": "stream",
          "text": [
            "Ethnicities of the individuals in Cohort 1 who meet all 5 eligibility criteria\n"
          ]
        },
        {
          "data": {
            "image/png": "[encoded data removed]",
            "text/plain": [
              "<Figure size 640x480 with 1 Axes>"
            ]
          },
          "metadata": {},
          "output_type": "display_data"
        }
      ],
      "source": [
        "demographics[(~demographics['Ethnicity'].isin(['Black', 'White', 'Hispanic', 'Mexican', 'Other'])) & (demographics['CDCR #'].isin(el_cdcr_nums_5))]['Ethnicity'].hist(xrot = 90)\n",
        "print('Ethnicities of the individuals in Cohort 1 who meet all 5 eligibility criteria')"
      ]
    },
    {
      "cell_type": "markdown",
      "metadata": {
        "id": "zhxCxjtxMHEt"
      },
      "source": [
        "#Conditions for Qualification\n",
        "\n",
        "Cohort 1\n",
        "\n",
        "Adults\n",
        "\n",
        "\n",
        "\n",
        "1.   Age 50 and older; AND\n",
        "2.   Sentenced to 20 years or more; AND\n",
        "3.   Served a minimum of 10 years in custody; AND\n",
        "4.   Is not serving a current sentence for any offense listed in Table A, B, C, or D, AND\n",
        "5.   Does not have a prior conviction for any offense listed in Tables C & D\n",
        "\n",
        "Cohort 2\n",
        "\n",
        "Minors Tried as Adults\n",
        "\n",
        "1.   Sentenced for a crime that was committed at age 14 or 15; AND\n",
        "2.   Not serving current sentence for any offense listed in Table E or D; AND\n",
        "3. Has served a minimum of 10 years in custody; AND\n",
        "4. Does not have a prior conviction for any offense listed in Table D."
      ]
    },
    {
      "cell_type": "markdown",
      "metadata": {
        "id": "-7JXTY-nw_XV"
      },
      "source": [
        "# Identify Candidates: Juvenile (Part 3/4)\n",
        "\n",
        "Conditions to search:\n",
        "\n",
        "  1., 2. for Cohort 2\n",
        "\n"
      ]
    },
    {
      "cell_type": "code",
      "execution_count": null,
      "metadata": {
        "colab": {
          "base_uri": "https://localhost:8080/"
        },
        "id": "zFbV8fcBMf6_",
        "outputId": "7f96896e-bce7-47dd-a75b-37475afa895b"
      },
      "outputs": [
        {
          "name": "stdout",
          "output_type": "stream",
          "text": [
            "Number of CDCR#s that committed offenses at the age of 14 to 15:  245\n"
          ]
        }
      ],
      "source": [
        "# Extracting CDCR numbers that meet the age criteria\n",
        "el_cdcr_nums_1 = []\n",
        "el_cdcr_nums_1 = demographics[(demographics['Age during offense'] < 16) & (demographics['Age during offense'] >= 14)]['CDCR #'].to_list()\n",
        "print('Number of CDCR#s that committed offenses at the age of 14 to 15: ', len(el_cdcr_nums_1))"
      ]
    },
    {
      "cell_type": "code",
      "execution_count": null,
      "metadata": {
        "colab": {
          "base_uri": "https://localhost:8080/"
        },
        "id": "5FFl9cEPNhhK",
        "outputId": "a0803f48-23a1-4f45-b4a9-483216e45a42"
      },
      "outputs": [
        {
          "name": "stderr",
          "output_type": "stream",
          "text": [
            "100%|██████████| 245/245 [00:02<00:00, 85.08it/s]"
          ]
        },
        {
          "name": "stdout",
          "output_type": "stream",
          "text": [
            "\n",
            "Number of CDCR#s that committed offenses at age 14 and 15 and have eligible current offenses:  62\n"
          ]
        },
        {
          "name": "stderr",
          "output_type": "stream",
          "text": [
            "\n"
          ]
        }
      ],
      "source": [
        "# Extracting ineligible offenses from sorting criteria\n",
        "inel_offenses = sorting_criteria[sorting_criteria['Table'].isin(['Table E', 'Table D'])]['Offenses'].tolist()\n",
        "inel_offenses = gen_inel_off(inel_offenses, clean = True, impl = {'187': [\"2nd\", \"(664)\"]}, perm = 2)\n",
        "\n",
        "# Clean offense data in current commits file\n",
        "current_commits['Offense cleaned'] = clean_offense_blk(data = current_commits['Offense'])\n",
        "\n",
        "# Extracting CDCR numbers that meet the age criteria and offense eligibility\n",
        "el_cdcr_nums_2 = []\n",
        "for cdcr_num in tqdm(el_cdcr_nums_1):\n",
        "  # Extracting offenses of the CDCR number\n",
        "  offenses = current_commits[current_commits['CDCR #'] == cdcr_num]['Offense cleaned'].unique()\n",
        "  if len(det_inel_off(offenses = offenses, inel_offenses = inel_offenses, pop = 'juvenile')) == 0:\n",
        "    el_cdcr_nums_2.append(cdcr_num)\n",
        "\n",
        "print('\\nNumber of CDCR#s that committed offenses at age 14 and 15 and have eligible current offenses: ', len(el_cdcr_nums_2))"
      ]
    },
    {
      "cell_type": "markdown",
      "metadata": {
        "id": "8XDHMbo59m0u"
      },
      "source": [
        "# Identify Candidates: Juvenile (Part 4/4)\n",
        "\n",
        "Conditions to search:\n",
        "3. and 4. for Cohort 2"
      ]
    },
    {
      "cell_type": "code",
      "execution_count": null,
      "metadata": {
        "colab": {
          "base_uri": "https://localhost:8080/"
        },
        "id": "5Vx6OynORlIS",
        "outputId": "84093ae6-74f0-4c4c-861d-b2c89e6f940b"
      },
      "outputs": [
        {
          "name": "stdout",
          "output_type": "stream",
          "text": [
            "Number of CDCR#s that committed offenses at age 14 and 15, have eligible current offenses and served more than 10 years:  60\n"
          ]
        }
      ],
      "source": [
        "# Extracting CDCR numbers that met the age and offense criteria that also meet the time served criteria\n",
        "el_cdcr_nums_3 = []\n",
        "el_cdcr_nums_3 = demographics[(demographics['Time served in years'] >= 10) & demographics['CDCR #'].isin(el_cdcr_nums_2)]['CDCR #'].to_list()\n",
        "print('Number of CDCR#s that committed offenses at age 14 and 15, have eligible current offenses and served more than 10 years: ', len(el_cdcr_nums_3))"
      ]
    },
    {
      "cell_type": "code",
      "execution_count": null,
      "metadata": {
        "colab": {
          "base_uri": "https://localhost:8080/"
        },
        "id": "TYuxdveQVFTk",
        "outputId": "2bf103a2-8965-4ded-a1c9-2be541800e95"
      },
      "outputs": [
        {
          "name": "stderr",
          "output_type": "stream",
          "text": [
            "100%|██████████| 60/60 [00:00<00:00, 149.03it/s]"
          ]
        },
        {
          "name": "stdout",
          "output_type": "stream",
          "text": [
            "\n",
            "Number of CDCR#s that committed offenses at age 14 and 15, have eligible current and prior offenses, and served more than 10 years:  60\n"
          ]
        },
        {
          "name": "stderr",
          "output_type": "stream",
          "text": [
            "\n"
          ]
        }
      ],
      "source": [
        "# Extracting ineligible offenses from sorting criteria\n",
        "inel_offenses = sorting_criteria[sorting_criteria['Table'].isin(['Table D'])]['Offenses'].tolist()\n",
        "inel_offenses = gen_inel_off(inel_offenses, clean = True, impl = {'187': [\"2nd\", \"(664)\"]}, perm = 2)\n",
        "\n",
        "# Clean offense data in current commits file\n",
        "prior_commits['Offense cleaned'] = clean_offense_blk(data = prior_commits['Offense'])\n",
        "\n",
        "# Extracting CDCR numbers that met the age, time sentenced and current and prior offense eligibility criteria\n",
        "el_cdcr_nums_4 = []\n",
        "for cdcr_num in tqdm(el_cdcr_nums_3):\n",
        "  offenses = prior_commits[prior_commits['CDCR #'] == cdcr_num]['Offense cleaned'].unique()\n",
        "  if len(det_inel_off(offenses = offenses, inel_offenses = inel_offenses, pop = 'juvenile')) == 0:\n",
        "    el_cdcr_nums_4.append(cdcr_num)\n",
        "\n",
        "print('\\nNumber of CDCR#s that committed offenses at age 14 and 15, have eligible current and prior offenses, and served more than 10 years: ', len(el_cdcr_nums_4))"
      ]
    },
    {
      "cell_type": "markdown",
      "metadata": {
        "id": "5U-8q-WEbGEN"
      },
      "source": [
        "Individuals in Cohort 2 who meet all the eligibility criteria"
      ]
    },
    {
      "cell_type": "code",
      "execution_count": null,
      "metadata": {
        "id": "dzACkkEz-Sib"
      },
      "outputs": [],
      "source": [
        "# Write data to excel files\n",
        "write_path = '/'.join([data_path, county_name, month, 'juvenile_eligible_demographics.xlsx'])\n",
        "demographics[demographics['CDCR #'].isin(el_cdcr_nums_4)].to_excel(write_path, index = False)"
      ]
    },
    {
      "cell_type": "code",
      "execution_count": null,
      "metadata": {
        "id": "H9pT2J7V-VJ4"
      },
      "outputs": [],
      "source": [
        "# Write data to excel files\n",
        "write_path = '/'.join([data_path, county_name, month, 'juvenile_eligible_currentcommits.xlsx'])\n",
        "current_commits[current_commits['CDCR #'].isin(el_cdcr_nums_4)].to_excel(write_path, index = False)"
      ]
    },
    {
      "cell_type": "markdown",
      "metadata": {
        "id": "Pg2kWkT5EIK8"
      },
      "source": [
        "Exploring Cohort 1 offenses, racial makeup, penal codes\n"
      ]
    },
    {
      "cell_type": "code",
      "execution_count": null,
      "metadata": {
        "colab": {
          "base_uri": "https://localhost:8080/"
        },
        "id": "58m09ff7bHsR",
        "outputId": "d2e57d0a-5908-404b-f371-5eff0fed6fdd"
      },
      "outputs": [
        {
          "name": "stdout",
          "output_type": "stream",
          "text": [
            "Top 20 offenses of individuals in Cohort 2 who meet all 4 eligibility conditions (from demographics data)\n",
            "Voluntary Manslaughter                                   18\n",
            "Robbery 2nd                                              17\n",
            "Carjacking                                               10\n",
            "Discharge Firearm Inhabited Dwelling/Vehicle/Aircraft     3\n",
            "Kidnap/Carjacking                                         3\n",
            "Assault with Semiautomatic Firearm                        2\n",
            "Assault with a Firearm                                    2\n",
            "Robbery 1st                                               2\n",
            "Kidnap                                                    1\n",
            "Assault w/Firearm on Peace Officer/Firefighter            1\n",
            "Assault with Intent to Commit Sex Offense /Burglary       1\n",
            "Name: Description, dtype: int64\n"
          ]
        }
      ],
      "source": [
        "print('Top 20 offenses of individuals in Cohort 2 who meet all 4 eligibility conditions (from demographics data)')\n",
        "print(demographics[demographics['CDCR #'].isin(el_cdcr_nums_4)]['Description'].value_counts()[0:20])"
      ]
    },
    {
      "cell_type": "code",
      "execution_count": null,
      "metadata": {
        "colab": {
          "base_uri": "https://localhost:8080/"
        },
        "id": "qgMqbkkTbYW0",
        "outputId": "038e5795-32fa-471d-b304-bb98b838bb38"
      },
      "outputs": [
        {
          "name": "stdout",
          "output_type": "stream",
          "text": [
            "Top 20 offenses of individuals in Cohort 2 who meet all 4 eligibility conditions (from demographics data)\n"
          ]
        },
        {
          "data": {
            "text/plain": [
              "PC192(a)       18\n",
              "PC212.5(c)     17\n",
              "PC215          10\n",
              "PC246           3\n",
              "PC209.5(a)      3\n",
              "PC245(b)        2\n",
              "PC245(a)(2)     2\n",
              "PC212.5(a)      2\n",
              "PC207(a)        1\n",
              "PC245(d)(1)     1\n",
              "PC220(b)        1\n",
              "Name: Controlling Offense, dtype: int64"
            ]
          },
          "execution_count": 48,
          "metadata": {},
          "output_type": "execute_result"
        }
      ],
      "source": [
        "print('Top 20 offenses of individuals in Cohort 2 who meet all 4 eligibility conditions (from demographics data)')\n",
        "demographics[demographics['CDCR #'].isin(el_cdcr_nums_4)]['Controlling Offense'].value_counts()[0:20]"
      ]
    },
    {
      "cell_type": "code",
      "execution_count": null,
      "metadata": {
        "colab": {
          "base_uri": "https://localhost:8080/"
        },
        "id": "PIkLYbeQbeTY",
        "outputId": "117cf88a-a61f-43e1-a9c1-1c4ffaca0394"
      },
      "outputs": [
        {
          "name": "stdout",
          "output_type": "stream",
          "text": [
            "Sex offenses of individuals in Cohort 2 who meet all 4 eligibility conditions\n",
            "No     59\n",
            "Yes     1\n",
            "Name: Sex Registrant, dtype: int64\n"
          ]
        }
      ],
      "source": [
        "print('Sex offenses of individuals in Cohort 2 who meet all 4 eligibility conditions')\n",
        "print(demographics[demographics['CDCR #'].isin(el_cdcr_nums_4)]['Sex Registrant'].value_counts())"
      ]
    },
    {
      "cell_type": "code",
      "execution_count": null,
      "metadata": {
        "colab": {
          "base_uri": "https://localhost:8080/"
        },
        "id": "ZGuX9PXvb-u2",
        "outputId": "eb618b8e-8e42-4891-aa64-55fdde1f10b6"
      },
      "outputs": [
        {
          "name": "stdout",
          "output_type": "stream",
          "text": [
            "Type of offenses of individuals in Cohort 2 who meet all 4 eligibility conditions\n",
            "Crimes Against Persons    60\n",
            "Name: Offense Category, dtype: int64\n"
          ]
        }
      ],
      "source": [
        "print('Type of offenses of individuals in Cohort 2 who meet all 4 eligibility conditions')\n",
        "print(demographics[demographics['CDCR #'].isin(el_cdcr_nums_4)]['Offense Category'].value_counts())"
      ]
    },
    {
      "cell_type": "code",
      "execution_count": null,
      "metadata": {
        "colab": {
          "base_uri": "https://localhost:8080/",
          "height": 447
        },
        "id": "YTi93OZOcBmX",
        "outputId": "15818d9f-084a-4a01-cad0-0d6b1f26165c"
      },
      "outputs": [
        {
          "name": "stdout",
          "output_type": "stream",
          "text": [
            "Ethnicities of the individuals in Cohort 2 who meet all 4 eligibility criteria\n"
          ]
        },
        {
          "data": {
            "image/png": "[encoded data removed]",
            "text/plain": [
              "<Figure size 640x480 with 1 Axes>"
            ]
          },
          "metadata": {},
          "output_type": "display_data"
        }
      ],
      "source": [
        "demographics[(demographics['Ethnicity'].isin(['Black', 'White', 'Hispanic', 'Mexican', 'Other'])) & (demographics['CDCR #'].isin(el_cdcr_nums_4))]['Ethnicity'].hist()\n",
        "print('Ethnicities of the individuals in Cohort 2 who meet all 4 eligibility criteria')"
      ]
    },
    {
      "cell_type": "markdown",
      "metadata": {
        "id": "m11RmfKe1SNn"
      },
      "source": [
        "Generate summary\n"
      ]
    },
    {
      "cell_type": "code",
      "execution_count": null,
      "metadata": {
        "id": "RtQfZ1cZBe6B"
      },
      "outputs": [],
      "source": [
        "# Write data to excel files\n",
        "write_path = '/'.join([data_path, county_name, month, 'summary_juvenile.xlsx'])"
      ]
    },
    {
      "cell_type": "code",
      "execution_count": null,
      "metadata": {
        "id": "ZV1dJZ-J0wKo"
      },
      "outputs": [],
      "source": [
        "# Get demographics data\n",
        "df = demographics.loc[demographics['CDCR #'].isin(el_cdcr_nums_4)][['CDCR #', 'Current Security Level', 'Controlling Offense',\n",
        "                                                                    'Current Classication Score', 'Classification Score 5 Years\\nAgo',\n",
        "                                                                    'Mental Health Level of Care', 'DPPV Disability - Mobility']]\n",
        "\n",
        "# Remove new-line\n",
        "df.rename(columns = {'Classification Score 5 Years\\nAgo': 'Classification Score 5 Years Ago'}, inplace = True)\n",
        "rv_report.rename(columns = {'Rule\\nViolation\\nDate': 'Rule Violation Date'}, inplace = True)\n",
        "\n",
        "# Format mobility disability\n",
        "df['DPPV Disability - Mobility'] = df['DPPV Disability - Mobility'].str.replace('Impacting Placement', '')\n",
        "\n",
        "# Initialize lists for other variables\n",
        "current_conv = []\n",
        "prior_conv = []\n",
        "programming = []\n",
        "rvr = []\n",
        "for cdcr_num in df['CDCR #']:\n",
        "  # Current convictions\n",
        "  current_conv.append(', '.join(current_commits[current_commits['CDCR #'] == cdcr_num]['Offense'].tolist()))\n",
        "  # Previous convictions\n",
        "  prior_conv.append(', '.join(prior_commits[prior_commits['CDCR #'] == cdcr_num]['Offense'].tolist()))\n",
        "  # Participation in programming\n",
        "  if (cdcr_num in merit_credit['Cdcno']) or (cdcr_num in milestone_credit['Cdcno']) or (cdcr_num in rehab_credit['Cdcno']) or (cdcr_num in voced_credit['Cdcno']):\n",
        "    programming.append('Yes')\n",
        "  else:\n",
        "    programming.append('No')\n",
        "  # Rule violation reports\n",
        "  ext = rv_report[rv_report['CDCR\\nNumber'] == cdcr_num][['Rule Violation Date', 'Division', 'Rule Violation']].reset_index(drop = True).to_dict('index')\n",
        "  rvr.append(\"\\n\\n\".join(\"\\n\".join(k_b + ': ' + str(v_b) for k_b, v_b in v_a.items()) for k_a, v_a in ext.items()))\n",
        "\n",
        "# Store lists in dataframe\n",
        "df['Current Convictions'] = current_conv\n",
        "df['Prior Convictions'] = prior_conv\n",
        "df['Programming'] = programming\n",
        "df['Rules Violations'] = rvr\n",
        "\n",
        "# Write data to excel files\n",
        "df.to_excel(write_path, index = False)"
      ]
    }
  ],
  "metadata": {
    "colab": {
      "provenance": []
    },
    "kernelspec": {
      "display_name": "Python 3 (ipykernel)",
      "language": "python",
      "name": "python3"
    },
    "language_info": {
      "codemirror_mode": {
        "name": "ipython",
        "version": 3
      },
      "file_extension": ".py",
      "mimetype": "text/x-python",
      "name": "python",
      "nbconvert_exporter": "python",
      "pygments_lexer": "ipython3",
      "version": "3.11.5"
    }
  },
  "nbformat": 4,
  "nbformat_minor": 0
}